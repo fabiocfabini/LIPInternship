{
 "cells": [
  {
   "cell_type": "code",
   "execution_count": 83,
   "metadata": {},
   "outputs": [],
   "source": [
    "from dataset import BKG, SIG, AtlasDataset\n",
    "from loss_functions import mse_loss, mae_loss\n",
    "from preprocess import train_val_test_split, normalize\n",
    "\n",
    "from torch.utils.tensorboard import SummaryWriter\n",
    "from torch.utils.data import DataLoader\n",
    "from sklearn.preprocessing import StandardScaler\n",
    "from sklearn.metrics import roc_auc_score, roc_curve\n",
    "\n",
    "import numpy as np\n",
    "import pandas as pd\n",
    "import torch\n",
    "import torch.nn as nn\n",
    "import matplotlib.pyplot as plt\n",
    "\n",
    "torch.set_default_dtype(torch.float64)"
   ]
  },
  {
   "cell_type": "code",
   "execution_count": 100,
   "metadata": {},
   "outputs": [
    {
     "name": "stdout",
     "output_type": "stream",
     "text": [
      "cuda\n"
     ]
    }
   ],
   "source": [
    "device = torch.device(\"cuda\" if torch.cuda.is_available() else \"cpu\")\n",
    "print(device)"
   ]
  },
  {
   "cell_type": "code",
   "execution_count": 85,
   "metadata": {},
   "outputs": [],
   "source": [
    "from typing import List\n",
    "\n",
    "class AutoEncoder(nn.Module):\n",
    "    def __init__(self, input_dim: int, latent_dim: int, arch: List[int]):\n",
    "        super().__init__()\n",
    "\n",
    "        self.input_dim = input_dim\n",
    "        self.latent_dim = latent_dim\n",
    "        self.arch = arch\n",
    "\n",
    "        if len(arch) == 0:\n",
    "            raise ValueError(\"Encoder architecture must have at least one layer\")\n",
    "\n",
    "        if latent_dim >= arch[-1]:\n",
    "            raise ValueError(\"Latent dimension must be smaller than the last encoder layer\")\n",
    "\n",
    "        self.encoder = self._encoder()\n",
    "        self.decoder = self._decoder()\n",
    "\n",
    "    def _encoder(self) -> nn.Sequential:\n",
    "        self.encoder = nn.Sequential(\n",
    "            nn.Linear(self.input_dim, self.arch[0]),\n",
    "            nn.ReLU()\n",
    "        )\n",
    "\n",
    "        for i in range(1, len(self.arch)):\n",
    "            self.encoder.add_module(f\"fc({i})\", nn.Linear(self.arch[i - 1], self.arch[i]))\n",
    "            self.encoder.add_module(f\"A({i})\", nn.ReLU())\n",
    "\n",
    "        self.encoder.add_module(f\"A({i+1})\", nn.ReLU())\n",
    "        self.encoder.add_module(\"encoder_output\", nn.Linear(self.arch[-1], self.latent_dim))\n",
    "\n",
    "        return self.encoder\n",
    "\n",
    "    def _decoder(self) -> nn.Sequential:\n",
    "        self.decoder = nn.Sequential(\n",
    "            nn.Linear(self.latent_dim, self.arch[-1]),\n",
    "            nn.ReLU()\n",
    "        )\n",
    "\n",
    "        for i in range(len(self.arch) - 1, 0, -1):\n",
    "            self.decoder.add_module(f\"fc({i})\", nn.Linear(self.arch[i], self.arch[i - 1]))\n",
    "            self.decoder.add_module(f\"A({i})\", nn.ReLU())\n",
    "\n",
    "        self.decoder.add_module(\"decoder_output\", nn.Linear(self.arch[0], self.input_dim))\n",
    "\n",
    "        return self.decoder\n",
    "\n",
    "    def forward(self, x: torch.Tensor) -> torch.Tensor:\n",
    "        x = self.encoder(x)\n",
    "        x = self.decoder(x)\n",
    "        return x"
   ]
  },
  {
   "cell_type": "code",
   "execution_count": 86,
   "metadata": {},
   "outputs": [],
   "source": [
    "bkg = pd.read_hdf(\"data/bkg_pythia_sanitised_features.h5\")\n",
    "sig = pd.read_hdf(\"data/hg3000_hq1000_pythia_sanitised_features.h5\")"
   ]
  },
  {
   "cell_type": "code",
   "execution_count": 87,
   "metadata": {},
   "outputs": [],
   "source": [
    "train, val, test = train_val_test_split(bkg, sig, sample_size=100_000)\n",
    "\n",
    "scaler = StandardScaler()\n",
    "x_train, y_train, w_train = normalize(train, scaler, is_train=True)\n",
    "x_val, y_val, w_val = normalize(val, scaler)\n",
    "x_test, y_test, w_test = normalize(test, scaler)"
   ]
  },
  {
   "cell_type": "code",
   "execution_count": 88,
   "metadata": {},
   "outputs": [
    {
     "name": "stdout",
     "output_type": "stream",
     "text": [
      "Sample sizes:\n",
      "\tTrain      - 33333\n",
      "\tTest       - 33334\n",
      "\tValidation - 33333\n",
      "\n",
      "Mean, Std and Weights sum (after normalization):\n",
      "\tTrain:\n",
      "\t\tX - 3.501347728414288e-18 +- 1.0\n",
      "\t\tY - 0.028020280202802027 +- 0.16503073683456213\n",
      "\t\tW - Bkg: 16666.5, Sig: 16666.500000000007\n",
      "\tTest:\n",
      "\t\tX - 0.00023022958900837623 +- 1.0016334727556733\n",
      "\t\tY - 0.028049439011219774 +- 0.165114105946087\n",
      "\t\tW - Bkg: 16667.0, Sig: 16667.000000000015\n",
      "\tValidation:\n",
      "\t\tX - -0.0006511795583363361 +- 1.001955738253956\n",
      "\t\tY - 0.028020280202802027 +- 0.16503073683456213\n",
      "\t\tW - Bkg: 16666.5, Sig: 16666.500000000007\n"
     ]
    }
   ],
   "source": [
    "print(\"Sample sizes:\")\n",
    "print(f\"\\tTrain      - {len(train)}\")\n",
    "print(f\"\\tTest       - {len(test)}\")\n",
    "print(f\"\\tValidation - {len(val)}\")\n",
    "\n",
    "print(\"\\nMean, Std and Weights sum (after normalization):\")\n",
    "print(f\"\\tTrain:\")\n",
    "print(f\"\\t\\tX - {x_train.mean()} +- {x_train.std()}\")\n",
    "print(f\"\\t\\tY - {y_train.mean()} +- {y_train.std()}\")\n",
    "print(f\"\\t\\tW - Bkg: {w_train[y_train == BKG].sum()}, Sig: {w_train[y_train == SIG].sum()}\")\n",
    "print(f\"\\tTest:\")\n",
    "print(f\"\\t\\tX - {x_test.mean()} +- {x_test.std()}\")\n",
    "print(f\"\\t\\tY - {y_test.mean()} +- {y_test.std()}\")\n",
    "print(f\"\\t\\tW - Bkg: {w_test[y_test == BKG].sum()}, Sig: {w_test[y_test == SIG].sum()}\")\n",
    "print(f\"\\tValidation:\")\n",
    "print(f\"\\t\\tX - {x_val.mean()} +- {x_val.std()}\")\n",
    "print(f\"\\t\\tY - {y_val.mean()} +- {y_val.std()}\")\n",
    "print(f\"\\t\\tW - Bkg: {w_val[y_val == BKG].sum()}, Sig: {w_val[y_val == SIG].sum()}\")"
   ]
  },
  {
   "cell_type": "code",
   "execution_count": 89,
   "metadata": {},
   "outputs": [],
   "source": [
    "train_dataset = AtlasDataset(x_train[y_train == BKG], y_train[y_train == BKG], w_train[y_train == BKG])\n",
    "val_dataset = AtlasDataset(x_val[y_val == BKG], y_val[y_val == BKG], w_val[y_val == BKG])\n",
    "test_dataset = AtlasDataset(x_test, y_test, w_test)\n",
    "\n",
    "train_loader = DataLoader(train_dataset, batch_size=512, shuffle=True, num_workers=16)\n",
    "val_loader = DataLoader(val_dataset, batch_size=512, shuffle=False, num_workers=16)\n",
    "test_loader = DataLoader(test_dataset, batch_size=512, shuffle=False, num_workers=16)"
   ]
  },
  {
   "cell_type": "code",
   "execution_count": 97,
   "metadata": {},
   "outputs": [],
   "source": [
    "model = AutoEncoder(x_train.shape[1], 6, [32, 16, 8]).to(device=device)\n",
    "loss_fn = mae_loss"
   ]
  },
  {
   "cell_type": "markdown",
   "metadata": {},
   "source": [
    "## Train and Validation"
   ]
  },
  {
   "cell_type": "markdown",
   "metadata": {},
   "source": [
    "## Test"
   ]
  },
  {
   "cell_type": "code",
   "execution_count": 98,
   "metadata": {},
   "outputs": [
    {
     "name": "stdout",
     "output_type": "stream",
     "text": [
      "(33334, 47) (33334,)\n"
     ]
    }
   ],
   "source": [
    "x_recs = []\n",
    "losses = []\n",
    "\n",
    "model.eval()\n",
    "with torch.no_grad():\n",
    "    for i, (x, y, w) in enumerate(test_loader):\n",
    "        x = x.to(device)\n",
    "        y = y.to(device)\n",
    "        w = w.to(device)\n",
    "\n",
    "        x_rec = model(x)\n",
    "        loss = loss_fn(x_rec, x, w)\n",
    "\n",
    "        x_recs.append(x_rec)\n",
    "        losses.append(loss)\n",
    "\n",
    "x_recs = torch.cat(x_recs).cpu().detach().numpy()\n",
    "losses = torch.cat(losses).sum(dim=1).cpu().detach().numpy()\n",
    "\n",
    "print(x_recs.shape, losses.shape)"
   ]
  },
  {
   "cell_type": "code",
   "execution_count": 99,
   "metadata": {},
   "outputs": [
    {
     "data": {
      "image/png": "[encoded data removed]",
      "text/plain": [
       "<Figure size 640x480 with 1 Axes>"
      ]
     },
     "metadata": {},
     "output_type": "display_data"
    }
   ],
   "source": [
    "plt.clf()\n",
    "plt.hist(losses[y_test == BKG], bins=100, density=True, alpha=0.5, label='bkg')\n",
    "plt.hist(losses[y_test == SIG], bins=100, density=True, alpha=0.5, label='sig')\n",
    "plt.grid(True, linestyle='--', alpha=0.5)\n",
    "plt.yscale('log')\n",
    "plt.legend()\n",
    "plt.show()"
   ]
  }
 ],
 "metadata": {
  "kernelspec": {
   "display_name": "tf",
   "language": "python",
   "name": "python3"
  },
  "language_info": {
   "codemirror_mode": {
    "name": "ipython",
    "version": 3
   },
   "file_extension": ".py",
   "mimetype": "text/x-python",
   "name": "python",
   "nbconvert_exporter": "python",
   "pygments_lexer": "ipython3",
   "version": "3.9.16"
  },
  "orig_nbformat": 4
 },
 "nbformat": 4,
 "nbformat_minor": 2
}
