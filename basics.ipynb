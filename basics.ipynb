{
 "cells": [
  {
   "cell_type": "code",
   "execution_count": 1,
   "metadata": {},
   "outputs": [
    {
     "name": "stderr",
     "output_type": "stream",
     "text": [
      "2023-08-08 21:19:42.592519: I tensorflow/core/util/port.cc:110] oneDNN custom operations are on. You may see slightly different numerical results due to floating-point round-off errors from different computation orders. To turn them off, set the environment variable `TF_ENABLE_ONEDNN_OPTS=0`.\n",
      "2023-08-08 21:19:42.622919: I tensorflow/core/platform/cpu_feature_guard.cc:182] This TensorFlow binary is optimized to use available CPU instructions in performance-critical operations.\n",
      "To enable the following instructions: AVX2 AVX512F AVX512_VNNI FMA, in other operations, rebuild TensorFlow with the appropriate compiler flags.\n",
      "2023-08-08 21:19:43.136294: W tensorflow/compiler/tf2tensorrt/utils/py_utils.cc:38] TF-TRT Warning: Could not find TensorRT\n"
     ]
    },
    {
     "data": {
      "text/plain": [
       "device(type='cuda')"
      ]
     },
     "execution_count": 1,
     "metadata": {},
     "output_type": "execute_result"
    }
   ],
   "source": [
    "import torch\n",
    "torch.set_default_dtype(torch.float64)\n",
    "import numpy as np\n",
    "import pandas as pd\n",
    "import matplotlib.pyplot as plt\n",
    "\n",
    "from tqdm.notebook import tqdm\n",
    "from tensorflow import keras\n",
    "from sklearn.preprocessing import StandardScaler\n",
    "from sklearn.model_selection import train_test_split\n",
    "from sklearn.metrics import ConfusionMatrixDisplay, RocCurveDisplay, accuracy_score, roc_auc_score, roc_curve, confusion_matrix\n",
    "\n",
    "BKG = 0\n",
    "SIGNAL = 1\n",
    "DEVICE = torch.device(\"cuda\" if torch.cuda.is_available() else \"cpu\")\n",
    "DEVICE"
   ]
  },
  {
   "cell_type": "code",
   "execution_count": 2,
   "metadata": {},
   "outputs": [],
   "source": [
    "bkg_df: pd.DataFrame = pd.read_hdf(\"data/bkg_pythia_sanitised_features.h5\")\n",
    "fcnc_df: pd.DataFrame = pd.read_hdf(\"data/fcnc_pythia_sanitised_features.h5\")\n",
    "data: pd.DataFrame = pd.concat([bkg_df, fcnc_df])"
   ]
  },
  {
   "attachments": {},
   "cell_type": "markdown",
   "metadata": {},
   "source": [
    "## Analysing the data"
   ]
  },
  {
   "cell_type": "code",
   "execution_count": 3,
   "metadata": {},
   "outputs": [
    {
     "data": {
      "text/plain": [
       "Index(['Electron_Multi', 'FatJet1_Eta', 'FatJet1_Mass', 'FatJet1_PT',\n",
       "       'FatJet1_Phi', 'FatJet1_Tau1', 'FatJet1_Tau2', 'FatJet1_Tau3',\n",
       "       'FatJet1_Tau4', 'FatJet1_Tau5', 'FatJet_Multi', 'Jet1_BTag', 'Jet1_Eta',\n",
       "       'Jet1_Mass', 'Jet1_PT', 'Jet1_Phi', 'Jet2_BTag', 'Jet2_Eta',\n",
       "       'Jet2_Mass', 'Jet2_PT', 'Jet2_Phi', 'Jet3_BTag', 'Jet3_Eta',\n",
       "       'Jet3_Mass', 'Jet3_PT', 'Jet3_Phi', 'Jet4_BTag', 'Jet4_Eta',\n",
       "       'Jet4_Mass', 'Jet4_PT', 'Jet4_Phi', 'Jet5_BTag', 'Jet5_Eta',\n",
       "       'Jet5_Mass', 'Jet5_PT', 'Jet5_Phi', 'Jet_Multi', 'Lepton1_Eta',\n",
       "       'Lepton1_PT', 'Lepton1_Phi', 'Lepton2_Eta', 'Lepton2_PT', 'Lepton2_Phi',\n",
       "       'MissingET_MET', 'MissingET_Phi', 'Muon_Multi', 'ScalarHT_HT',\n",
       "       'gen_decay1', 'gen_decay2', 'gen_decay_filter', 'gen_filter',\n",
       "       'gen_label', 'gen_n_btags', 'gen_sample', 'gen_sample_filter',\n",
       "       'gen_split', 'gen_weights', 'gen_xsec', 'Jet10_BTag', 'Jet10_Eta',\n",
       "       'Jet10_Mass', 'Jet10_PT', 'Jet10_Phi', 'Jet6_BTag', 'Jet6_Eta',\n",
       "       'Jet6_Mass', 'Jet6_PT', 'Jet6_Phi', 'Jet7_BTag', 'Jet7_Eta',\n",
       "       'Jet7_Mass', 'Jet7_PT', 'Jet7_Phi', 'Jet8_BTag', 'Jet8_Eta',\n",
       "       'Jet8_Mass', 'Jet8_PT', 'Jet8_Phi', 'Jet9_BTag', 'Jet9_Eta',\n",
       "       'Jet9_Mass', 'Jet9_PT', 'Jet9_Phi'],\n",
       "      dtype='object')"
      ]
     },
     "execution_count": 3,
     "metadata": {},
     "output_type": "execute_result"
    }
   ],
   "source": [
    "data.columns"
   ]
  },
  {
   "cell_type": "code",
   "execution_count": 4,
   "metadata": {},
   "outputs": [
    {
     "data": {
      "text/plain": [
       "(1093038, 83)"
      ]
     },
     "execution_count": 4,
     "metadata": {},
     "output_type": "execute_result"
    }
   ],
   "source": [
    "data.shape"
   ]
  },
  {
   "attachments": {},
   "cell_type": "markdown",
   "metadata": {},
   "source": [
    "There are more ```Beyond Standard Model, BSM```, events (background) than ```Standard Model, SM```, events (signal)"
   ]
  },
  {
   "cell_type": "code",
   "execution_count": 5,
   "metadata": {},
   "outputs": [
    {
     "data": {
      "text/plain": [
       "array(['tZFCNC_PyDelphes'], dtype=object)"
      ]
     },
     "execution_count": 5,
     "metadata": {},
     "output_type": "execute_result"
    }
   ],
   "source": [
    "# BSM events\n",
    "fcnc_df['gen_sample_filter'].unique()"
   ]
  },
  {
   "cell_type": "code",
   "execution_count": 6,
   "metadata": {},
   "outputs": [
    {
     "data": {
      "text/plain": [
       "array(['Zjj_HT250to500', 'ttbar_PTtop100to250', 'Zbb_HT500', 'Zjj_HT500',\n",
       "       'WW_PTW250to500', 'WZ_PTZ250to500', 'ZZ_PTZ0to250', 'WW_PTW500',\n",
       "       'Zbb_HT250to500', 'WZ_PTZ0to250', 'ZZ_PTZ250to500', 'Zjj_HT0to250',\n",
       "       'ttbar_PTtop250', 'ZZ_PTZ500', 'WZ_PTZ500', 'Zbb_HT0to250',\n",
       "       'ttbar_PTtop0to100', 'WW_PTW0to250'], dtype=object)"
      ]
     },
     "execution_count": 6,
     "metadata": {},
     "output_type": "execute_result"
    }
   ],
   "source": [
    "# SM events\n",
    "bkg_df['gen_sample_filter'].unique()"
   ]
  },
  {
   "attachments": {},
   "cell_type": "markdown",
   "metadata": {},
   "source": [
    "```gen_label``` column tells us if an event is background or signal."
   ]
  },
  {
   "cell_type": "markdown",
   "metadata": {},
   "source": [
    "\n",
    "```gen_xsec``` column tells us the weight associated with each event."
   ]
  },
  {
   "cell_type": "code",
   "execution_count": 7,
   "metadata": {},
   "outputs": [],
   "source": [
    "data.rename(columns={\n",
    "    'gen_label': 'is_signal',\n",
    "    'gen_xsec': 'weight',\n",
    "}, inplace=True)"
   ]
  },
  {
   "attachments": {},
   "cell_type": "markdown",
   "metadata": {},
   "source": [
    "```is_signal``` is either \"bkg\" or \"signal\" so let's map to 0, 1."
   ]
  },
  {
   "cell_type": "code",
   "execution_count": 8,
   "metadata": {},
   "outputs": [],
   "source": [
    "data['is_signal'] = data['is_signal'].map({'bkg': BKG, 'signal': SIGNAL})"
   ]
  },
  {
   "attachments": {},
   "cell_type": "markdown",
   "metadata": {},
   "source": [
    "All other columns starting with ```gen``` were created in the Monte Carlo simulation so they can be dropped. Nan values are also dropped."
   ]
  },
  {
   "cell_type": "code",
   "execution_count": 9,
   "metadata": {},
   "outputs": [],
   "source": [
    "data = data[[col for col in data.columns if 'gen' not in col]]\n",
    "data.dropna(axis=1, inplace=True)"
   ]
  },
  {
   "attachments": {},
   "cell_type": "markdown",
   "metadata": {},
   "source": [
    "The remaining columns represent events that can be ```detected```, if it's ```SM``` or ```BSM```, and the ```weight``` associated with each event."
   ]
  },
  {
   "cell_type": "code",
   "execution_count": 10,
   "metadata": {},
   "outputs": [
    {
     "data": {
      "text/plain": [
       "Index(['Electron_Multi', 'FatJet1_Eta', 'FatJet1_Mass', 'FatJet1_PT',\n",
       "       'FatJet1_Phi', 'FatJet1_Tau1', 'FatJet1_Tau2', 'FatJet1_Tau3',\n",
       "       'FatJet1_Tau4', 'FatJet1_Tau5', 'FatJet_Multi', 'Jet1_BTag', 'Jet1_Eta',\n",
       "       'Jet1_Mass', 'Jet1_PT', 'Jet1_Phi', 'Jet2_BTag', 'Jet2_Eta',\n",
       "       'Jet2_Mass', 'Jet2_PT', 'Jet2_Phi', 'Jet3_BTag', 'Jet3_Eta',\n",
       "       'Jet3_Mass', 'Jet3_PT', 'Jet3_Phi', 'Jet4_BTag', 'Jet4_Eta',\n",
       "       'Jet4_Mass', 'Jet4_PT', 'Jet4_Phi', 'Jet5_BTag', 'Jet5_Eta',\n",
       "       'Jet5_Mass', 'Jet5_PT', 'Jet5_Phi', 'Jet_Multi', 'Lepton1_Eta',\n",
       "       'Lepton1_PT', 'Lepton1_Phi', 'Lepton2_Eta', 'Lepton2_PT', 'Lepton2_Phi',\n",
       "       'MissingET_MET', 'MissingET_Phi', 'Muon_Multi', 'ScalarHT_HT',\n",
       "       'is_signal', 'weight'],\n",
       "      dtype='object')"
      ]
     },
     "execution_count": 10,
     "metadata": {},
     "output_type": "execute_result"
    }
   ],
   "source": [
    "data.columns"
   ]
  },
  {
   "attachments": {},
   "cell_type": "markdown",
   "metadata": {},
   "source": [
    "There is alot more background than signal."
   ]
  },
  {
   "cell_type": "code",
   "execution_count": 11,
   "metadata": {},
   "outputs": [
    {
     "name": "stdout",
     "output_type": "stream",
     "text": [
      "True\n"
     ]
    },
    {
     "data": {
      "text/plain": [
       "(0.9171593302337155, 0.08284066976628443)"
      ]
     },
     "execution_count": 11,
     "metadata": {},
     "output_type": "execute_result"
    }
   ],
   "source": [
    "bkg_len, fcnc_len = bkg_df.shape[0], fcnc_df.shape[0]\n",
    "total = bkg_len + fcnc_len\n",
    "print(total == len(data))\n",
    "# Get relative percentage\n",
    "bkg_percentage = bkg_len / total\n",
    "fcnc_percentage = fcnc_len / total\n",
    "\n",
    "bkg_percentage, fcnc_percentage"
   ]
  },
  {
   "cell_type": "code",
   "execution_count": 12,
   "metadata": {},
   "outputs": [
    {
     "data": {
      "text/plain": [
       "(1093038, 49)"
      ]
     },
     "execution_count": 12,
     "metadata": {},
     "output_type": "execute_result"
    }
   ],
   "source": [
    "data.shape"
   ]
  },
  {
   "attachments": {},
   "cell_type": "markdown",
   "metadata": {},
   "source": [
    "```Why is normalization done only on sampled data?```"
   ]
  },
  {
   "cell_type": "code",
   "execution_count": 13,
   "metadata": {},
   "outputs": [
    {
     "data": {
      "text/plain": [
       "((91715, 49), (8284, 49))"
      ]
     },
     "execution_count": 13,
     "metadata": {},
     "output_type": "execute_result"
    }
   ],
   "source": [
    "# Sample the hole dataset\n",
    "sample = 100000\n",
    "fcnc_sample = int(sample * fcnc_percentage)\n",
    "bkg_sample = int(sample * bkg_percentage)\n",
    "\n",
    "bkg = data[data['is_signal'] == BKG].sample(bkg_sample, random_state=42)\n",
    "fcnc = data[data['is_signal'] == SIGNAL].sample(fcnc_sample, random_state=42)\n",
    "\n",
    "bkg.shape, fcnc.shape"
   ]
  },
  {
   "cell_type": "code",
   "execution_count": 14,
   "metadata": {},
   "outputs": [],
   "source": [
    "# Splot into train, test and validation dataframes\n",
    "fcnc_train_df, fcnc_val_df, fcnc_test_df = np.split(fcnc, [int((1 / 3) * len(fcnc)), int((2 / 3) * len(fcnc))])\n",
    "bkg_train_df, bkg_val_df, bkg_test_df = np.split(bkg, [int((1 / 3) * len(bkg)), int((2 / 3) * len(bkg))])"
   ]
  },
  {
   "cell_type": "code",
   "execution_count": 15,
   "metadata": {},
   "outputs": [
    {
     "data": {
      "text/plain": [
       "((33332, 49), (33333, 49), (33334, 49))"
      ]
     },
     "execution_count": 15,
     "metadata": {},
     "output_type": "execute_result"
    }
   ],
   "source": [
    "# Create the train, test and validation datasets\n",
    "train = pd.concat([fcnc_train_df, bkg_train_df])\n",
    "val = pd.concat([fcnc_val_df, bkg_val_df])\n",
    "test = pd.concat([fcnc_test_df, bkg_test_df])\n",
    "\n",
    "train.shape, val.shape, test.shape"
   ]
  },
  {
   "cell_type": "code",
   "execution_count": 16,
   "metadata": {},
   "outputs": [],
   "source": [
    "X_train, y_train, W_train = train.drop(columns=['is_signal', 'weight']), train['is_signal'], train['weight']\n",
    "X_val, y_val, W_val = val.drop(columns=['is_signal', 'weight']), val['is_signal'], val['weight']\n",
    "X_test, y_test, W_test = test.drop(columns=['is_signal', 'weight']), test['is_signal'], test['weight']"
   ]
  },
  {
   "attachments": {},
   "cell_type": "markdown",
   "metadata": {},
   "source": [
    "To normalize the dataset (to deal with the descrepancy between the number of signal and background events), the weights will be modifeid to adjust the importance of each event by dividing them by total sum of the weigths and multiplying by half the number of events in the dataset.\n",
    "\n",
    "```Why do we multiply by half of the total number of events in the dataset?```"
   ]
  },
  {
   "cell_type": "code",
   "execution_count": 17,
   "metadata": {},
   "outputs": [],
   "source": [
    "y_train, W_train = y_train.to_numpy(), W_train.to_numpy()\n",
    "y_val, W_val = y_val.to_numpy(), W_val.to_numpy()\n",
    "y_test, W_test = y_test.to_numpy(), W_test.to_numpy()\n",
    "\n",
    "W_train[y_train == SIGNAL] = W_train[y_train == SIGNAL] / W_train[y_train == SIGNAL].sum() * len(W_train) / 2\n",
    "W_train[y_train == BKG] = W_train[y_train == BKG] / W_train[y_train == BKG].sum() * len(W_train) / 2\n",
    "\n",
    "W_val[y_val == SIGNAL] = W_val[y_val == SIGNAL] / W_val[y_val == SIGNAL].sum() * len(W_val) / 2\n",
    "W_val[y_val == BKG] = W_val[y_val == BKG] / W_val[y_val == BKG].sum() * len(W_val) / 2\n",
    "\n",
    "W_test[y_test == SIGNAL] = W_test[y_test == SIGNAL] / W_test[y_test == SIGNAL].sum() * len(W_test) / 2\n",
    "W_test[y_test == BKG] = W_test[y_test == BKG] / W_test[y_test == BKG].sum() * len(W_test) / 2"
   ]
  },
  {
   "cell_type": "code",
   "execution_count": 18,
   "metadata": {},
   "outputs": [],
   "source": [
    "features = X_train.columns\n",
    "num_cols = 5\n",
    "num_rows = len(features)//num_cols + 1\n",
    "\n",
    "\n",
    "# plt.clf()\n",
    "# fig, ax = plt.subplots(num_rows, num_cols, figsize=(20, 60*num_cols//num_rows))\n",
    "\n",
    "# density = True\n",
    "\n",
    "# for idx, feature in tqdm(enumerate(features), total=len(features), desc=\"Plotting features\"):\n",
    "\n",
    "#     h_bkg, b  = np.histogram(X_train[y_train == BKG][feature], bins=100, density=density, weights=W_train[y_train == BKG])\n",
    "#     h_sgn, _  = np.histogram(X_train[y_train == SIGNAL][feature], bins=b, density=density, weights=W_train[y_train == SIGNAL])\n",
    "\n",
    "#     bincentres = [(b[i]+b[i+1])/2. for i in range(len(b)-1)]\n",
    "#     binwidth = b[1]-b[0]\n",
    "\n",
    "\n",
    "#     ax[idx//num_cols, idx%num_cols].grid(True, linestyle='--', alpha=0.5)\n",
    "#     ax[idx//num_cols, idx%num_cols].set_title(feature)\n",
    "#     ax[idx//num_cols, idx%num_cols].bar(bincentres, h_bkg, label=\"Background\", width=binwidth, color =\"tab:blue\", alpha=0.5)\n",
    "#     ax[idx//num_cols, idx%num_cols].bar(bincentres, h_sgn, bottom=h_bkg if not density else 0, label=\"Signal\", width=binwidth, color =\"tab:orange\", alpha=0.5)\n",
    "#     ax[idx//num_cols, idx%num_cols].set_yscale(\"log\")\n",
    "#     ax[idx//num_cols, idx%num_cols].legend()\n",
    "\n",
    "# fig.tight_layout()\n",
    "# plt.show()"
   ]
  },
  {
   "attachments": {},
   "cell_type": "markdown",
   "metadata": {},
   "source": [
    "Finally, we zscore the data to have a mean of 0 and a standard deviation of 1."
   ]
  },
  {
   "cell_type": "code",
   "execution_count": 19,
   "metadata": {},
   "outputs": [
    {
     "data": {
      "text/plain": [
       "(7.329465908349027e-18, 0.9999999999999998)"
      ]
     },
     "execution_count": 19,
     "metadata": {},
     "output_type": "execute_result"
    }
   ],
   "source": [
    "scaler = StandardScaler()\n",
    "X_train = scaler.fit_transform(X_train)\n",
    "X_val = scaler.transform(X_val)\n",
    "X_test = scaler.transform(X_test)\n",
    "\n",
    "X_train.mean(), X_train.std()"
   ]
  },
  {
   "cell_type": "code",
   "execution_count": 22,
   "metadata": {},
   "outputs": [
    {
     "data": {
      "text/plain": [
       "16665.999999999996"
      ]
     },
     "execution_count": 22,
     "metadata": {},
     "output_type": "execute_result"
    }
   ],
   "source": [
    "W_train[y_train == BKG].sum()"
   ]
  },
  {
   "attachments": {},
   "cell_type": "markdown",
   "metadata": {},
   "source": [
    "## Training the model"
   ]
  },
  {
   "attachments": {},
   "cell_type": "markdown",
   "metadata": {},
   "source": [
    "### With Keras"
   ]
  },
  {
   "cell_type": "code",
   "execution_count": 87,
   "metadata": {},
   "outputs": [
    {
     "name": "stderr",
     "output_type": "stream",
     "text": [
      "2023-07-14 20:21:54.560719: I tensorflow/compiler/xla/stream_executor/cuda/cuda_gpu_executor.cc:996] successful NUMA node read from SysFS had negative value (-1), but there must be at least one NUMA node, so returning NUMA node zero. See more at https://github.com/torvalds/linux/blob/v6.0/Documentation/ABI/testing/sysfs-bus-pci#L344-L355\n",
      "2023-07-14 20:21:54.563542: I tensorflow/compiler/xla/stream_executor/cuda/cuda_gpu_executor.cc:996] successful NUMA node read from SysFS had negative value (-1), but there must be at least one NUMA node, so returning NUMA node zero. See more at https://github.com/torvalds/linux/blob/v6.0/Documentation/ABI/testing/sysfs-bus-pci#L344-L355\n",
      "2023-07-14 20:21:54.563721: I tensorflow/compiler/xla/stream_executor/cuda/cuda_gpu_executor.cc:996] successful NUMA node read from SysFS had negative value (-1), but there must be at least one NUMA node, so returning NUMA node zero. See more at https://github.com/torvalds/linux/blob/v6.0/Documentation/ABI/testing/sysfs-bus-pci#L344-L355\n",
      "2023-07-14 20:21:54.564607: I tensorflow/compiler/xla/stream_executor/cuda/cuda_gpu_executor.cc:996] successful NUMA node read from SysFS had negative value (-1), but there must be at least one NUMA node, so returning NUMA node zero. See more at https://github.com/torvalds/linux/blob/v6.0/Documentation/ABI/testing/sysfs-bus-pci#L344-L355\n",
      "2023-07-14 20:21:54.564772: I tensorflow/compiler/xla/stream_executor/cuda/cuda_gpu_executor.cc:996] successful NUMA node read from SysFS had negative value (-1), but there must be at least one NUMA node, so returning NUMA node zero. See more at https://github.com/torvalds/linux/blob/v6.0/Documentation/ABI/testing/sysfs-bus-pci#L344-L355\n",
      "2023-07-14 20:21:54.564871: I tensorflow/compiler/xla/stream_executor/cuda/cuda_gpu_executor.cc:996] successful NUMA node read from SysFS had negative value (-1), but there must be at least one NUMA node, so returning NUMA node zero. See more at https://github.com/torvalds/linux/blob/v6.0/Documentation/ABI/testing/sysfs-bus-pci#L344-L355\n",
      "2023-07-14 20:21:54.565146: I tensorflow/compiler/xla/stream_executor/cuda/cuda_gpu_executor.cc:996] successful NUMA node read from SysFS had negative value (-1), but there must be at least one NUMA node, so returning NUMA node zero. See more at https://github.com/torvalds/linux/blob/v6.0/Documentation/ABI/testing/sysfs-bus-pci#L344-L355\n",
      "2023-07-14 20:21:54.565230: I tensorflow/compiler/xla/stream_executor/cuda/cuda_gpu_executor.cc:996] successful NUMA node read from SysFS had negative value (-1), but there must be at least one NUMA node, so returning NUMA node zero. See more at https://github.com/torvalds/linux/blob/v6.0/Documentation/ABI/testing/sysfs-bus-pci#L344-L355\n",
      "2023-07-14 20:21:54.565299: I tensorflow/compiler/xla/stream_executor/cuda/cuda_gpu_executor.cc:996] successful NUMA node read from SysFS had negative value (-1), but there must be at least one NUMA node, so returning NUMA node zero. See more at https://github.com/torvalds/linux/blob/v6.0/Documentation/ABI/testing/sysfs-bus-pci#L344-L355\n",
      "2023-07-14 20:21:54.565380: I tensorflow/core/common_runtime/gpu/gpu_device.cc:1635] Created device /job:localhost/replica:0/task:0/device:GPU:0 with 3237 MB memory:  -> device: 0, name: NVIDIA GeForce RTX 3060 Laptop GPU, pci bus id: 0000:01:00.0, compute capability: 8.6\n"
     ]
    }
   ],
   "source": [
    "model = keras.models.Sequential(\n",
    "    [\n",
    "        keras.layers.Dense(100, activation='relu', input_shape=(X_train.shape[1],)),\n",
    "        keras.layers.Dense(100, activation='relu'),\n",
    "        keras.layers.Dense(1, activation='sigmoid')\n",
    "    ]\n",
    ")\n",
    "\n",
    "model.compile(optimizer=keras.optimizers.Nadam(), loss='binary_crossentropy', weighted_metrics=['accuracy', keras.metrics.AUC()])"
   ]
  },
  {
   "cell_type": "code",
   "execution_count": 88,
   "metadata": {},
   "outputs": [
    {
     "name": "stdout",
     "output_type": "stream",
     "text": [
      "                                                                            \r"
     ]
    },
    {
     "ename": "KeyboardInterrupt",
     "evalue": "",
     "output_type": "error",
     "traceback": [
      "\u001b[0;31m---------------------------------------------------------------------------\u001b[0m",
      "\u001b[0;31mKeyboardInterrupt\u001b[0m                         Traceback (most recent call last)",
      "Cell \u001b[0;32mIn[88], line 4\u001b[0m\n\u001b[1;32m      1\u001b[0m \u001b[39m# On error due to CuDNN version mismatch downgrade tensorflow according to this page: https://www.tensorflow.org/install/source#cpu\u001b[39;00m\n\u001b[1;32m      2\u001b[0m \u001b[39m# On \"Can't find libdevice directory ${CUDA_DIR}/nvvm/libdevice\" error go to this page: https://www.tensorflow.org/install/pip and scroll down to step (6. Verify install)\u001b[39;00m\n\u001b[0;32m----> 4\u001b[0m history \u001b[39m=\u001b[39m model\u001b[39m.\u001b[39;49mfit(\n\u001b[1;32m      5\u001b[0m     x\u001b[39m=\u001b[39;49mX_train,\n\u001b[1;32m      6\u001b[0m     y\u001b[39m=\u001b[39;49my_train,\n\u001b[1;32m      7\u001b[0m     sample_weight\u001b[39m=\u001b[39;49mW_train,\n\u001b[1;32m      8\u001b[0m     validation_data\u001b[39m=\u001b[39;49m(X_val, y_val, W_val),\n\u001b[1;32m      9\u001b[0m     epochs\u001b[39m=\u001b[39;49m\u001b[39m100\u001b[39;49m,\n\u001b[1;32m     10\u001b[0m     callbacks \u001b[39m=\u001b[39;49m [ keras\u001b[39m.\u001b[39;49mcallbacks\u001b[39m.\u001b[39;49mEarlyStopping(patience\u001b[39m=\u001b[39;49m\u001b[39m5\u001b[39;49m, restore_best_weights\u001b[39m=\u001b[39;49m\u001b[39mTrue\u001b[39;49;00m)],\n\u001b[1;32m     11\u001b[0m     batch_size\u001b[39m=\u001b[39;49m\u001b[39m1024\u001b[39;49m,\n\u001b[1;32m     12\u001b[0m     validation_batch_size\u001b[39m=\u001b[39;49m\u001b[39m2048\u001b[39;49m,\n\u001b[1;32m     13\u001b[0m     verbose\u001b[39m=\u001b[39;49m\u001b[39m1\u001b[39;49m,\n\u001b[1;32m     14\u001b[0m )\n",
      "File \u001b[0;32m~/anaconda3/envs/tf/lib/python3.9/site-packages/keras/utils/traceback_utils.py:65\u001b[0m, in \u001b[0;36mfilter_traceback.<locals>.error_handler\u001b[0;34m(*args, **kwargs)\u001b[0m\n\u001b[1;32m     63\u001b[0m filtered_tb \u001b[39m=\u001b[39m \u001b[39mNone\u001b[39;00m\n\u001b[1;32m     64\u001b[0m \u001b[39mtry\u001b[39;00m:\n\u001b[0;32m---> 65\u001b[0m     \u001b[39mreturn\u001b[39;00m fn(\u001b[39m*\u001b[39;49margs, \u001b[39m*\u001b[39;49m\u001b[39m*\u001b[39;49mkwargs)\n\u001b[1;32m     66\u001b[0m \u001b[39mexcept\u001b[39;00m \u001b[39mException\u001b[39;00m \u001b[39mas\u001b[39;00m e:\n\u001b[1;32m     67\u001b[0m     filtered_tb \u001b[39m=\u001b[39m _process_traceback_frames(e\u001b[39m.\u001b[39m__traceback__)\n",
      "File \u001b[0;32m~/anaconda3/envs/tf/lib/python3.9/site-packages/keras/engine/training.py:1625\u001b[0m, in \u001b[0;36mModel.fit\u001b[0;34m(self, x, y, batch_size, epochs, verbose, callbacks, validation_split, validation_data, shuffle, class_weight, sample_weight, initial_epoch, steps_per_epoch, validation_steps, validation_batch_size, validation_freq, max_queue_size, workers, use_multiprocessing)\u001b[0m\n\u001b[1;32m   1615\u001b[0m     \u001b[39mself\u001b[39m\u001b[39m.\u001b[39m_cluster_coordinator \u001b[39m=\u001b[39m (\n\u001b[1;32m   1616\u001b[0m         tf\u001b[39m.\u001b[39mdistribute\u001b[39m.\u001b[39mexperimental\u001b[39m.\u001b[39mcoordinator\u001b[39m.\u001b[39mClusterCoordinator(\n\u001b[1;32m   1617\u001b[0m             \u001b[39mself\u001b[39m\u001b[39m.\u001b[39mdistribute_strategy\n\u001b[1;32m   1618\u001b[0m         )\n\u001b[1;32m   1619\u001b[0m     )\n\u001b[1;32m   1621\u001b[0m \u001b[39mwith\u001b[39;00m \u001b[39mself\u001b[39m\u001b[39m.\u001b[39mdistribute_strategy\u001b[39m.\u001b[39mscope(), training_utils\u001b[39m.\u001b[39mRespectCompiledTrainableState(  \u001b[39m# noqa: E501\u001b[39;00m\n\u001b[1;32m   1622\u001b[0m     \u001b[39mself\u001b[39m\n\u001b[1;32m   1623\u001b[0m ):\n\u001b[1;32m   1624\u001b[0m     \u001b[39m# Creates a `tf.data.Dataset` and handles batch and epoch iteration.\u001b[39;00m\n\u001b[0;32m-> 1625\u001b[0m     data_handler \u001b[39m=\u001b[39m data_adapter\u001b[39m.\u001b[39;49mget_data_handler(\n\u001b[1;32m   1626\u001b[0m         x\u001b[39m=\u001b[39;49mx,\n\u001b[1;32m   1627\u001b[0m         y\u001b[39m=\u001b[39;49my,\n\u001b[1;32m   1628\u001b[0m         sample_weight\u001b[39m=\u001b[39;49msample_weight,\n\u001b[1;32m   1629\u001b[0m         batch_size\u001b[39m=\u001b[39;49mbatch_size,\n\u001b[1;32m   1630\u001b[0m         steps_per_epoch\u001b[39m=\u001b[39;49msteps_per_epoch,\n\u001b[1;32m   1631\u001b[0m         initial_epoch\u001b[39m=\u001b[39;49minitial_epoch,\n\u001b[1;32m   1632\u001b[0m         epochs\u001b[39m=\u001b[39;49mepochs,\n\u001b[1;32m   1633\u001b[0m         shuffle\u001b[39m=\u001b[39;49mshuffle,\n\u001b[1;32m   1634\u001b[0m         class_weight\u001b[39m=\u001b[39;49mclass_weight,\n\u001b[1;32m   1635\u001b[0m         max_queue_size\u001b[39m=\u001b[39;49mmax_queue_size,\n\u001b[1;32m   1636\u001b[0m         workers\u001b[39m=\u001b[39;49mworkers,\n\u001b[1;32m   1637\u001b[0m         use_multiprocessing\u001b[39m=\u001b[39;49muse_multiprocessing,\n\u001b[1;32m   1638\u001b[0m         model\u001b[39m=\u001b[39;49m\u001b[39mself\u001b[39;49m,\n\u001b[1;32m   1639\u001b[0m         steps_per_execution\u001b[39m=\u001b[39;49m\u001b[39mself\u001b[39;49m\u001b[39m.\u001b[39;49m_steps_per_execution,\n\u001b[1;32m   1640\u001b[0m     )\n\u001b[1;32m   1642\u001b[0m     \u001b[39m# Container that configures and calls `tf.keras.Callback`s.\u001b[39;00m\n\u001b[1;32m   1643\u001b[0m     \u001b[39mif\u001b[39;00m \u001b[39mnot\u001b[39;00m \u001b[39misinstance\u001b[39m(callbacks, callbacks_module\u001b[39m.\u001b[39mCallbackList):\n",
      "File \u001b[0;32m~/anaconda3/envs/tf/lib/python3.9/site-packages/keras/engine/data_adapter.py:1583\u001b[0m, in \u001b[0;36mget_data_handler\u001b[0;34m(*args, **kwargs)\u001b[0m\n\u001b[1;32m   1581\u001b[0m \u001b[39mif\u001b[39;00m \u001b[39mgetattr\u001b[39m(kwargs[\u001b[39m\"\u001b[39m\u001b[39mmodel\u001b[39m\u001b[39m\"\u001b[39m], \u001b[39m\"\u001b[39m\u001b[39m_cluster_coordinator\u001b[39m\u001b[39m\"\u001b[39m, \u001b[39mNone\u001b[39;00m):\n\u001b[1;32m   1582\u001b[0m     \u001b[39mreturn\u001b[39;00m _ClusterCoordinatorDataHandler(\u001b[39m*\u001b[39margs, \u001b[39m*\u001b[39m\u001b[39m*\u001b[39mkwargs)\n\u001b[0;32m-> 1583\u001b[0m \u001b[39mreturn\u001b[39;00m DataHandler(\u001b[39m*\u001b[39;49margs, \u001b[39m*\u001b[39;49m\u001b[39m*\u001b[39;49mkwargs)\n",
      "File \u001b[0;32m~/anaconda3/envs/tf/lib/python3.9/site-packages/keras/engine/data_adapter.py:1260\u001b[0m, in \u001b[0;36mDataHandler.__init__\u001b[0;34m(self, x, y, sample_weight, batch_size, steps_per_epoch, initial_epoch, epochs, shuffle, class_weight, max_queue_size, workers, use_multiprocessing, model, steps_per_execution, distribute)\u001b[0m\n\u001b[1;32m   1257\u001b[0m     \u001b[39mself\u001b[39m\u001b[39m.\u001b[39m_steps_per_execution \u001b[39m=\u001b[39m steps_per_execution\n\u001b[1;32m   1259\u001b[0m adapter_cls \u001b[39m=\u001b[39m select_data_adapter(x, y)\n\u001b[0;32m-> 1260\u001b[0m \u001b[39mself\u001b[39m\u001b[39m.\u001b[39m_adapter \u001b[39m=\u001b[39m adapter_cls(\n\u001b[1;32m   1261\u001b[0m     x,\n\u001b[1;32m   1262\u001b[0m     y,\n\u001b[1;32m   1263\u001b[0m     batch_size\u001b[39m=\u001b[39;49mbatch_size,\n\u001b[1;32m   1264\u001b[0m     steps\u001b[39m=\u001b[39;49msteps_per_epoch,\n\u001b[1;32m   1265\u001b[0m     epochs\u001b[39m=\u001b[39;49mepochs \u001b[39m-\u001b[39;49m initial_epoch,\n\u001b[1;32m   1266\u001b[0m     sample_weights\u001b[39m=\u001b[39;49msample_weight,\n\u001b[1;32m   1267\u001b[0m     shuffle\u001b[39m=\u001b[39;49mshuffle,\n\u001b[1;32m   1268\u001b[0m     max_queue_size\u001b[39m=\u001b[39;49mmax_queue_size,\n\u001b[1;32m   1269\u001b[0m     workers\u001b[39m=\u001b[39;49mworkers,\n\u001b[1;32m   1270\u001b[0m     use_multiprocessing\u001b[39m=\u001b[39;49muse_multiprocessing,\n\u001b[1;32m   1271\u001b[0m     distribution_strategy\u001b[39m=\u001b[39;49mtf\u001b[39m.\u001b[39;49mdistribute\u001b[39m.\u001b[39;49mget_strategy(),\n\u001b[1;32m   1272\u001b[0m     model\u001b[39m=\u001b[39;49mmodel,\n\u001b[1;32m   1273\u001b[0m )\n\u001b[1;32m   1275\u001b[0m strategy \u001b[39m=\u001b[39m tf\u001b[39m.\u001b[39mdistribute\u001b[39m.\u001b[39mget_strategy()\n\u001b[1;32m   1277\u001b[0m \u001b[39mself\u001b[39m\u001b[39m.\u001b[39m_current_step \u001b[39m=\u001b[39m \u001b[39m0\u001b[39m\n",
      "File \u001b[0;32m~/anaconda3/envs/tf/lib/python3.9/site-packages/keras/engine/data_adapter.py:252\u001b[0m, in \u001b[0;36mTensorLikeDataAdapter.__init__\u001b[0;34m(self, x, y, sample_weights, sample_weight_modes, batch_size, epochs, steps, shuffle, **kwargs)\u001b[0m\n\u001b[1;32m    247\u001b[0m sample_weight_modes \u001b[39m=\u001b[39m broadcast_sample_weight_modes(\n\u001b[1;32m    248\u001b[0m     sample_weights, sample_weight_modes\n\u001b[1;32m    249\u001b[0m )\n\u001b[1;32m    251\u001b[0m \u001b[39m# If sample_weights are not specified for an output use 1.0 as weights.\u001b[39;00m\n\u001b[0;32m--> 252\u001b[0m (sample_weights, _, _) \u001b[39m=\u001b[39m training_utils\u001b[39m.\u001b[39;49mhandle_partial_sample_weights(\n\u001b[1;32m    253\u001b[0m     y, sample_weights, sample_weight_modes, check_all_flat\u001b[39m=\u001b[39;49m\u001b[39mTrue\u001b[39;49;00m\n\u001b[1;32m    254\u001b[0m )\n\u001b[1;32m    256\u001b[0m inputs \u001b[39m=\u001b[39m pack_x_y_sample_weight(x, y, sample_weights)\n\u001b[1;32m    258\u001b[0m num_samples \u001b[39m=\u001b[39m \u001b[39mset\u001b[39m(\n\u001b[1;32m    259\u001b[0m     \u001b[39mint\u001b[39m(i\u001b[39m.\u001b[39mshape[\u001b[39m0\u001b[39m]) \u001b[39mfor\u001b[39;00m i \u001b[39min\u001b[39;00m tf\u001b[39m.\u001b[39mnest\u001b[39m.\u001b[39mflatten(inputs)\n\u001b[1;32m    260\u001b[0m )\u001b[39m.\u001b[39mpop()\n",
      "File \u001b[0;32m~/anaconda3/envs/tf/lib/python3.9/site-packages/keras/engine/training_utils.py:78\u001b[0m, in \u001b[0;36mhandle_partial_sample_weights\u001b[0;34m(outputs, sample_weights, sample_weight_modes, check_all_flat)\u001b[0m\n\u001b[1;32m     62\u001b[0m \u001b[39m\u001b[39m\u001b[39m\"\"\"Adds 1.0 as sample weights for the outputs for which there is no weight.\u001b[39;00m\n\u001b[1;32m     63\u001b[0m \n\u001b[1;32m     64\u001b[0m \u001b[39mArgs:\u001b[39;00m\n\u001b[0;32m   (...)\u001b[0m\n\u001b[1;32m     73\u001b[0m \u001b[39m  describing the raw sample weights.\u001b[39;00m\n\u001b[1;32m     74\u001b[0m \u001b[39m\"\"\"\u001b[39;00m\n\u001b[1;32m     75\u001b[0m any_sample_weight \u001b[39m=\u001b[39m sample_weights \u001b[39mis\u001b[39;00m \u001b[39mnot\u001b[39;00m \u001b[39mNone\u001b[39;00m \u001b[39mand\u001b[39;00m \u001b[39many\u001b[39m(\n\u001b[1;32m     76\u001b[0m     w \u001b[39mis\u001b[39;00m \u001b[39mnot\u001b[39;00m \u001b[39mNone\u001b[39;00m \u001b[39mfor\u001b[39;00m w \u001b[39min\u001b[39;00m sample_weights\n\u001b[1;32m     77\u001b[0m )\n\u001b[0;32m---> 78\u001b[0m partial_sample_weight \u001b[39m=\u001b[39m any_sample_weight \u001b[39mand\u001b[39;00m \u001b[39many\u001b[39;49m(\n\u001b[1;32m     79\u001b[0m     w \u001b[39mis\u001b[39;49;00m \u001b[39mNone\u001b[39;49;00m \u001b[39mfor\u001b[39;49;00m w \u001b[39min\u001b[39;49;00m sample_weights\n\u001b[1;32m     80\u001b[0m )\n\u001b[1;32m     82\u001b[0m \u001b[39mif\u001b[39;00m \u001b[39mnot\u001b[39;00m any_sample_weight:\n\u001b[1;32m     83\u001b[0m     \u001b[39mreturn\u001b[39;00m \u001b[39mNone\u001b[39;00m, any_sample_weight, partial_sample_weight\n",
      "File \u001b[0;32m~/anaconda3/envs/tf/lib/python3.9/site-packages/keras/engine/training_utils.py:78\u001b[0m, in \u001b[0;36m<genexpr>\u001b[0;34m(.0)\u001b[0m\n\u001b[1;32m     62\u001b[0m \u001b[39m\u001b[39m\u001b[39m\"\"\"Adds 1.0 as sample weights for the outputs for which there is no weight.\u001b[39;00m\n\u001b[1;32m     63\u001b[0m \n\u001b[1;32m     64\u001b[0m \u001b[39mArgs:\u001b[39;00m\n\u001b[0;32m   (...)\u001b[0m\n\u001b[1;32m     73\u001b[0m \u001b[39m  describing the raw sample weights.\u001b[39;00m\n\u001b[1;32m     74\u001b[0m \u001b[39m\"\"\"\u001b[39;00m\n\u001b[1;32m     75\u001b[0m any_sample_weight \u001b[39m=\u001b[39m sample_weights \u001b[39mis\u001b[39;00m \u001b[39mnot\u001b[39;00m \u001b[39mNone\u001b[39;00m \u001b[39mand\u001b[39;00m \u001b[39many\u001b[39m(\n\u001b[1;32m     76\u001b[0m     w \u001b[39mis\u001b[39;00m \u001b[39mnot\u001b[39;00m \u001b[39mNone\u001b[39;00m \u001b[39mfor\u001b[39;00m w \u001b[39min\u001b[39;00m sample_weights\n\u001b[1;32m     77\u001b[0m )\n\u001b[0;32m---> 78\u001b[0m partial_sample_weight \u001b[39m=\u001b[39m any_sample_weight \u001b[39mand\u001b[39;00m \u001b[39many\u001b[39m(\n\u001b[1;32m     79\u001b[0m     w \u001b[39mis\u001b[39;00m \u001b[39mNone\u001b[39;00m \u001b[39mfor\u001b[39;00m w \u001b[39min\u001b[39;00m sample_weights\n\u001b[1;32m     80\u001b[0m )\n\u001b[1;32m     82\u001b[0m \u001b[39mif\u001b[39;00m \u001b[39mnot\u001b[39;00m any_sample_weight:\n\u001b[1;32m     83\u001b[0m     \u001b[39mreturn\u001b[39;00m \u001b[39mNone\u001b[39;00m, any_sample_weight, partial_sample_weight\n",
      "File \u001b[0;32m~/anaconda3/envs/tf/lib/python3.9/site-packages/tensorflow/python/framework/ops.py:7374\u001b[0m, in \u001b[0;36m_TensorIterator.__next__\u001b[0;34m(self)\u001b[0m\n\u001b[1;32m   7372\u001b[0m \u001b[39mif\u001b[39;00m \u001b[39mself\u001b[39m\u001b[39m.\u001b[39m_index \u001b[39m==\u001b[39m \u001b[39mself\u001b[39m\u001b[39m.\u001b[39m_limit:\n\u001b[1;32m   7373\u001b[0m   \u001b[39mraise\u001b[39;00m \u001b[39mStopIteration\u001b[39;00m\n\u001b[0;32m-> 7374\u001b[0m result \u001b[39m=\u001b[39m \u001b[39mself\u001b[39;49m\u001b[39m.\u001b[39;49m_tensor[\u001b[39mself\u001b[39;49m\u001b[39m.\u001b[39;49m_index]\n\u001b[1;32m   7375\u001b[0m \u001b[39mself\u001b[39m\u001b[39m.\u001b[39m_index \u001b[39m+\u001b[39m\u001b[39m=\u001b[39m \u001b[39m1\u001b[39m\n\u001b[1;32m   7376\u001b[0m \u001b[39mreturn\u001b[39;00m result\n",
      "File \u001b[0;32m~/anaconda3/envs/tf/lib/python3.9/site-packages/tensorflow/python/util/traceback_utils.py:150\u001b[0m, in \u001b[0;36mfilter_traceback.<locals>.error_handler\u001b[0;34m(*args, **kwargs)\u001b[0m\n\u001b[1;32m    148\u001b[0m filtered_tb \u001b[39m=\u001b[39m \u001b[39mNone\u001b[39;00m\n\u001b[1;32m    149\u001b[0m \u001b[39mtry\u001b[39;00m:\n\u001b[0;32m--> 150\u001b[0m   \u001b[39mreturn\u001b[39;00m fn(\u001b[39m*\u001b[39;49margs, \u001b[39m*\u001b[39;49m\u001b[39m*\u001b[39;49mkwargs)\n\u001b[1;32m    151\u001b[0m \u001b[39mexcept\u001b[39;00m \u001b[39mException\u001b[39;00m \u001b[39mas\u001b[39;00m e:\n\u001b[1;32m    152\u001b[0m   filtered_tb \u001b[39m=\u001b[39m _process_traceback_frames(e\u001b[39m.\u001b[39m__traceback__)\n",
      "File \u001b[0;32m~/anaconda3/envs/tf/lib/python3.9/site-packages/tensorflow/python/util/dispatch.py:1176\u001b[0m, in \u001b[0;36madd_dispatch_support.<locals>.decorator.<locals>.op_dispatch_handler\u001b[0;34m(*args, **kwargs)\u001b[0m\n\u001b[1;32m   1174\u001b[0m \u001b[39m# Fallback dispatch system (dispatch v1):\u001b[39;00m\n\u001b[1;32m   1175\u001b[0m \u001b[39mtry\u001b[39;00m:\n\u001b[0;32m-> 1176\u001b[0m   \u001b[39mreturn\u001b[39;00m dispatch_target(\u001b[39m*\u001b[39;49margs, \u001b[39m*\u001b[39;49m\u001b[39m*\u001b[39;49mkwargs)\n\u001b[1;32m   1177\u001b[0m \u001b[39mexcept\u001b[39;00m (\u001b[39mTypeError\u001b[39;00m, \u001b[39mValueError\u001b[39;00m):\n\u001b[1;32m   1178\u001b[0m   \u001b[39m# Note: convert_to_eager_tensor currently raises a ValueError, not a\u001b[39;00m\n\u001b[1;32m   1179\u001b[0m   \u001b[39m# TypeError, when given unexpected types.  So we need to catch both.\u001b[39;00m\n\u001b[1;32m   1180\u001b[0m   result \u001b[39m=\u001b[39m dispatch(op_dispatch_handler, args, kwargs)\n",
      "File \u001b[0;32m~/anaconda3/envs/tf/lib/python3.9/site-packages/tensorflow/python/ops/array_ops.py:1089\u001b[0m, in \u001b[0;36m_slice_helper\u001b[0;34m(tensor, slice_spec, var)\u001b[0m\n\u001b[1;32m   1084\u001b[0m \u001b[39mwith\u001b[39;00m ops\u001b[39m.\u001b[39mname_scope(\n\u001b[1;32m   1085\u001b[0m     \u001b[39mNone\u001b[39;00m,\n\u001b[1;32m   1086\u001b[0m     \u001b[39m\"\u001b[39m\u001b[39mstrided_slice\u001b[39m\u001b[39m\"\u001b[39m, [tensor] \u001b[39m+\u001b[39m begin \u001b[39m+\u001b[39m end \u001b[39m+\u001b[39m strides,\n\u001b[1;32m   1087\u001b[0m     skip_on_eager\u001b[39m=\u001b[39m\u001b[39mFalse\u001b[39;00m) \u001b[39mas\u001b[39;00m name:\n\u001b[1;32m   1088\u001b[0m   \u001b[39mif\u001b[39;00m begin:\n\u001b[0;32m-> 1089\u001b[0m     packed_begin, packed_end, packed_strides \u001b[39m=\u001b[39m (stack(begin), stack(end),\n\u001b[1;32m   1090\u001b[0m                                                 stack(strides))\n\u001b[1;32m   1091\u001b[0m     \u001b[39m# TODO(mdan): Instead of implicitly casting, it's better to enforce the\u001b[39;00m\n\u001b[1;32m   1092\u001b[0m     \u001b[39m# same dtypes.\u001b[39;00m\n\u001b[1;32m   1093\u001b[0m     \u001b[39mif\u001b[39;00m (packed_begin\u001b[39m.\u001b[39mdtype \u001b[39m==\u001b[39m dtypes\u001b[39m.\u001b[39mint64 \u001b[39mor\u001b[39;00m\n\u001b[1;32m   1094\u001b[0m         packed_end\u001b[39m.\u001b[39mdtype \u001b[39m==\u001b[39m dtypes\u001b[39m.\u001b[39mint64 \u001b[39mor\u001b[39;00m\n\u001b[1;32m   1095\u001b[0m         packed_strides\u001b[39m.\u001b[39mdtype \u001b[39m==\u001b[39m dtypes\u001b[39m.\u001b[39mint64):\n",
      "File \u001b[0;32m~/anaconda3/envs/tf/lib/python3.9/site-packages/tensorflow/python/util/traceback_utils.py:150\u001b[0m, in \u001b[0;36mfilter_traceback.<locals>.error_handler\u001b[0;34m(*args, **kwargs)\u001b[0m\n\u001b[1;32m    148\u001b[0m filtered_tb \u001b[39m=\u001b[39m \u001b[39mNone\u001b[39;00m\n\u001b[1;32m    149\u001b[0m \u001b[39mtry\u001b[39;00m:\n\u001b[0;32m--> 150\u001b[0m   \u001b[39mreturn\u001b[39;00m fn(\u001b[39m*\u001b[39;49margs, \u001b[39m*\u001b[39;49m\u001b[39m*\u001b[39;49mkwargs)\n\u001b[1;32m    151\u001b[0m \u001b[39mexcept\u001b[39;00m \u001b[39mException\u001b[39;00m \u001b[39mas\u001b[39;00m e:\n\u001b[1;32m    152\u001b[0m   filtered_tb \u001b[39m=\u001b[39m _process_traceback_frames(e\u001b[39m.\u001b[39m__traceback__)\n",
      "File \u001b[0;32m~/anaconda3/envs/tf/lib/python3.9/site-packages/tensorflow/python/util/dispatch.py:1176\u001b[0m, in \u001b[0;36madd_dispatch_support.<locals>.decorator.<locals>.op_dispatch_handler\u001b[0;34m(*args, **kwargs)\u001b[0m\n\u001b[1;32m   1174\u001b[0m \u001b[39m# Fallback dispatch system (dispatch v1):\u001b[39;00m\n\u001b[1;32m   1175\u001b[0m \u001b[39mtry\u001b[39;00m:\n\u001b[0;32m-> 1176\u001b[0m   \u001b[39mreturn\u001b[39;00m dispatch_target(\u001b[39m*\u001b[39;49margs, \u001b[39m*\u001b[39;49m\u001b[39m*\u001b[39;49mkwargs)\n\u001b[1;32m   1177\u001b[0m \u001b[39mexcept\u001b[39;00m (\u001b[39mTypeError\u001b[39;00m, \u001b[39mValueError\u001b[39;00m):\n\u001b[1;32m   1178\u001b[0m   \u001b[39m# Note: convert_to_eager_tensor currently raises a ValueError, not a\u001b[39;00m\n\u001b[1;32m   1179\u001b[0m   \u001b[39m# TypeError, when given unexpected types.  So we need to catch both.\u001b[39;00m\n\u001b[1;32m   1180\u001b[0m   result \u001b[39m=\u001b[39m dispatch(op_dispatch_handler, args, kwargs)\n",
      "File \u001b[0;32m~/anaconda3/envs/tf/lib/python3.9/site-packages/tensorflow/python/ops/array_ops.py:1484\u001b[0m, in \u001b[0;36mstack\u001b[0;34m(values, axis, name)\u001b[0m\n\u001b[1;32m   1481\u001b[0m \u001b[39mif\u001b[39;00m axis \u001b[39m==\u001b[39m \u001b[39m0\u001b[39m:\n\u001b[1;32m   1482\u001b[0m   \u001b[39mtry\u001b[39;00m:\n\u001b[1;32m   1483\u001b[0m     \u001b[39m# If the input is a constant list, it can be converted to a constant op\u001b[39;00m\n\u001b[0;32m-> 1484\u001b[0m     \u001b[39mreturn\u001b[39;00m ops\u001b[39m.\u001b[39;49mconvert_to_tensor(values, name\u001b[39m=\u001b[39;49mname)\n\u001b[1;32m   1485\u001b[0m   \u001b[39mexcept\u001b[39;00m (\u001b[39mTypeError\u001b[39;00m, \u001b[39mValueError\u001b[39;00m, \u001b[39mNotImplementedError\u001b[39;00m):\n\u001b[1;32m   1486\u001b[0m     \u001b[39mpass\u001b[39;00m  \u001b[39m# Input list contains non-constant tensors\u001b[39;00m\n",
      "File \u001b[0;32m~/anaconda3/envs/tf/lib/python3.9/site-packages/tensorflow/python/profiler/trace.py:183\u001b[0m, in \u001b[0;36mtrace_wrapper.<locals>.inner_wrapper.<locals>.wrapped\u001b[0;34m(*args, **kwargs)\u001b[0m\n\u001b[1;32m    181\u001b[0m   \u001b[39mwith\u001b[39;00m Trace(trace_name, \u001b[39m*\u001b[39m\u001b[39m*\u001b[39mtrace_kwargs):\n\u001b[1;32m    182\u001b[0m     \u001b[39mreturn\u001b[39;00m func(\u001b[39m*\u001b[39margs, \u001b[39m*\u001b[39m\u001b[39m*\u001b[39mkwargs)\n\u001b[0;32m--> 183\u001b[0m \u001b[39mreturn\u001b[39;00m func(\u001b[39m*\u001b[39;49margs, \u001b[39m*\u001b[39;49m\u001b[39m*\u001b[39;49mkwargs)\n",
      "File \u001b[0;32m~/anaconda3/envs/tf/lib/python3.9/site-packages/tensorflow/python/framework/ops.py:1642\u001b[0m, in \u001b[0;36mconvert_to_tensor\u001b[0;34m(value, dtype, name, as_ref, preferred_dtype, dtype_hint, ctx, accepted_result_types)\u001b[0m\n\u001b[1;32m   1633\u001b[0m       \u001b[39mraise\u001b[39;00m \u001b[39mRuntimeError\u001b[39;00m(\n\u001b[1;32m   1634\u001b[0m           _add_error_prefix(\n\u001b[1;32m   1635\u001b[0m               \u001b[39mf\u001b[39m\u001b[39m\"\u001b[39m\u001b[39mConversion function \u001b[39m\u001b[39m{\u001b[39;00mconversion_func\u001b[39m!r}\u001b[39;00m\u001b[39m for type \u001b[39m\u001b[39m\"\u001b[39m\n\u001b[0;32m   (...)\u001b[0m\n\u001b[1;32m   1638\u001b[0m               \u001b[39mf\u001b[39m\u001b[39m\"\u001b[39m\u001b[39mactual = \u001b[39m\u001b[39m{\u001b[39;00mret\u001b[39m.\u001b[39mdtype\u001b[39m.\u001b[39mbase_dtype\u001b[39m.\u001b[39mname\u001b[39m}\u001b[39;00m\u001b[39m\"\u001b[39m,\n\u001b[1;32m   1639\u001b[0m               name\u001b[39m=\u001b[39mname))\n\u001b[1;32m   1641\u001b[0m \u001b[39mif\u001b[39;00m ret \u001b[39mis\u001b[39;00m \u001b[39mNone\u001b[39;00m:\n\u001b[0;32m-> 1642\u001b[0m   ret \u001b[39m=\u001b[39m conversion_func(value, dtype\u001b[39m=\u001b[39;49mdtype, name\u001b[39m=\u001b[39;49mname, as_ref\u001b[39m=\u001b[39;49mas_ref)\n\u001b[1;32m   1644\u001b[0m \u001b[39mif\u001b[39;00m ret \u001b[39mis\u001b[39;00m \u001b[39mNotImplemented\u001b[39m:\n\u001b[1;32m   1645\u001b[0m   \u001b[39mcontinue\u001b[39;00m\n",
      "File \u001b[0;32m~/anaconda3/envs/tf/lib/python3.9/site-packages/tensorflow/python/framework/constant_op.py:344\u001b[0m, in \u001b[0;36m_constant_tensor_conversion_function\u001b[0;34m(v, dtype, name, as_ref)\u001b[0m\n\u001b[1;32m    341\u001b[0m \u001b[39mdef\u001b[39;00m \u001b[39m_constant_tensor_conversion_function\u001b[39m(v, dtype\u001b[39m=\u001b[39m\u001b[39mNone\u001b[39;00m, name\u001b[39m=\u001b[39m\u001b[39mNone\u001b[39;00m,\n\u001b[1;32m    342\u001b[0m                                          as_ref\u001b[39m=\u001b[39m\u001b[39mFalse\u001b[39;00m):\n\u001b[1;32m    343\u001b[0m   _ \u001b[39m=\u001b[39m as_ref\n\u001b[0;32m--> 344\u001b[0m   \u001b[39mreturn\u001b[39;00m constant(v, dtype\u001b[39m=\u001b[39;49mdtype, name\u001b[39m=\u001b[39;49mname)\n",
      "File \u001b[0;32m~/anaconda3/envs/tf/lib/python3.9/site-packages/tensorflow/python/framework/constant_op.py:268\u001b[0m, in \u001b[0;36mconstant\u001b[0;34m(value, dtype, shape, name)\u001b[0m\n\u001b[1;32m    171\u001b[0m \u001b[39m@tf_export\u001b[39m(\u001b[39m\"\u001b[39m\u001b[39mconstant\u001b[39m\u001b[39m\"\u001b[39m, v1\u001b[39m=\u001b[39m[])\n\u001b[1;32m    172\u001b[0m \u001b[39mdef\u001b[39;00m \u001b[39mconstant\u001b[39m(value, dtype\u001b[39m=\u001b[39m\u001b[39mNone\u001b[39;00m, shape\u001b[39m=\u001b[39m\u001b[39mNone\u001b[39;00m, name\u001b[39m=\u001b[39m\u001b[39m\"\u001b[39m\u001b[39mConst\u001b[39m\u001b[39m\"\u001b[39m):\n\u001b[1;32m    173\u001b[0m \u001b[39m  \u001b[39m\u001b[39m\"\"\"Creates a constant tensor from a tensor-like object.\u001b[39;00m\n\u001b[1;32m    174\u001b[0m \n\u001b[1;32m    175\u001b[0m \u001b[39m  Note: All eager `tf.Tensor` values are immutable (in contrast to\u001b[39;00m\n\u001b[0;32m   (...)\u001b[0m\n\u001b[1;32m    266\u001b[0m \u001b[39m    ValueError: if called on a symbolic tensor.\u001b[39;00m\n\u001b[1;32m    267\u001b[0m \u001b[39m  \"\"\"\u001b[39;00m\n\u001b[0;32m--> 268\u001b[0m   \u001b[39mreturn\u001b[39;00m _constant_impl(value, dtype, shape, name, verify_shape\u001b[39m=\u001b[39;49m\u001b[39mFalse\u001b[39;49;00m,\n\u001b[1;32m    269\u001b[0m                         allow_broadcast\u001b[39m=\u001b[39;49m\u001b[39mTrue\u001b[39;49;00m)\n",
      "File \u001b[0;32m~/anaconda3/envs/tf/lib/python3.9/site-packages/tensorflow/python/framework/constant_op.py:280\u001b[0m, in \u001b[0;36m_constant_impl\u001b[0;34m(value, dtype, shape, name, verify_shape, allow_broadcast)\u001b[0m\n\u001b[1;32m    278\u001b[0m     \u001b[39mwith\u001b[39;00m trace\u001b[39m.\u001b[39mTrace(\u001b[39m\"\u001b[39m\u001b[39mtf.constant\u001b[39m\u001b[39m\"\u001b[39m):\n\u001b[1;32m    279\u001b[0m       \u001b[39mreturn\u001b[39;00m _constant_eager_impl(ctx, value, dtype, shape, verify_shape)\n\u001b[0;32m--> 280\u001b[0m   \u001b[39mreturn\u001b[39;00m _constant_eager_impl(ctx, value, dtype, shape, verify_shape)\n\u001b[1;32m    282\u001b[0m g \u001b[39m=\u001b[39m ops\u001b[39m.\u001b[39mget_default_graph()\n\u001b[1;32m    283\u001b[0m tensor_value \u001b[39m=\u001b[39m attr_value_pb2\u001b[39m.\u001b[39mAttrValue()\n",
      "File \u001b[0;32m~/anaconda3/envs/tf/lib/python3.9/site-packages/tensorflow/python/framework/constant_op.py:305\u001b[0m, in \u001b[0;36m_constant_eager_impl\u001b[0;34m(ctx, value, dtype, shape, verify_shape)\u001b[0m\n\u001b[1;32m    303\u001b[0m \u001b[39mdef\u001b[39;00m \u001b[39m_constant_eager_impl\u001b[39m(ctx, value, dtype, shape, verify_shape):\n\u001b[1;32m    304\u001b[0m \u001b[39m  \u001b[39m\u001b[39m\"\"\"Creates a constant on the current device.\"\"\"\u001b[39;00m\n\u001b[0;32m--> 305\u001b[0m   t \u001b[39m=\u001b[39m convert_to_eager_tensor(value, ctx, dtype)\n\u001b[1;32m    306\u001b[0m   \u001b[39mif\u001b[39;00m shape \u001b[39mis\u001b[39;00m \u001b[39mNone\u001b[39;00m:\n\u001b[1;32m    307\u001b[0m     \u001b[39mreturn\u001b[39;00m t\n",
      "File \u001b[0;32m~/anaconda3/envs/tf/lib/python3.9/site-packages/tensorflow/python/framework/constant_op.py:103\u001b[0m, in \u001b[0;36mconvert_to_eager_tensor\u001b[0;34m(value, ctx, dtype)\u001b[0m\n\u001b[1;32m    101\u001b[0m     dtype \u001b[39m=\u001b[39m dtypes\u001b[39m.\u001b[39mas_dtype(dtype)\u001b[39m.\u001b[39mas_datatype_enum\n\u001b[1;32m    102\u001b[0m ctx\u001b[39m.\u001b[39mensure_initialized()\n\u001b[0;32m--> 103\u001b[0m \u001b[39mreturn\u001b[39;00m ops\u001b[39m.\u001b[39;49mEagerTensor(value, ctx\u001b[39m.\u001b[39;49mdevice_name, dtype)\n",
      "\u001b[0;31mKeyboardInterrupt\u001b[0m: "
     ]
    }
   ],
   "source": [
    "# On error due to CuDNN version mismatch downgrade tensorflow according to this page: https://www.tensorflow.org/install/source#cpu\n",
    "# On \"Can't find libdevice directory ${CUDA_DIR}/nvvm/libdevice\" error go to this page: https://www.tensorflow.org/install/pip and scroll down to step (6. Verify install)\n",
    "\n",
    "history = model.fit(\n",
    "    x=X_train,\n",
    "    y=y_train,\n",
    "    sample_weight=W_train,\n",
    "    validation_data=(X_val, y_val, W_val),\n",
    "    epochs=100,\n",
    "    callbacks = [ keras.callbacks.EarlyStopping(patience=5, restore_best_weights=True)],\n",
    "    batch_size=1024,\n",
    "    validation_batch_size=2048,\n",
    "    verbose=1,\n",
    ")"
   ]
  },
  {
   "cell_type": "code",
   "execution_count": null,
   "metadata": {},
   "outputs": [],
   "source": [
    "plt.plot(history.history['loss'])\n",
    "plt.plot(history.history['val_loss'])\n",
    "plt.grid(True, linestyle='--', alpha=0.5)\n",
    "plt.xlabel('Epoch')\n",
    "plt.ylabel('Loss')\n",
    "plt.legend(['Train', 'Validation'])\n",
    "plt.show()"
   ]
  },
  {
   "cell_type": "code",
   "execution_count": null,
   "metadata": {},
   "outputs": [],
   "source": [
    "y_preds = model.predict(X_val, batch_size=2048).reshape(-1)\n",
    "\n",
    "accuracy_score(y_val, y_preds.round(), sample_weight=W_val), roc_auc_score(y_val, y_preds, sample_weight=W_val)"
   ]
  },
  {
   "cell_type": "code",
   "execution_count": null,
   "metadata": {},
   "outputs": [],
   "source": [
    "# Histogram of y_preds\n",
    "plt.hist(y_preds[y_val == BKG], bins=100, density=True, alpha=0.5, label=\"Background\")\n",
    "plt.hist(y_preds[y_val == SIGNAL], bins=100, density=True, alpha=0.5, label=\"Signal\")\n",
    "plt.grid(True, linestyle='--', alpha=0.5)\n",
    "plt.yscale(\"log\")\n",
    "plt.legend()\n",
    "plt.show()"
   ]
  },
  {
   "cell_type": "code",
   "execution_count": null,
   "metadata": {},
   "outputs": [],
   "source": [
    "plt.imshow(confusion_matrix(y_val, y_preds.round(), sample_weight=W_val), cmap='Blues')\n",
    "plt.show()"
   ]
  },
  {
   "cell_type": "code",
   "execution_count": null,
   "metadata": {},
   "outputs": [],
   "source": [
    "y_preds = model.predict(X_test, batch_size=2048).reshape(-1)\n",
    "accuracy_score(y_test, y_preds.round(), sample_weight=W_test), roc_auc_score(y_test, y_preds, sample_weight=W_test)"
   ]
  },
  {
   "cell_type": "code",
   "execution_count": null,
   "metadata": {},
   "outputs": [],
   "source": [
    "y_preds.shape"
   ]
  },
  {
   "cell_type": "code",
   "execution_count": null,
   "metadata": {},
   "outputs": [],
   "source": [
    "fpr, tpr, _ = roc_curve(y_test, y_preds, sample_weight=W_test)\n",
    "plt.plot(fpr, tpr)\n",
    "plt.plot([0, 1], [0, 1], linestyle='--')\n",
    "plt.grid(True, linestyle='--', alpha=0.5)\n",
    "plt.show()"
   ]
  },
  {
   "attachments": {},
   "cell_type": "markdown",
   "metadata": {},
   "source": [
    "### With pytorch"
   ]
  },
  {
   "cell_type": "code",
   "execution_count": 22,
   "metadata": {},
   "outputs": [],
   "source": [
    "# Import all the necessary libraries for pytorch\n",
    "import torch\n",
    "import torch.nn as nn\n",
    "from torch.utils.data import Dataset, DataLoader"
   ]
  },
  {
   "attachments": {},
   "cell_type": "markdown",
   "metadata": {},
   "source": [
    "#### Create Custom Dataset"
   ]
  },
  {
   "cell_type": "code",
   "execution_count": 25,
   "metadata": {},
   "outputs": [],
   "source": [
    "from typing import Tuple\n",
    "\n",
    "class CustomDataset(Dataset):\n",
    "    def __init__(self, X: np.ndarray, y: np.ndarray, w: np.ndarray):\n",
    "        self.X = X\n",
    "        self.y = y\n",
    "        self.w = w\n",
    "\n",
    "    def __len__(self) -> int:\n",
    "        return len(self.X)\n",
    "\n",
    "    def __getitem__(self, idx) -> Tuple[np.ndarray, np.ndarray, np.ndarray]:\n",
    "        return self.X[idx], self.y[idx], self.w[idx]\n",
    "\n",
    "train_data = CustomDataset(X_train, y_train.astype('float64'), W_train)\n",
    "test_data = CustomDataset(X_test, y_test.astype('float64'), W_test)\n",
    "val_data = CustomDataset(X_val, y_val.astype('float64'), W_val)\n",
    "\n",
    "train_loader = DataLoader(train_data, batch_size=1024, shuffle=True, num_workers=16)\n",
    "test_loader = DataLoader(test_data, batch_size=1024, shuffle=False, num_workers=16)\n",
    "val_loader = DataLoader(val_data, batch_size=1024, shuffle=False, num_workers=16)"
   ]
  },
  {
   "attachments": {},
   "cell_type": "markdown",
   "metadata": {},
   "source": [
    "### Creating the Model (Simple Dense Network)"
   ]
  },
  {
   "cell_type": "code",
   "execution_count": 111,
   "metadata": {},
   "outputs": [],
   "source": [
    "class Network(nn.Module):\n",
    "    def __init__(self, input_size: int):\n",
    "        super().__init__()\n",
    "        self.fc1 = nn.Linear(input_size, 100)\n",
    "        self.fc2 = nn.Linear(100, 100)\n",
    "        self.fc3 = nn.Linear(100, 1)\n",
    "\n",
    "    def forward(self, x: torch.Tensor) -> torch.Tensor:\n",
    "        x = torch.relu(self.fc1(x))\n",
    "        x = torch.relu(self.fc2(x))\n",
    "        x = torch.sigmoid(self.fc3(x))\n",
    "        return x"
   ]
  },
  {
   "attachments": {},
   "cell_type": "markdown",
   "metadata": {},
   "source": [
    "### Early Stopping"
   ]
  },
  {
   "cell_type": "code",
   "execution_count": 112,
   "metadata": {},
   "outputs": [],
   "source": [
    "class EarlyStopping:\n",
    "    def __init__(self, tolerance=5):\n",
    "\n",
    "        self.tolerance = tolerance\n",
    "        self.min_validation = np.Inf\n",
    "        self.counter = 0\n",
    "        self.early_stop = False\n",
    "        self.was_triggered = False\n",
    "\n",
    "    def __call__(self, validation_loss):\n",
    "        if self.was_triggered:\n",
    "            self.early_stop = False\n",
    "            return\n",
    "\n",
    "        if validation_loss > self.min_validation:\n",
    "            self.counter +=1\n",
    "            if self.counter >= self.tolerance:  \n",
    "                self.early_stop = True\n",
    "                self.was_triggered = True\n",
    "        else:\n",
    "            self.min_validation = validation_loss\n",
    "            self.counter = 0"
   ]
  },
  {
   "attachments": {},
   "cell_type": "markdown",
   "metadata": {},
   "source": [
    "##### training with weights"
   ]
  },
  {
   "cell_type": "code",
   "execution_count": null,
   "metadata": {},
   "outputs": [],
   "source": [
    "model = Network(X_train.shape[1]).to(DEVICE)\n",
    "loss_fn = nn.BCELoss()\n",
    "optimizer = torch.optim.Adam(model.parameters(), lr=1e-4)\n",
    "callback = EarlyStopping(tolerance=25)\n",
    "\n",
    "# Train the model\n",
    "train_losses = []\n",
    "val_losses = []\n",
    "best_val_loss = np.Inf\n",
    "best_epoch = 0\n",
    "for epoch in tqdm(range(200), desc=\"Training\"):\n",
    "    model.train()\n",
    "    train_epoch_loss = 0\n",
    "    for batch, (X, y, w) in enumerate(train_loader):\n",
    "        X = X.to(DEVICE)\n",
    "        y = y.to(DEVICE)\n",
    "        w = w.to(DEVICE)\n",
    "\n",
    "        y_preds = model(X).squeeze()\n",
    "\n",
    "        loss_fn.weight = w\n",
    "        loss = loss_fn(y_preds, y)\n",
    "        train_epoch_loss += loss.item()\n",
    "\n",
    "        optimizer.zero_grad()\n",
    "        loss.backward()\n",
    "        optimizer.step()\n",
    "\n",
    "    train_loss = train_epoch_loss / len(train_loader)\n",
    "\n",
    "    model.eval()\n",
    "    val_epoch_loss = 0\n",
    "    with torch.no_grad():\n",
    "        for batch, (X, y, w) in enumerate(val_loader):\n",
    "            X = X.to(DEVICE)\n",
    "            y = y.to(DEVICE)\n",
    "            w = w.to(DEVICE)\n",
    "\n",
    "            y_preds = model(X).squeeze()\n",
    "\n",
    "            loss_fn.weight = w\n",
    "            loss = loss_fn(y_preds, y)\n",
    "            val_epoch_loss += loss.item()\n",
    "\n",
    "    val_loss = val_epoch_loss / len(val_loader)\n",
    "\n",
    "    callback(val_loss)\n",
    "    if callback.early_stop:\n",
    "        print(f\"Saving model at epoch {epoch}\")\n",
    "        torch.save(model.state_dict(), 'model.pth')\n",
    "        best_val_loss = callback.min_validation\n",
    "        best_epoch = epoch\n",
    "\n",
    "\n",
    "    train_losses.append(train_loss)\n",
    "    val_losses.append(val_loss)\n",
    "\n",
    "# Test the model\n",
    "model.load_state_dict(torch.load('model.pth'))\n",
    "model.eval()\n",
    "\n",
    "correct = 0\n",
    "y_preds_list = []\n",
    "with torch.no_grad():\n",
    "    for batch, (X, y, w) in enumerate(test_loader):\n",
    "        X = X.to(DEVICE)\n",
    "        y = y.to(DEVICE)\n",
    "        w = w.to(DEVICE)\n",
    "\n",
    "        y_preds = model(X).squeeze()\n",
    "        y_preds_list.append(y_preds)\n",
    "\n",
    "y_preds = torch.cat(y_preds_list).cpu().numpy()\n",
    "\n",
    "plt.plot(train_losses, label='Train')\n",
    "plt.plot(val_losses, label='Validation')\n",
    "plt.axvline(best_epoch, color='red', linestyle='--', label='Best epoch')\n",
    "plt.axhline(best_val_loss, color='red', linestyle='--', label='Best validation loss')\n",
    "plt.grid(True, linestyle='--', alpha=0.5)\n",
    "plt.xlabel('Epoch')\n",
    "plt.ylabel('Loss')\n",
    "plt.legend()\n",
    "plt.show()"
   ]
  },
  {
   "cell_type": "code",
   "execution_count": null,
   "metadata": {},
   "outputs": [],
   "source": [
    "fpr, tpr, _ = roc_curve(y_test, y_preds, sample_weight=W_test)\n",
    "plt.plot(fpr, tpr)\n",
    "plt.plot([0, 1], [0, 1], linestyle='--')\n",
    "plt.grid(True, linestyle='--', alpha=0.5)\n",
    "plt.show()\n",
    "accuracy_score(y_test, y_preds.round(), sample_weight=W_test), roc_auc_score(y_test, y_preds, sample_weight=W_test)"
   ]
  },
  {
   "cell_type": "code",
   "execution_count": null,
   "metadata": {},
   "outputs": [],
   "source": [
    "# Histogram of y_preds\n",
    "plt.hist(y_preds[y_test == BKG], bins=100, density=True, alpha=0.5, label=\"Background\")\n",
    "plt.hist(y_preds[y_test == SIGNAL], bins=100, density=True, alpha=0.5, label=\"Signal\")\n",
    "plt.grid(True, linestyle='--', alpha=0.5)\n",
    "plt.vlines(0.5, 0, 1, color='red', linestyle='--', label='Threshold')\n",
    "plt.yscale(\"log\")\n",
    "plt.legend()\n",
    "plt.show()"
   ]
  },
  {
   "cell_type": "markdown",
   "metadata": {},
   "source": [
    "## With AE"
   ]
  },
  {
   "cell_type": "code",
   "execution_count": 23,
   "metadata": {},
   "outputs": [],
   "source": [
    "from typing import List\n",
    "\n",
    "class AutoEncoder(nn.Module):\n",
    "    def __init__(self, input_dim: int, latent_dim: int, arch: List[int]):\n",
    "        super().__init__()\n",
    "\n",
    "        self.input_dim = input_dim\n",
    "        self.latent_dim = latent_dim\n",
    "        self.arch = arch\n",
    "\n",
    "        if len(arch) == 0:\n",
    "            raise ValueError(\"Encoder architecture must have at least one layer\")\n",
    "\n",
    "        if latent_dim >= arch[-1]:\n",
    "            raise ValueError(\"Latent dimension must be smaller than the last encoder layer\")\n",
    "\n",
    "        self.encoder = self._encoder()\n",
    "        self.decoder = self._decoder()\n",
    "\n",
    "    def _encoder(self) -> nn.Sequential:\n",
    "        self.encoder = nn.Sequential(\n",
    "            nn.Linear(self.input_dim, self.arch[0]),\n",
    "            nn.ReLU()\n",
    "        )\n",
    "\n",
    "        for i in range(1, len(self.arch)):\n",
    "            self.encoder.add_module(f\"fc({i})\", nn.Linear(self.arch[i - 1], self.arch[i]))\n",
    "            self.encoder.add_module(f\"A({i})\", nn.ReLU())\n",
    "\n",
    "        self.encoder.add_module(f\"A({i+1})\", nn.ReLU())\n",
    "        self.encoder.add_module(\"encoder_output\", nn.Linear(self.arch[-1], self.latent_dim))\n",
    "\n",
    "        return self.encoder\n",
    "\n",
    "    def _decoder(self) -> nn.Sequential:\n",
    "        self.decoder = nn.Sequential(\n",
    "            nn.Linear(self.latent_dim, self.arch[-1]),\n",
    "            nn.ReLU()\n",
    "        )\n",
    "\n",
    "        for i in range(len(self.arch) - 1, 0, -1):\n",
    "            self.decoder.add_module(f\"fc({i})\", nn.Linear(self.arch[i], self.arch[i - 1]))\n",
    "            self.decoder.add_module(f\"A({i})\", nn.ReLU())\n",
    "\n",
    "        self.decoder.add_module(\"decoder_output\", nn.Linear(self.arch[0], self.input_dim))\n",
    "\n",
    "        return self.decoder\n",
    "\n",
    "    def forward(self, x: torch.Tensor) -> torch.Tensor:\n",
    "        x = self.encoder(x)\n",
    "        x = self.decoder(x)\n",
    "        return x"
   ]
  },
  {
   "cell_type": "markdown",
   "metadata": {},
   "source": [
    "##### Preparing the dataset\n",
    "\n",
    "The training of the AE is done only on the background events.\n",
    "The validation of the AE is also done only on the background events.\n",
    "To prevent overfitting, the AE is trained on a subset of the background events and validated on another subset of the background events.\n",
    "\n",
    "The test set is composed of both background and signal events. Hopefully, the AE will be able to reconstruct the background events and not the signal events."
   ]
  },
  {
   "cell_type": "code",
   "execution_count": 26,
   "metadata": {},
   "outputs": [],
   "source": [
    "X_train, y_train, W_train = train.drop(columns=['is_signal', 'weight']), train['is_signal'], train['weight']\n",
    "X_val, y_val, W_val = val.drop(columns=['is_signal', 'weight']), val['is_signal'], val['weight']\n",
    "X_test, y_test, W_test = test.drop(columns=['is_signal', 'weight']), test['is_signal'], test['weight']\n",
    "\n",
    "y_train, W_train = y_train.to_numpy(), W_train.to_numpy()\n",
    "y_val, W_val = y_val.to_numpy(), W_val.to_numpy()\n",
    "y_test, W_test = y_test.to_numpy(), W_test.to_numpy()\n",
    "\n",
    "W_train[y_train == SIGNAL] = W_train[y_train == SIGNAL] / W_train[y_train == SIGNAL].sum() * len(W_train) / 2\n",
    "W_train[y_train == BKG] = W_train[y_train == BKG] / W_train[y_train == BKG].sum() * len(W_train) / 2\n",
    "\n",
    "W_val[y_val == SIGNAL] = W_val[y_val == SIGNAL] / W_val[y_val == SIGNAL].sum() * len(W_val) / 2\n",
    "W_val[y_val == BKG] = W_val[y_val == BKG] / W_val[y_val == BKG].sum() * len(W_val) / 2\n",
    "\n",
    "W_test[y_test == SIGNAL] = W_test[y_test == SIGNAL] / W_test[y_test == SIGNAL].sum() * len(W_test) / 2\n",
    "W_test[y_test == BKG] = W_test[y_test == BKG] / W_test[y_test == BKG].sum() * len(W_test) / 2\n",
    "\n",
    "scaler = StandardScaler()\n",
    "X_train = scaler.fit_transform(X_train)\n",
    "X_val = scaler.transform(X_val)\n",
    "X_test = scaler.transform(X_test)\n",
    "\n",
    "ae_train_loader = DataLoader(CustomDataset(X_train[y_train == BKG], X_train[y_train == BKG], W_train[y_train == BKG]), batch_size=1024, shuffle=True, num_workers=16)\n",
    "ae_val_loader = DataLoader(CustomDataset(X_val[y_val == BKG], X_val[y_val == BKG], W_val[y_val == BKG]), batch_size=1024, shuffle=False, num_workers=16)\n",
    "ae_test_loader = DataLoader(CustomDataset(X_test, X_test, W_test), batch_size=1024, shuffle=False)"
   ]
  },
  {
   "cell_type": "code",
   "execution_count": 27,
   "metadata": {},
   "outputs": [
    {
     "data": {
      "text/plain": [
       "((30571, 47), (33333,))"
      ]
     },
     "execution_count": 27,
     "metadata": {},
     "output_type": "execute_result"
    }
   ],
   "source": [
    "ae_train_loader.dataset.X.shape, y_val.shape"
   ]
  },
  {
   "cell_type": "code",
   "execution_count": 28,
   "metadata": {},
   "outputs": [],
   "source": [
    "def weighted_mse_loss(input: torch.Tensor, target: torch.Tensor, weight: torch.Tensor):\n",
    "    return torch.einsum('ij,i->ij', (input - target)**2, weight).sum()\n",
    "\n",
    "def weighted_mas_loss(input: torch.Tensor, target: torch.Tensor, weight: torch.Tensor):\n",
    "    return torch.einsum('ij,i->ij', torch.abs(input - target), weight).sum()"
   ]
  },
  {
   "cell_type": "code",
   "execution_count": null,
   "metadata": {},
   "outputs": [],
   "source": [
    "model = AutoEncoder(X_train.shape[1], 6, [32, 16, 8]).to(DEVICE)\n",
    "loss_fn = weighted_mse_loss\n",
    "optimizer = torch.optim.Adam(model.parameters(), lr=1e-3)\n",
    "callback = EarlyStopping(tolerance=25)\n",
    "\n",
    "\n",
    "\n",
    "# Train the model\n",
    "train_losses = []\n",
    "val_losses_1 = []\n",
    "val_losses_2 = []\n",
    "for epoch in tqdm(range(2000), desc=\"Training\"):\n",
    "    model.train()\n",
    "    train_epoch_loss = 0\n",
    "    for batch, (X, _, w) in enumerate(ae_train_loader):\n",
    "        X = X.to(DEVICE)\n",
    "        w = w.to(DEVICE)\n",
    "\n",
    "        X_preds = model(X)\n",
    "\n",
    "        loss = loss_fn(X_preds, X, w)\n",
    "        train_epoch_loss += loss.item()\n",
    "\n",
    "        optimizer.zero_grad()\n",
    "        loss.backward()\n",
    "        optimizer.step()\n",
    "\n",
    "    train_loss = train_epoch_loss / len(ae_train_loader)\n",
    "\n",
    "    model.eval()\n",
    "    val_epoch_loss_1 = 0\n",
    "    val_epoch_loss_2 = 0\n",
    "    with torch.no_grad():\n",
    "        for batch, (X, _, w) in enumerate(ae_val_loader):\n",
    "            X = X.to(DEVICE)\n",
    "            w = w.to(DEVICE)\n",
    "\n",
    "            X_preds = model(X)\n",
    "\n",
    "            loss = loss_fn(X_preds, X, w)\n",
    "            if batch % 2 == 0:\n",
    "                val_epoch_loss_1 += loss.item()\n",
    "            else:\n",
    "                val_epoch_loss_2 += loss.item()\n",
    "\n",
    "    val_loss_1 = val_epoch_loss_1 / (len(ae_val_loader) // 2)\n",
    "    val_loss_2 = val_epoch_loss_2 / (len(ae_val_loader) // 2)\n",
    "\n",
    "    callback(val_loss_1)\n",
    "    if callback.early_stop:\n",
    "        print(f\"Saving model at epoch {epoch}\")\n",
    "        torch.save(model.state_dict(), 'ae_model.pth')\n",
    "    val_losses_1.append(val_loss_1)\n",
    "\n",
    "    callback(val_loss_2)\n",
    "    if callback.early_stop:\n",
    "        print(f\"Saving model at epoch {epoch}\")\n",
    "        torch.save(model.state_dict(), 'ae_model.pth')\n",
    "    val_losses_2.append(val_loss_2)\n",
    "\n",
    "    train_losses.append(train_loss)\n",
    "\n",
    "plt.plot(train_losses, label='Train')\n",
    "plt.plot(val_losses_1, label='Validation 1')\n",
    "plt.plot(val_losses_2, label='Validation 2')\n",
    "plt.grid(True, linestyle='--', alpha=0.5)\n",
    "plt.xlabel('Epoch')\n",
    "plt.ylabel('Loss')\n",
    "plt.legend()\n",
    "plt.show()"
   ]
  },
  {
   "cell_type": "code",
   "execution_count": null,
   "metadata": {},
   "outputs": [],
   "source": [
    "model = AutoEncoder(X_train.shape[1], 6, [64, 32, 16, 8]).to(DEVICE)\n",
    "loss_fn = weighted_msa_loss\n",
    "optimizer = torch.optim.Adam(model.parameters(), lr=1e-3)\n",
    "callback = EarlyStopping(tolerance=25)\n",
    "\n",
    "\n",
    "\n",
    "# Train the model\n",
    "train_losses = []\n",
    "val_losses_1 = []\n",
    "val_losses_2 = []\n",
    "for epoch in tqdm(range(2000), desc=\"Training\"):\n",
    "    model.train()\n",
    "    train_epoch_loss = 0\n",
    "    for batch, (X, _, w) in enumerate(ae_train_loader):\n",
    "        X = X.to(DEVICE)\n",
    "        w = w.to(DEVICE)\n",
    "\n",
    "        X_preds = model(X)\n",
    "\n",
    "        loss = loss_fn(X_preds, X, w)\n",
    "        train_epoch_loss += loss.item()\n",
    "\n",
    "        optimizer.zero_grad()\n",
    "        loss.backward()\n",
    "        optimizer.step()\n",
    "\n",
    "    train_loss = train_epoch_loss / len(ae_train_loader)\n",
    "\n",
    "    model.eval()\n",
    "    val_epoch_loss_1 = 0\n",
    "    val_epoch_loss_2 = 0\n",
    "    with torch.no_grad():\n",
    "        for batch, (X, _, w) in enumerate(ae_val_loader):\n",
    "            X = X.to(DEVICE)\n",
    "            w = w.to(DEVICE)\n",
    "\n",
    "            X_preds = model(X)\n",
    "\n",
    "            loss = loss_fn(X_preds, X, w)\n",
    "            if batch % 2 == 0:\n",
    "                val_epoch_loss_1 += loss.item()\n",
    "            else:\n",
    "                val_epoch_loss_2 += loss.item()\n",
    "\n",
    "    val_loss_1 = val_epoch_loss_1 / (len(ae_val_loader) // 2)\n",
    "    val_loss_2 = val_epoch_loss_2 / (len(ae_val_loader) // 2)\n",
    "\n",
    "    callback(val_loss_1)\n",
    "    if callback.early_stop:\n",
    "        print(f\"Saving model at epoch {epoch}\")\n",
    "        torch.save(model.state_dict(), 'ae_model.pth')\n",
    "    val_losses_1.append(val_loss_1)\n",
    "\n",
    "    callback(val_loss_2)\n",
    "    if callback.early_stop:\n",
    "        print(f\"Saving model at epoch {epoch}\")\n",
    "        torch.save(model.state_dict(), 'ae_model.pth')\n",
    "    val_losses_2.append(val_loss_2)\n",
    "\n",
    "    train_losses.append(train_loss)\n",
    "\n",
    "plt.plot(train_losses, label='Train')\n",
    "plt.plot(val_losses_1, label='Validation 1')\n",
    "plt.plot(val_losses_2, label='Validation 2')\n",
    "plt.grid(True, linestyle='--', alpha=0.5)\n",
    "plt.xlabel('Epoch')\n",
    "plt.ylabel('Loss')\n",
    "plt.legend()\n",
    "plt.show()"
   ]
  },
  {
   "cell_type": "code",
   "execution_count": null,
   "metadata": {},
   "outputs": [],
   "source": [
    "model.load_state_dict(torch.load('ae_best.pth'))"
   ]
  },
  {
   "cell_type": "code",
   "execution_count": 30,
   "metadata": {},
   "outputs": [],
   "source": [
    "model = AutoEncoder(X_train.shape[1], 6, [64, 32, 16, 8]).to(DEVICE)"
   ]
  },
  {
   "cell_type": "code",
   "execution_count": 31,
   "metadata": {},
   "outputs": [
    {
     "name": "stdout",
     "output_type": "stream",
     "text": [
      "(33333, 47) (33333,) (33333,)\n"
     ]
    },
    {
     "data": {
      "text/html": [
       "<div>\n",
       "<style scoped>\n",
       "    .dataframe tbody tr th:only-of-type {\n",
       "        vertical-align: middle;\n",
       "    }\n",
       "\n",
       "    .dataframe tbody tr th {\n",
       "        vertical-align: top;\n",
       "    }\n",
       "\n",
       "    .dataframe thead th {\n",
       "        text-align: right;\n",
       "    }\n",
       "</style>\n",
       "<table border=\"1\" class=\"dataframe\">\n",
       "  <thead>\n",
       "    <tr style=\"text-align: right;\">\n",
       "      <th></th>\n",
       "      <th>Electron_Multi</th>\n",
       "      <th>FatJet1_Eta</th>\n",
       "      <th>FatJet1_Mass</th>\n",
       "      <th>FatJet1_PT</th>\n",
       "      <th>FatJet1_Phi</th>\n",
       "      <th>FatJet1_Tau1</th>\n",
       "      <th>FatJet1_Tau2</th>\n",
       "      <th>FatJet1_Tau3</th>\n",
       "      <th>FatJet1_Tau4</th>\n",
       "      <th>FatJet1_Tau5</th>\n",
       "      <th>...</th>\n",
       "      <th>Lepton1_Eta</th>\n",
       "      <th>Lepton1_PT</th>\n",
       "      <th>Lepton1_Phi</th>\n",
       "      <th>Lepton2_Eta</th>\n",
       "      <th>Lepton2_PT</th>\n",
       "      <th>Lepton2_Phi</th>\n",
       "      <th>MissingET_MET</th>\n",
       "      <th>MissingET_Phi</th>\n",
       "      <th>Muon_Multi</th>\n",
       "      <th>ScalarHT_HT</th>\n",
       "    </tr>\n",
       "  </thead>\n",
       "  <tbody>\n",
       "    <tr>\n",
       "      <th>0</th>\n",
       "      <td>-0.861531</td>\n",
       "      <td>0.707040</td>\n",
       "      <td>1.834103</td>\n",
       "      <td>2.713935</td>\n",
       "      <td>0.549560</td>\n",
       "      <td>0.438156</td>\n",
       "      <td>0.773991</td>\n",
       "      <td>0.133431</td>\n",
       "      <td>0.003153</td>\n",
       "      <td>-0.123851</td>\n",
       "      <td>...</td>\n",
       "      <td>0.723582</td>\n",
       "      <td>3.018843</td>\n",
       "      <td>0.531446</td>\n",
       "      <td>0.493900</td>\n",
       "      <td>0.393066</td>\n",
       "      <td>0.665883</td>\n",
       "      <td>4.229605</td>\n",
       "      <td>-1.099570</td>\n",
       "      <td>1.881434</td>\n",
       "      <td>1.840378</td>\n",
       "    </tr>\n",
       "    <tr>\n",
       "      <th>1</th>\n",
       "      <td>0.201022</td>\n",
       "      <td>-0.509772</td>\n",
       "      <td>0.552497</td>\n",
       "      <td>-0.317689</td>\n",
       "      <td>1.219077</td>\n",
       "      <td>-0.056018</td>\n",
       "      <td>-0.783480</td>\n",
       "      <td>-0.846994</td>\n",
       "      <td>-0.862099</td>\n",
       "      <td>-0.879337</td>\n",
       "      <td>...</td>\n",
       "      <td>-0.555954</td>\n",
       "      <td>0.440644</td>\n",
       "      <td>1.277099</td>\n",
       "      <td>-0.233800</td>\n",
       "      <td>-0.357823</td>\n",
       "      <td>0.891786</td>\n",
       "      <td>-0.874502</td>\n",
       "      <td>-0.880855</td>\n",
       "      <td>0.820695</td>\n",
       "      <td>0.422776</td>\n",
       "    </tr>\n",
       "    <tr>\n",
       "      <th>2</th>\n",
       "      <td>1.263575</td>\n",
       "      <td>1.050506</td>\n",
       "      <td>0.899676</td>\n",
       "      <td>-0.772240</td>\n",
       "      <td>1.485154</td>\n",
       "      <td>0.791478</td>\n",
       "      <td>-0.266721</td>\n",
       "      <td>-0.318604</td>\n",
       "      <td>-0.449653</td>\n",
       "      <td>-0.481598</td>\n",
       "      <td>...</td>\n",
       "      <td>0.976244</td>\n",
       "      <td>-0.224869</td>\n",
       "      <td>1.367246</td>\n",
       "      <td>1.173231</td>\n",
       "      <td>0.051313</td>\n",
       "      <td>-1.693614</td>\n",
       "      <td>-0.449634</td>\n",
       "      <td>0.306186</td>\n",
       "      <td>-1.300784</td>\n",
       "      <td>-1.032057</td>\n",
       "    </tr>\n",
       "    <tr>\n",
       "      <th>3</th>\n",
       "      <td>1.263575</td>\n",
       "      <td>1.483801</td>\n",
       "      <td>0.036739</td>\n",
       "      <td>-0.671481</td>\n",
       "      <td>-1.590941</td>\n",
       "      <td>0.338694</td>\n",
       "      <td>1.605887</td>\n",
       "      <td>2.106680</td>\n",
       "      <td>2.423242</td>\n",
       "      <td>2.581100</td>\n",
       "      <td>...</td>\n",
       "      <td>-0.016436</td>\n",
       "      <td>-1.057522</td>\n",
       "      <td>0.457641</td>\n",
       "      <td>-0.231023</td>\n",
       "      <td>-0.327456</td>\n",
       "      <td>1.177462</td>\n",
       "      <td>-0.441918</td>\n",
       "      <td>-0.510263</td>\n",
       "      <td>-0.240044</td>\n",
       "      <td>-0.624108</td>\n",
       "    </tr>\n",
       "    <tr>\n",
       "      <th>4</th>\n",
       "      <td>1.263575</td>\n",
       "      <td>1.070681</td>\n",
       "      <td>0.712604</td>\n",
       "      <td>2.604909</td>\n",
       "      <td>-0.194666</td>\n",
       "      <td>0.348125</td>\n",
       "      <td>-0.800600</td>\n",
       "      <td>-0.939690</td>\n",
       "      <td>-0.973314</td>\n",
       "      <td>-0.938744</td>\n",
       "      <td>...</td>\n",
       "      <td>1.166216</td>\n",
       "      <td>2.437919</td>\n",
       "      <td>-0.194765</td>\n",
       "      <td>0.877542</td>\n",
       "      <td>1.924162</td>\n",
       "      <td>-0.198418</td>\n",
       "      <td>2.267726</td>\n",
       "      <td>1.423036</td>\n",
       "      <td>-1.300784</td>\n",
       "      <td>1.863904</td>\n",
       "    </tr>\n",
       "  </tbody>\n",
       "</table>\n",
       "<p>5 rows × 47 columns</p>\n",
       "</div>"
      ],
      "text/plain": [
       "   Electron_Multi  FatJet1_Eta  FatJet1_Mass  FatJet1_PT  FatJet1_Phi  \\\n",
       "0       -0.861531     0.707040      1.834103    2.713935     0.549560   \n",
       "1        0.201022    -0.509772      0.552497   -0.317689     1.219077   \n",
       "2        1.263575     1.050506      0.899676   -0.772240     1.485154   \n",
       "3        1.263575     1.483801      0.036739   -0.671481    -1.590941   \n",
       "4        1.263575     1.070681      0.712604    2.604909    -0.194666   \n",
       "\n",
       "   FatJet1_Tau1  FatJet1_Tau2  FatJet1_Tau3  FatJet1_Tau4  FatJet1_Tau5  ...  \\\n",
       "0      0.438156      0.773991      0.133431      0.003153     -0.123851  ...   \n",
       "1     -0.056018     -0.783480     -0.846994     -0.862099     -0.879337  ...   \n",
       "2      0.791478     -0.266721     -0.318604     -0.449653     -0.481598  ...   \n",
       "3      0.338694      1.605887      2.106680      2.423242      2.581100  ...   \n",
       "4      0.348125     -0.800600     -0.939690     -0.973314     -0.938744  ...   \n",
       "\n",
       "   Lepton1_Eta  Lepton1_PT  Lepton1_Phi  Lepton2_Eta  Lepton2_PT  Lepton2_Phi  \\\n",
       "0     0.723582    3.018843     0.531446     0.493900    0.393066     0.665883   \n",
       "1    -0.555954    0.440644     1.277099    -0.233800   -0.357823     0.891786   \n",
       "2     0.976244   -0.224869     1.367246     1.173231    0.051313    -1.693614   \n",
       "3    -0.016436   -1.057522     0.457641    -0.231023   -0.327456     1.177462   \n",
       "4     1.166216    2.437919    -0.194765     0.877542    1.924162    -0.198418   \n",
       "\n",
       "   MissingET_MET  MissingET_Phi  Muon_Multi  ScalarHT_HT  \n",
       "0       4.229605      -1.099570    1.881434     1.840378  \n",
       "1      -0.874502      -0.880855    0.820695     0.422776  \n",
       "2      -0.449634       0.306186   -1.300784    -1.032057  \n",
       "3      -0.441918      -0.510263   -0.240044    -0.624108  \n",
       "4       2.267726       1.423036   -1.300784     1.863904  \n",
       "\n",
       "[5 rows x 47 columns]"
      ]
     },
     "execution_count": 31,
     "metadata": {},
     "output_type": "execute_result"
    }
   ],
   "source": [
    "print(X_val.shape, y_val.shape, W_val.shape)\n",
    "\n",
    "df_val = pd.DataFrame(X_val, columns=features)\n",
    "df_val.head()"
   ]
  },
  {
   "cell_type": "code",
   "execution_count": 32,
   "metadata": {},
   "outputs": [],
   "source": [
    "X_val_rec = []\n",
    "with torch.no_grad():\n",
    "    for batch, (X, _, _) in enumerate(val_loader):\n",
    "        X = X.to(DEVICE)\n",
    "\n",
    "        X_preds = model(X)\n",
    "\n",
    "        X_val_rec.append(X_preds.cpu().numpy())\n",
    "\n",
    "X_val_rec = np.concatenate(X_val_rec)"
   ]
  },
  {
   "cell_type": "code",
   "execution_count": 33,
   "metadata": {},
   "outputs": [
    {
     "data": {
      "text/html": [
       "<div>\n",
       "<style scoped>\n",
       "    .dataframe tbody tr th:only-of-type {\n",
       "        vertical-align: middle;\n",
       "    }\n",
       "\n",
       "    .dataframe tbody tr th {\n",
       "        vertical-align: top;\n",
       "    }\n",
       "\n",
       "    .dataframe thead th {\n",
       "        text-align: right;\n",
       "    }\n",
       "</style>\n",
       "<table border=\"1\" class=\"dataframe\">\n",
       "  <thead>\n",
       "    <tr style=\"text-align: right;\">\n",
       "      <th></th>\n",
       "      <th>Electron_Multi</th>\n",
       "      <th>FatJet1_Eta</th>\n",
       "      <th>FatJet1_Mass</th>\n",
       "      <th>FatJet1_PT</th>\n",
       "      <th>FatJet1_Phi</th>\n",
       "      <th>FatJet1_Tau1</th>\n",
       "      <th>FatJet1_Tau2</th>\n",
       "      <th>FatJet1_Tau3</th>\n",
       "      <th>FatJet1_Tau4</th>\n",
       "      <th>FatJet1_Tau5</th>\n",
       "      <th>...</th>\n",
       "      <th>Lepton1_Eta</th>\n",
       "      <th>Lepton1_PT</th>\n",
       "      <th>Lepton1_Phi</th>\n",
       "      <th>Lepton2_Eta</th>\n",
       "      <th>Lepton2_PT</th>\n",
       "      <th>Lepton2_Phi</th>\n",
       "      <th>MissingET_MET</th>\n",
       "      <th>MissingET_Phi</th>\n",
       "      <th>Muon_Multi</th>\n",
       "      <th>ScalarHT_HT</th>\n",
       "    </tr>\n",
       "  </thead>\n",
       "  <tbody>\n",
       "    <tr>\n",
       "      <th>0</th>\n",
       "      <td>0.061593</td>\n",
       "      <td>-0.049901</td>\n",
       "      <td>-0.055690</td>\n",
       "      <td>-0.194318</td>\n",
       "      <td>0.042506</td>\n",
       "      <td>-0.169332</td>\n",
       "      <td>-0.062440</td>\n",
       "      <td>0.049917</td>\n",
       "      <td>0.019998</td>\n",
       "      <td>0.063819</td>\n",
       "      <td>...</td>\n",
       "      <td>-0.115433</td>\n",
       "      <td>0.128267</td>\n",
       "      <td>0.131142</td>\n",
       "      <td>0.021554</td>\n",
       "      <td>-0.096272</td>\n",
       "      <td>-0.020863</td>\n",
       "      <td>0.029873</td>\n",
       "      <td>0.119736</td>\n",
       "      <td>-0.094399</td>\n",
       "      <td>-0.102221</td>\n",
       "    </tr>\n",
       "    <tr>\n",
       "      <th>1</th>\n",
       "      <td>0.061611</td>\n",
       "      <td>-0.049729</td>\n",
       "      <td>-0.055668</td>\n",
       "      <td>-0.194223</td>\n",
       "      <td>0.042428</td>\n",
       "      <td>-0.169464</td>\n",
       "      <td>-0.062405</td>\n",
       "      <td>0.050179</td>\n",
       "      <td>0.020154</td>\n",
       "      <td>0.064238</td>\n",
       "      <td>...</td>\n",
       "      <td>-0.115219</td>\n",
       "      <td>0.128332</td>\n",
       "      <td>0.131369</td>\n",
       "      <td>0.021605</td>\n",
       "      <td>-0.096095</td>\n",
       "      <td>-0.020692</td>\n",
       "      <td>0.030058</td>\n",
       "      <td>0.119682</td>\n",
       "      <td>-0.094379</td>\n",
       "      <td>-0.102147</td>\n",
       "    </tr>\n",
       "    <tr>\n",
       "      <th>2</th>\n",
       "      <td>0.061654</td>\n",
       "      <td>-0.049671</td>\n",
       "      <td>-0.055944</td>\n",
       "      <td>-0.194198</td>\n",
       "      <td>0.042165</td>\n",
       "      <td>-0.169316</td>\n",
       "      <td>-0.062236</td>\n",
       "      <td>0.049915</td>\n",
       "      <td>0.019984</td>\n",
       "      <td>0.064253</td>\n",
       "      <td>...</td>\n",
       "      <td>-0.115625</td>\n",
       "      <td>0.128406</td>\n",
       "      <td>0.131283</td>\n",
       "      <td>0.021380</td>\n",
       "      <td>-0.096034</td>\n",
       "      <td>-0.020354</td>\n",
       "      <td>0.029754</td>\n",
       "      <td>0.119448</td>\n",
       "      <td>-0.094351</td>\n",
       "      <td>-0.101927</td>\n",
       "    </tr>\n",
       "    <tr>\n",
       "      <th>3</th>\n",
       "      <td>0.061570</td>\n",
       "      <td>-0.049760</td>\n",
       "      <td>-0.055332</td>\n",
       "      <td>-0.194241</td>\n",
       "      <td>0.042711</td>\n",
       "      <td>-0.169676</td>\n",
       "      <td>-0.062591</td>\n",
       "      <td>0.050543</td>\n",
       "      <td>0.020393</td>\n",
       "      <td>0.064311</td>\n",
       "      <td>...</td>\n",
       "      <td>-0.114704</td>\n",
       "      <td>0.128263</td>\n",
       "      <td>0.131530</td>\n",
       "      <td>0.021885</td>\n",
       "      <td>-0.096122</td>\n",
       "      <td>-0.021039</td>\n",
       "      <td>0.030457</td>\n",
       "      <td>0.119929</td>\n",
       "      <td>-0.094415</td>\n",
       "      <td>-0.102371</td>\n",
       "    </tr>\n",
       "    <tr>\n",
       "      <th>4</th>\n",
       "      <td>0.061575</td>\n",
       "      <td>-0.049735</td>\n",
       "      <td>-0.055433</td>\n",
       "      <td>-0.194211</td>\n",
       "      <td>0.042634</td>\n",
       "      <td>-0.169618</td>\n",
       "      <td>-0.062539</td>\n",
       "      <td>0.050468</td>\n",
       "      <td>0.020329</td>\n",
       "      <td>0.064336</td>\n",
       "      <td>...</td>\n",
       "      <td>-0.114825</td>\n",
       "      <td>0.128283</td>\n",
       "      <td>0.131494</td>\n",
       "      <td>0.021807</td>\n",
       "      <td>-0.096101</td>\n",
       "      <td>-0.020940</td>\n",
       "      <td>0.030358</td>\n",
       "      <td>0.119861</td>\n",
       "      <td>-0.094384</td>\n",
       "      <td>-0.102314</td>\n",
       "    </tr>\n",
       "  </tbody>\n",
       "</table>\n",
       "<p>5 rows × 47 columns</p>\n",
       "</div>"
      ],
      "text/plain": [
       "   Electron_Multi  FatJet1_Eta  FatJet1_Mass  FatJet1_PT  FatJet1_Phi  \\\n",
       "0        0.061593    -0.049901     -0.055690   -0.194318     0.042506   \n",
       "1        0.061611    -0.049729     -0.055668   -0.194223     0.042428   \n",
       "2        0.061654    -0.049671     -0.055944   -0.194198     0.042165   \n",
       "3        0.061570    -0.049760     -0.055332   -0.194241     0.042711   \n",
       "4        0.061575    -0.049735     -0.055433   -0.194211     0.042634   \n",
       "\n",
       "   FatJet1_Tau1  FatJet1_Tau2  FatJet1_Tau3  FatJet1_Tau4  FatJet1_Tau5  ...  \\\n",
       "0     -0.169332     -0.062440      0.049917      0.019998      0.063819  ...   \n",
       "1     -0.169464     -0.062405      0.050179      0.020154      0.064238  ...   \n",
       "2     -0.169316     -0.062236      0.049915      0.019984      0.064253  ...   \n",
       "3     -0.169676     -0.062591      0.050543      0.020393      0.064311  ...   \n",
       "4     -0.169618     -0.062539      0.050468      0.020329      0.064336  ...   \n",
       "\n",
       "   Lepton1_Eta  Lepton1_PT  Lepton1_Phi  Lepton2_Eta  Lepton2_PT  Lepton2_Phi  \\\n",
       "0    -0.115433    0.128267     0.131142     0.021554   -0.096272    -0.020863   \n",
       "1    -0.115219    0.128332     0.131369     0.021605   -0.096095    -0.020692   \n",
       "2    -0.115625    0.128406     0.131283     0.021380   -0.096034    -0.020354   \n",
       "3    -0.114704    0.128263     0.131530     0.021885   -0.096122    -0.021039   \n",
       "4    -0.114825    0.128283     0.131494     0.021807   -0.096101    -0.020940   \n",
       "\n",
       "   MissingET_MET  MissingET_Phi  Muon_Multi  ScalarHT_HT  \n",
       "0       0.029873       0.119736   -0.094399    -0.102221  \n",
       "1       0.030058       0.119682   -0.094379    -0.102147  \n",
       "2       0.029754       0.119448   -0.094351    -0.101927  \n",
       "3       0.030457       0.119929   -0.094415    -0.102371  \n",
       "4       0.030358       0.119861   -0.094384    -0.102314  \n",
       "\n",
       "[5 rows x 47 columns]"
      ]
     },
     "execution_count": 33,
     "metadata": {},
     "output_type": "execute_result"
    }
   ],
   "source": [
    "X_val_rec.shape\n",
    "\n",
    "df_val_rec = pd.DataFrame(X_val_rec, columns=features)\n",
    "df_val_rec.head()"
   ]
  },
  {
   "cell_type": "code",
   "execution_count": null,
   "metadata": {},
   "outputs": [],
   "source": [
    "num_cols = 3\n",
    "num_rows = len(features)//num_cols + 1\n",
    "\n",
    "plt.clf()\n",
    "fig, ax = plt.subplots(num_rows, num_cols, figsize=(20, 240*num_cols//num_rows))\n",
    "for idx, feature in tqdm(enumerate(features), total=len(features), desc=\"Plotting Background reconstruction\"):\n",
    "    ax[idx//num_cols, idx%num_cols].grid(True, linestyle='--', alpha=0.5)\n",
    "    ax[idx//num_cols, idx%num_cols].set_title(feature)\n",
    "    ax[idx//num_cols, idx%num_cols].hist(df_val_rec[feature][y_val == BKG], bins=100, density=True, alpha=0.5, label=\"RBKG\")\n",
    "    ax[idx//num_cols, idx%num_cols].hist(df_val[feature][y_val == BKG], bins=100, density=True, label=\"OBKG\", histtype='step')\n",
    "    ax[idx//num_cols, idx%num_cols].hist(df_val_rec[feature][y_val == SIGNAL], bins=100, density=True, alpha=0.5, label=\"RSIG\")\n",
    "    ax[idx//num_cols, idx%num_cols].hist(df_val[feature][y_val == SIGNAL], bins=100, density=True, label=\"OSIG\", histtype='step')\n",
    "    ax[idx//num_cols, idx%num_cols].set_yscale(\"log\")\n",
    "    ax[idx//num_cols, idx%num_cols].legend()\n",
    "\n",
    "plt.show()"
   ]
  },
  {
   "cell_type": "code",
   "execution_count": 34,
   "metadata": {},
   "outputs": [],
   "source": [
    "loss = []\n",
    "with torch.no_grad():\n",
    "    for (X, _, w) in val_loader:\n",
    "        X = X.to(DEVICE)\n",
    "        w = w.to(DEVICE)\n",
    "\n",
    "        X_preds = model(X)\n",
    "\n",
    "        loss.append(torch.einsum('ij,i->ij', torch.abs(X_preds - X), w).sum(dim=1))\n",
    "\n",
    "loss = torch.cat(loss).cpu().numpy()"
   ]
  },
  {
   "cell_type": "code",
   "execution_count": 37,
   "metadata": {},
   "outputs": [
    {
     "data": {
      "text/plain": [
       "(33333,)"
      ]
     },
     "execution_count": 37,
     "metadata": {},
     "output_type": "execute_result"
    }
   ],
   "source": [
    "loss.shape"
   ]
  },
  {
   "cell_type": "code",
   "execution_count": 38,
   "metadata": {},
   "outputs": [
    {
     "data": {
      "image/png": "[encoded data removed]",
      "text/plain": [
       "<Figure size 640x480 with 1 Axes>"
      ]
     },
     "metadata": {},
     "output_type": "display_data"
    }
   ],
   "source": [
    "plt.hist(loss[y_val == BKG], bins=100, density=True, alpha=0.5, label=\"Background\")\n",
    "plt.hist(loss[y_val == SIGNAL], bins=100, density=True, alpha=0.5, label=\"Signal\")\n",
    "plt.grid(True, linestyle='--', alpha=0.5)\n",
    "plt.yscale(\"log\")\n",
    "plt.legend()\n",
    "plt.show()"
   ]
  },
  {
   "cell_type": "code",
   "execution_count": 39,
   "metadata": {},
   "outputs": [
    {
     "data": {
      "image/png": "[encoded data removed]",
      "text/plain": [
       "<Figure size 640x480 with 1 Axes>"
      ]
     },
     "metadata": {},
     "output_type": "display_data"
    },
    {
     "data": {
      "text/plain": [
       "0.9953763384249212"
      ]
     },
     "execution_count": 39,
     "metadata": {},
     "output_type": "execute_result"
    }
   ],
   "source": [
    "fpr, tpr, _ = roc_curve(y_val, loss)#, sample_weight=W_val)\n",
    "plt.plot(fpr, tpr)\n",
    "plt.plot([0, 1], [0, 1], linestyle='--')\n",
    "plt.grid(True, linestyle='--', alpha=0.5)\n",
    "plt.show()\n",
    "roc_auc_score(y_val, loss)"
   ]
  },
  {
   "cell_type": "markdown",
   "metadata": {},
   "source": [
    "## In Pytorch Lightning"
   ]
  },
  {
   "cell_type": "code",
   "execution_count": 25,
   "metadata": {},
   "outputs": [],
   "source": [
    "import pytorch_lightning as pl\n",
    "import torch.nn as nn\n",
    "\n",
    "from torchmetrics import AUROC"
   ]
  },
  {
   "cell_type": "code",
   "execution_count": 26,
   "metadata": {},
   "outputs": [
    {
     "ename": "NameError",
     "evalue": "name 'pl' is not defined",
     "output_type": "error",
     "traceback": [
      "\u001b[0;31m---------------------------------------------------------------------------\u001b[0m",
      "\u001b[0;31mNameError\u001b[0m                                 Traceback (most recent call last)",
      "Cell \u001b[0;32mIn[26], line 3\u001b[0m\n\u001b[1;32m      1\u001b[0m \u001b[39mfrom\u001b[39;00m \u001b[39mtyping\u001b[39;00m \u001b[39mimport\u001b[39;00m List\n\u001b[0;32m----> 3\u001b[0m \u001b[39mclass\u001b[39;00m \u001b[39mLitAutoEncoder\u001b[39;00m(pl\u001b[39m.\u001b[39mLightningModule):\n\u001b[1;32m      4\u001b[0m     \u001b[39mdef\u001b[39;00m \u001b[39m__init__\u001b[39m(\u001b[39mself\u001b[39m, input_dim: \u001b[39mint\u001b[39m, latent_dim: \u001b[39mint\u001b[39m, arch: List[\u001b[39mint\u001b[39m]):\n\u001b[1;32m      5\u001b[0m             \u001b[39msuper\u001b[39m()\u001b[39m.\u001b[39m\u001b[39m__init__\u001b[39m()\n",
      "\u001b[0;31mNameError\u001b[0m: name 'pl' is not defined"
     ]
    }
   ],
   "source": [
    "from typing import List\n",
    "\n",
    "class LitAutoEncoder(pl.LightningModule):\n",
    "    def __init__(self, input_dim: int, latent_dim: int, arch: List[int]):\n",
    "            super().__init__()\n",
    "\n",
    "            self.input_dim = input_dim\n",
    "            self.latent_dim = latent_dim\n",
    "            self.arch = arch\n",
    "\n",
    "            self.training_step_outputs = []\n",
    "            self.validation_step_outputs = []\n",
    "\n",
    "            if len(arch) == 0:\n",
    "                raise ValueError(\"Encoder architecture must have at least one layer\")\n",
    "\n",
    "            if latent_dim >= arch[-1]:\n",
    "                raise ValueError(\"Latent dimension must be smaller than the last encoder layer\")\n",
    "\n",
    "            self.encoder = self._encoder()\n",
    "            self.decoder = self._decoder()\n",
    "\n",
    "    def _encoder(self) -> nn.Sequential:\n",
    "        self.encoder = nn.Sequential(\n",
    "            nn.Linear(self.input_dim, self.arch[0]),\n",
    "            nn.ReLU()\n",
    "        )\n",
    "\n",
    "        for i in range(1, len(self.arch)):\n",
    "            self.encoder.add_module(f\"fc({i})\", nn.Linear(self.arch[i - 1], self.arch[i]))\n",
    "            self.encoder.add_module(f\"A({i})\", nn.ReLU())\n",
    "\n",
    "        self.encoder.add_module(f\"A({i+1})\", nn.ReLU())\n",
    "        self.encoder.add_module(\"encoder_output\", nn.Linear(self.arch[-1], self.latent_dim))\n",
    "\n",
    "        return self.encoder\n",
    "\n",
    "    def _decoder(self) -> nn.Sequential:\n",
    "        self.decoder = nn.Sequential(\n",
    "            nn.Linear(self.latent_dim, self.arch[-1]),\n",
    "            nn.ReLU()\n",
    "        )\n",
    "\n",
    "        for i in range(len(self.arch) - 1, 0, -1):\n",
    "            self.decoder.add_module(f\"fc({i})\", nn.Linear(self.arch[i], self.arch[i - 1]))\n",
    "            self.decoder.add_module(f\"A({i})\", nn.ReLU())\n",
    "\n",
    "        self.decoder.add_module(\"decoder_output\", nn.Linear(self.arch[0], self.input_dim))\n",
    "\n",
    "        return self.decoder\n",
    "\n",
    "    def forward(self, x: torch.Tensor) -> torch.Tensor:\n",
    "        x = self.encoder(x)\n",
    "        x = self.decoder(x)\n",
    "        return x\n",
    "\n",
    "    def configure_optimizers(self):\n",
    "        optimizer = torch.optim.Adam(self.parameters(), lr=1e-3)\n",
    "        scheduler = torch.optim.lr_scheduler.ReduceLROnPlateau(optimizer, patience=5, verbose=True)\n",
    "        return {'optimizer': optimizer, 'lr_scheduler': scheduler, 'monitor': 'val_loss'}\n",
    "\n",
    "    def training_step(self, batch, batch_idx):\n",
    "        X, _, w = batch\n",
    "\n",
    "        X_preds = self(X)\n",
    "        loss = torch.einsum('ij,i->ij', torch.abs(X_preds - X), w).sum()\n",
    "        self.training_step_outputs.append(loss)\n",
    "        return loss\n",
    "\n",
    "    def on_train_epoch_end(self) -> None:\n",
    "        loss = torch.stack(self.training_step_outputs)\n",
    "        self.log('training_loss', loss.mean())\n",
    "        self.training_step_outputs.clear()\n",
    "\n",
    "    def validation_step(self, batch, batch_idx):\n",
    "        X, _, w = batch\n",
    "\n",
    "        X_preds = self(X)\n",
    "        loss = torch.einsum('ij,i->ij', torch.abs(X_preds - X), w).sum()\n",
    "        self.validation_step_outputs.append(loss)\n",
    "        return loss\n",
    "\n",
    "    def on_validation_epoch_end(self) -> None:\n",
    "        loss = torch.stack(self.validation_step_outputs)\n",
    "        self.log('val_loss', loss.mean())\n",
    "        self.validation_step_outputs.clear()\n"
   ]
  },
  {
   "cell_type": "code",
   "execution_count": 35,
   "metadata": {},
   "outputs": [
    {
     "name": "stderr",
     "output_type": "stream",
     "text": [
      "GPU available: True (cuda), used: True\n",
      "TPU available: False, using: 0 TPU cores\n",
      "IPU available: False, using: 0 IPUs\n",
      "HPU available: False, using: 0 HPUs\n"
     ]
    }
   ],
   "source": [
    "callbacks = [\n",
    "    pl.callbacks.EarlyStopping(monitor='val_loss', patience=25, mode='min', min_delta=0.001, verbose=True),\n",
    "    pl.callbacks.ModelCheckpoint(monitor='val_loss', mode='min', save_top_k=1, verbose=True, filename='ae_best'),\n",
    "    pl.callbacks.LearningRateMonitor(logging_interval='epoch'),\n",
    "]\n",
    "\n",
    "ae_trainer = pl.Trainer(\n",
    "    accelerator='gpu',\n",
    "    max_epochs=1000,\n",
    "    callbacks=callbacks,\n",
    "    default_root_dir='logs',\n",
    "    logger=pl.loggers.TensorBoardLogger('logs/', name='ae'),\n",
    "    log_every_n_steps=30\n",
    ")"
   ]
  },
  {
   "cell_type": "code",
   "execution_count": 36,
   "metadata": {},
   "outputs": [
    {
     "name": "stderr",
     "output_type": "stream",
     "text": [
      "LOCAL_RANK: 0 - CUDA_VISIBLE_DEVICES: [0]\n",
      "\n",
      "  | Name    | Type       | Params\n",
      "---------------------------------------\n",
      "0 | encoder | Sequential | 5.9 K \n",
      "1 | decoder | Sequential | 5.9 K \n",
      "---------------------------------------\n",
      "11.8 K    Trainable params\n",
      "0         Non-trainable params\n",
      "11.8 K    Total params\n",
      "0.047     Total estimated model params size (MB)\n"
     ]
    },
    {
     "name": "stdout",
     "output_type": "stream",
     "text": [
      "Sanity Checking: 0it [00:00, ?it/s]"
     ]
    },
    {
     "name": "stdout",
     "output_type": "stream",
     "text": [
      "Epoch 0: 100%|██████████| 30/30 [00:01<00:00, 25.67it/s, v_num=5]          "
     ]
    },
    {
     "name": "stderr",
     "output_type": "stream",
     "text": [
      "Metric val_loss improved. New best score: 19909.013\n",
      "Epoch 0, global step 30: 'val_loss' reached 19909.01277 (best 19909.01277), saving model to 'logs/ae/version_5/checkpoints/ae_best.ckpt' as top 1\n"
     ]
    },
    {
     "name": "stdout",
     "output_type": "stream",
     "text": [
      "Epoch 1: 100%|██████████| 30/30 [00:01<00:00, 24.10it/s, v_num=5]"
     ]
    },
    {
     "name": "stderr",
     "output_type": "stream",
     "text": [
      "Metric val_loss improved by 813.465 >= min_delta = 0.001. New best score: 19095.547\n",
      "Epoch 1, global step 60: 'val_loss' reached 19095.54738 (best 19095.54738), saving model to 'logs/ae/version_5/checkpoints/ae_best.ckpt' as top 1\n"
     ]
    },
    {
     "name": "stdout",
     "output_type": "stream",
     "text": [
      "Epoch 2: 100%|██████████| 30/30 [00:01<00:00, 24.71it/s, v_num=5]"
     ]
    },
    {
     "name": "stderr",
     "output_type": "stream",
     "text": [
      "Metric val_loss improved by 654.130 >= min_delta = 0.001. New best score: 18441.417\n",
      "Epoch 2, global step 90: 'val_loss' reached 18441.41733 (best 18441.41733), saving model to 'logs/ae/version_5/checkpoints/ae_best.ckpt' as top 1\n"
     ]
    },
    {
     "name": "stdout",
     "output_type": "stream",
     "text": [
      "Epoch 3: 100%|██████████| 30/30 [00:01<00:00, 23.48it/s, v_num=5]"
     ]
    },
    {
     "name": "stderr",
     "output_type": "stream",
     "text": [
      "Metric val_loss improved by 612.611 >= min_delta = 0.001. New best score: 17828.806\n",
      "Epoch 3, global step 120: 'val_loss' reached 17828.80633 (best 17828.80633), saving model to 'logs/ae/version_5/checkpoints/ae_best.ckpt' as top 1\n"
     ]
    },
    {
     "name": "stdout",
     "output_type": "stream",
     "text": [
      "Epoch 4: 100%|██████████| 30/30 [00:01<00:00, 24.29it/s, v_num=5]"
     ]
    },
    {
     "name": "stderr",
     "output_type": "stream",
     "text": [
      "Metric val_loss improved by 217.863 >= min_delta = 0.001. New best score: 17610.943\n",
      "Epoch 4, global step 150: 'val_loss' reached 17610.94335 (best 17610.94335), saving model to 'logs/ae/version_5/checkpoints/ae_best.ckpt' as top 1\n"
     ]
    },
    {
     "name": "stdout",
     "output_type": "stream",
     "text": [
      "Epoch 5: 100%|██████████| 30/30 [00:01<00:00, 23.27it/s, v_num=5]"
     ]
    },
    {
     "name": "stderr",
     "output_type": "stream",
     "text": [
      "Metric val_loss improved by 119.800 >= min_delta = 0.001. New best score: 17491.143\n",
      "Epoch 5, global step 180: 'val_loss' reached 17491.14325 (best 17491.14325), saving model to 'logs/ae/version_5/checkpoints/ae_best.ckpt' as top 1\n"
     ]
    },
    {
     "name": "stdout",
     "output_type": "stream",
     "text": [
      "Epoch 6: 100%|██████████| 30/30 [00:01<00:00, 23.70it/s, v_num=5]"
     ]
    },
    {
     "name": "stderr",
     "output_type": "stream",
     "text": [
      "Metric val_loss improved by 113.080 >= min_delta = 0.001. New best score: 17378.063\n",
      "Epoch 6, global step 210: 'val_loss' reached 17378.06326 (best 17378.06326), saving model to 'logs/ae/version_5/checkpoints/ae_best.ckpt' as top 1\n"
     ]
    },
    {
     "name": "stdout",
     "output_type": "stream",
     "text": [
      "Epoch 7: 100%|██████████| 30/30 [00:01<00:00, 23.46it/s, v_num=5]"
     ]
    },
    {
     "name": "stderr",
     "output_type": "stream",
     "text": [
      "Metric val_loss improved by 153.242 >= min_delta = 0.001. New best score: 17224.821\n",
      "Epoch 7, global step 240: 'val_loss' reached 17224.82084 (best 17224.82084), saving model to 'logs/ae/version_5/checkpoints/ae_best.ckpt' as top 1\n"
     ]
    },
    {
     "name": "stdout",
     "output_type": "stream",
     "text": [
      "Epoch 8: 100%|██████████| 30/30 [00:01<00:00, 23.23it/s, v_num=5]"
     ]
    },
    {
     "name": "stderr",
     "output_type": "stream",
     "text": [
      "Metric val_loss improved by 584.510 >= min_delta = 0.001. New best score: 16640.311\n",
      "Epoch 8, global step 270: 'val_loss' reached 16640.31080 (best 16640.31080), saving model to 'logs/ae/version_5/checkpoints/ae_best.ckpt' as top 1\n"
     ]
    },
    {
     "name": "stdout",
     "output_type": "stream",
     "text": [
      "Epoch 9: 100%|██████████| 30/30 [00:01<00:00, 23.96it/s, v_num=5]"
     ]
    },
    {
     "name": "stderr",
     "output_type": "stream",
     "text": [
      "Metric val_loss improved by 379.178 >= min_delta = 0.001. New best score: 16261.132\n",
      "Epoch 9, global step 300: 'val_loss' reached 16261.13241 (best 16261.13241), saving model to 'logs/ae/version_5/checkpoints/ae_best.ckpt' as top 1\n"
     ]
    },
    {
     "name": "stdout",
     "output_type": "stream",
     "text": [
      "Epoch 10: 100%|██████████| 30/30 [00:01<00:00, 22.84it/s, v_num=5]"
     ]
    },
    {
     "name": "stderr",
     "output_type": "stream",
     "text": [
      "Metric val_loss improved by 17.907 >= min_delta = 0.001. New best score: 16243.225\n",
      "Epoch 10, global step 330: 'val_loss' reached 16243.22541 (best 16243.22541), saving model to 'logs/ae/version_5/checkpoints/ae_best.ckpt' as top 1\n"
     ]
    },
    {
     "name": "stdout",
     "output_type": "stream",
     "text": [
      "Epoch 11: 100%|██████████| 30/30 [00:01<00:00, 23.10it/s, v_num=5]"
     ]
    },
    {
     "name": "stderr",
     "output_type": "stream",
     "text": [
      "Metric val_loss improved by 116.831 >= min_delta = 0.001. New best score: 16126.394\n",
      "Epoch 11, global step 360: 'val_loss' reached 16126.39408 (best 16126.39408), saving model to 'logs/ae/version_5/checkpoints/ae_best.ckpt' as top 1\n"
     ]
    },
    {
     "name": "stdout",
     "output_type": "stream",
     "text": [
      "Epoch 12: 100%|██████████| 30/30 [00:01<00:00, 23.90it/s, v_num=5]"
     ]
    },
    {
     "name": "stderr",
     "output_type": "stream",
     "text": [
      "Metric val_loss improved by 117.458 >= min_delta = 0.001. New best score: 16008.936\n",
      "Epoch 12, global step 390: 'val_loss' reached 16008.93615 (best 16008.93615), saving model to 'logs/ae/version_5/checkpoints/ae_best.ckpt' as top 1\n"
     ]
    },
    {
     "name": "stdout",
     "output_type": "stream",
     "text": [
      "Epoch 13: 100%|██████████| 30/30 [00:01<00:00, 24.43it/s, v_num=5]"
     ]
    },
    {
     "name": "stderr",
     "output_type": "stream",
     "text": [
      "Metric val_loss improved by 56.747 >= min_delta = 0.001. New best score: 15952.189\n",
      "Epoch 13, global step 420: 'val_loss' reached 15952.18877 (best 15952.18877), saving model to 'logs/ae/version_5/checkpoints/ae_best.ckpt' as top 1\n"
     ]
    },
    {
     "name": "stdout",
     "output_type": "stream",
     "text": [
      "Epoch 14: 100%|██████████| 30/30 [00:01<00:00, 21.35it/s, v_num=5]"
     ]
    },
    {
     "name": "stderr",
     "output_type": "stream",
     "text": [
      "Metric val_loss improved by 0.970 >= min_delta = 0.001. New best score: 15951.219\n",
      "Epoch 14, global step 450: 'val_loss' reached 15951.21886 (best 15951.21886), saving model to 'logs/ae/version_5/checkpoints/ae_best.ckpt' as top 1\n"
     ]
    },
    {
     "name": "stdout",
     "output_type": "stream",
     "text": [
      "Epoch 15: 100%|██████████| 30/30 [00:01<00:00, 23.33it/s, v_num=5]"
     ]
    },
    {
     "name": "stderr",
     "output_type": "stream",
     "text": [
      "Metric val_loss improved by 22.454 >= min_delta = 0.001. New best score: 15928.764\n",
      "Epoch 15, global step 480: 'val_loss' reached 15928.76439 (best 15928.76439), saving model to 'logs/ae/version_5/checkpoints/ae_best.ckpt' as top 1\n"
     ]
    },
    {
     "name": "stdout",
     "output_type": "stream",
     "text": [
      "Epoch 16: 100%|██████████| 30/30 [00:01<00:00, 23.89it/s, v_num=5]"
     ]
    },
    {
     "name": "stderr",
     "output_type": "stream",
     "text": [
      "Metric val_loss improved by 41.730 >= min_delta = 0.001. New best score: 15887.034\n",
      "Epoch 16, global step 510: 'val_loss' reached 15887.03392 (best 15887.03392), saving model to 'logs/ae/version_5/checkpoints/ae_best.ckpt' as top 1\n"
     ]
    },
    {
     "name": "stdout",
     "output_type": "stream",
     "text": [
      "Epoch 17: 100%|██████████| 30/30 [00:01<00:00, 24.48it/s, v_num=5]"
     ]
    },
    {
     "name": "stderr",
     "output_type": "stream",
     "text": [
      "Metric val_loss improved by 7.306 >= min_delta = 0.001. New best score: 15879.728\n",
      "Epoch 17, global step 540: 'val_loss' reached 15879.72820 (best 15879.72820), saving model to 'logs/ae/version_5/checkpoints/ae_best.ckpt' as top 1\n"
     ]
    },
    {
     "name": "stdout",
     "output_type": "stream",
     "text": [
      "Epoch 18: 100%|██████████| 30/30 [00:01<00:00, 22.10it/s, v_num=5]"
     ]
    },
    {
     "name": "stderr",
     "output_type": "stream",
     "text": [
      "Metric val_loss improved by 34.322 >= min_delta = 0.001. New best score: 15845.406\n",
      "Epoch 18, global step 570: 'val_loss' reached 15845.40617 (best 15845.40617), saving model to 'logs/ae/version_5/checkpoints/ae_best.ckpt' as top 1\n"
     ]
    },
    {
     "name": "stdout",
     "output_type": "stream",
     "text": [
      "Epoch 19: 100%|██████████| 30/30 [00:01<00:00, 24.31it/s, v_num=5]"
     ]
    },
    {
     "name": "stderr",
     "output_type": "stream",
     "text": [
      "Metric val_loss improved by 13.773 >= min_delta = 0.001. New best score: 15831.633\n",
      "Epoch 19, global step 600: 'val_loss' reached 15831.63311 (best 15831.63311), saving model to 'logs/ae/version_5/checkpoints/ae_best.ckpt' as top 1\n"
     ]
    },
    {
     "name": "stdout",
     "output_type": "stream",
     "text": [
      "Epoch 20: 100%|██████████| 30/30 [00:01<00:00, 23.45it/s, v_num=5]"
     ]
    },
    {
     "name": "stderr",
     "output_type": "stream",
     "text": [
      "Metric val_loss improved by 9.845 >= min_delta = 0.001. New best score: 15821.788\n",
      "Epoch 20, global step 630: 'val_loss' reached 15821.78808 (best 15821.78808), saving model to 'logs/ae/version_5/checkpoints/ae_best.ckpt' as top 1\n"
     ]
    },
    {
     "name": "stdout",
     "output_type": "stream",
     "text": [
      "Epoch 21: 100%|██████████| 30/30 [00:01<00:00, 23.86it/s, v_num=5]"
     ]
    },
    {
     "name": "stderr",
     "output_type": "stream",
     "text": [
      "Epoch 21, global step 660: 'val_loss' was not in top 1\n"
     ]
    },
    {
     "name": "stdout",
     "output_type": "stream",
     "text": [
      "Epoch 22: 100%|██████████| 30/30 [00:01<00:00, 24.87it/s, v_num=5]"
     ]
    },
    {
     "name": "stderr",
     "output_type": "stream",
     "text": [
      "Metric val_loss improved by 25.756 >= min_delta = 0.001. New best score: 15796.032\n",
      "Epoch 22, global step 690: 'val_loss' reached 15796.03210 (best 15796.03210), saving model to 'logs/ae/version_5/checkpoints/ae_best.ckpt' as top 1\n"
     ]
    },
    {
     "name": "stdout",
     "output_type": "stream",
     "text": [
      "Epoch 23: 100%|██████████| 30/30 [00:01<00:00, 23.70it/s, v_num=5]"
     ]
    },
    {
     "name": "stderr",
     "output_type": "stream",
     "text": [
      "Epoch 23, global step 720: 'val_loss' was not in top 1\n"
     ]
    },
    {
     "name": "stdout",
     "output_type": "stream",
     "text": [
      "Epoch 24: 100%|██████████| 30/30 [00:01<00:00, 23.56it/s, v_num=5]"
     ]
    },
    {
     "name": "stderr",
     "output_type": "stream",
     "text": [
      "Metric val_loss improved by 14.787 >= min_delta = 0.001. New best score: 15781.246\n",
      "Epoch 24, global step 750: 'val_loss' reached 15781.24551 (best 15781.24551), saving model to 'logs/ae/version_5/checkpoints/ae_best.ckpt' as top 1\n"
     ]
    },
    {
     "name": "stdout",
     "output_type": "stream",
     "text": [
      "Epoch 25: 100%|██████████| 30/30 [00:01<00:00, 21.65it/s, v_num=5]"
     ]
    },
    {
     "name": "stderr",
     "output_type": "stream",
     "text": [
      "Metric val_loss improved by 5.463 >= min_delta = 0.001. New best score: 15775.783\n",
      "Epoch 25, global step 780: 'val_loss' reached 15775.78298 (best 15775.78298), saving model to 'logs/ae/version_5/checkpoints/ae_best.ckpt' as top 1\n"
     ]
    },
    {
     "name": "stdout",
     "output_type": "stream",
     "text": [
      "Epoch 26: 100%|██████████| 30/30 [00:01<00:00, 22.92it/s, v_num=5]"
     ]
    },
    {
     "name": "stderr",
     "output_type": "stream",
     "text": [
      "Metric val_loss improved by 44.386 >= min_delta = 0.001. New best score: 15731.397\n",
      "Epoch 26, global step 810: 'val_loss' reached 15731.39651 (best 15731.39651), saving model to 'logs/ae/version_5/checkpoints/ae_best.ckpt' as top 1\n"
     ]
    },
    {
     "name": "stdout",
     "output_type": "stream",
     "text": [
      "Epoch 27: 100%|██████████| 30/30 [00:01<00:00, 23.64it/s, v_num=5]"
     ]
    },
    {
     "name": "stderr",
     "output_type": "stream",
     "text": [
      "Metric val_loss improved by 29.578 >= min_delta = 0.001. New best score: 15701.819\n",
      "Epoch 27, global step 840: 'val_loss' reached 15701.81874 (best 15701.81874), saving model to 'logs/ae/version_5/checkpoints/ae_best.ckpt' as top 1\n"
     ]
    },
    {
     "name": "stdout",
     "output_type": "stream",
     "text": [
      "Epoch 28: 100%|██████████| 30/30 [00:01<00:00, 23.48it/s, v_num=5]"
     ]
    },
    {
     "name": "stderr",
     "output_type": "stream",
     "text": [
      "Metric val_loss improved by 88.723 >= min_delta = 0.001. New best score: 15613.096\n",
      "Epoch 28, global step 870: 'val_loss' reached 15613.09566 (best 15613.09566), saving model to 'logs/ae/version_5/checkpoints/ae_best.ckpt' as top 1\n"
     ]
    },
    {
     "name": "stdout",
     "output_type": "stream",
     "text": [
      "Epoch 29: 100%|██████████| 30/30 [00:01<00:00, 23.62it/s, v_num=5]"
     ]
    },
    {
     "name": "stderr",
     "output_type": "stream",
     "text": [
      "Metric val_loss improved by 168.165 >= min_delta = 0.001. New best score: 15444.930\n",
      "Epoch 29, global step 900: 'val_loss' reached 15444.93022 (best 15444.93022), saving model to 'logs/ae/version_5/checkpoints/ae_best.ckpt' as top 1\n"
     ]
    },
    {
     "name": "stdout",
     "output_type": "stream",
     "text": [
      "Epoch 30: 100%|██████████| 30/30 [00:01<00:00, 24.12it/s, v_num=5]"
     ]
    },
    {
     "name": "stderr",
     "output_type": "stream",
     "text": [
      "Metric val_loss improved by 139.638 >= min_delta = 0.001. New best score: 15305.292\n",
      "Epoch 30, global step 930: 'val_loss' reached 15305.29195 (best 15305.29195), saving model to 'logs/ae/version_5/checkpoints/ae_best.ckpt' as top 1\n"
     ]
    },
    {
     "name": "stdout",
     "output_type": "stream",
     "text": [
      "Epoch 31: 100%|██████████| 30/30 [00:01<00:00, 24.07it/s, v_num=5]"
     ]
    },
    {
     "name": "stderr",
     "output_type": "stream",
     "text": [
      "Metric val_loss improved by 113.225 >= min_delta = 0.001. New best score: 15192.067\n",
      "Epoch 31, global step 960: 'val_loss' reached 15192.06677 (best 15192.06677), saving model to 'logs/ae/version_5/checkpoints/ae_best.ckpt' as top 1\n"
     ]
    },
    {
     "name": "stdout",
     "output_type": "stream",
     "text": [
      "Epoch 32: 100%|██████████| 30/30 [00:01<00:00, 23.17it/s, v_num=5]"
     ]
    },
    {
     "name": "stderr",
     "output_type": "stream",
     "text": [
      "Metric val_loss improved by 40.690 >= min_delta = 0.001. New best score: 15151.376\n",
      "Epoch 32, global step 990: 'val_loss' reached 15151.37648 (best 15151.37648), saving model to 'logs/ae/version_5/checkpoints/ae_best.ckpt' as top 1\n"
     ]
    },
    {
     "name": "stdout",
     "output_type": "stream",
     "text": [
      "Epoch 33: 100%|██████████| 30/30 [00:01<00:00, 24.24it/s, v_num=5]"
     ]
    },
    {
     "name": "stderr",
     "output_type": "stream",
     "text": [
      "Metric val_loss improved by 52.110 >= min_delta = 0.001. New best score: 15099.266\n",
      "Epoch 33, global step 1020: 'val_loss' reached 15099.26639 (best 15099.26639), saving model to 'logs/ae/version_5/checkpoints/ae_best.ckpt' as top 1\n"
     ]
    },
    {
     "name": "stdout",
     "output_type": "stream",
     "text": [
      "Epoch 34: 100%|██████████| 30/30 [00:01<00:00, 21.79it/s, v_num=5]"
     ]
    },
    {
     "name": "stderr",
     "output_type": "stream",
     "text": [
      "Metric val_loss improved by 9.283 >= min_delta = 0.001. New best score: 15089.983\n",
      "Epoch 34, global step 1050: 'val_loss' reached 15089.98310 (best 15089.98310), saving model to 'logs/ae/version_5/checkpoints/ae_best.ckpt' as top 1\n"
     ]
    },
    {
     "name": "stdout",
     "output_type": "stream",
     "text": [
      "Epoch 35: 100%|██████████| 30/30 [00:01<00:00, 21.30it/s, v_num=5]"
     ]
    },
    {
     "name": "stderr",
     "output_type": "stream",
     "text": [
      "Metric val_loss improved by 40.399 >= min_delta = 0.001. New best score: 15049.585\n",
      "Epoch 35, global step 1080: 'val_loss' reached 15049.58458 (best 15049.58458), saving model to 'logs/ae/version_5/checkpoints/ae_best.ckpt' as top 1\n"
     ]
    },
    {
     "name": "stdout",
     "output_type": "stream",
     "text": [
      "Epoch 36: 100%|██████████| 30/30 [00:01<00:00, 23.13it/s, v_num=5]"
     ]
    },
    {
     "name": "stderr",
     "output_type": "stream",
     "text": [
      "Metric val_loss improved by 11.506 >= min_delta = 0.001. New best score: 15038.078\n",
      "Epoch 36, global step 1110: 'val_loss' reached 15038.07830 (best 15038.07830), saving model to 'logs/ae/version_5/checkpoints/ae_best.ckpt' as top 1\n"
     ]
    },
    {
     "name": "stdout",
     "output_type": "stream",
     "text": [
      "Epoch 37: 100%|██████████| 30/30 [00:01<00:00, 23.56it/s, v_num=5]"
     ]
    },
    {
     "name": "stderr",
     "output_type": "stream",
     "text": [
      "Metric val_loss improved by 24.672 >= min_delta = 0.001. New best score: 15013.406\n",
      "Epoch 37, global step 1140: 'val_loss' reached 15013.40602 (best 15013.40602), saving model to 'logs/ae/version_5/checkpoints/ae_best.ckpt' as top 1\n"
     ]
    },
    {
     "name": "stdout",
     "output_type": "stream",
     "text": [
      "Epoch 38: 100%|██████████| 30/30 [00:01<00:00, 24.48it/s, v_num=5]"
     ]
    },
    {
     "name": "stderr",
     "output_type": "stream",
     "text": [
      "Epoch 38, global step 1170: 'val_loss' was not in top 1\n"
     ]
    },
    {
     "name": "stdout",
     "output_type": "stream",
     "text": [
      "Epoch 39: 100%|██████████| 30/30 [00:01<00:00, 23.31it/s, v_num=5]"
     ]
    },
    {
     "name": "stderr",
     "output_type": "stream",
     "text": [
      "Metric val_loss improved by 31.555 >= min_delta = 0.001. New best score: 14981.851\n",
      "Epoch 39, global step 1200: 'val_loss' reached 14981.85109 (best 14981.85109), saving model to 'logs/ae/version_5/checkpoints/ae_best.ckpt' as top 1\n"
     ]
    },
    {
     "name": "stdout",
     "output_type": "stream",
     "text": [
      "Epoch 40: 100%|██████████| 30/30 [00:01<00:00, 24.22it/s, v_num=5]"
     ]
    },
    {
     "name": "stderr",
     "output_type": "stream",
     "text": [
      "Epoch 40, global step 1230: 'val_loss' was not in top 1\n"
     ]
    },
    {
     "name": "stdout",
     "output_type": "stream",
     "text": [
      "Epoch 41: 100%|██████████| 30/30 [00:01<00:00, 22.63it/s, v_num=5]"
     ]
    },
    {
     "name": "stderr",
     "output_type": "stream",
     "text": [
      "Metric val_loss improved by 14.825 >= min_delta = 0.001. New best score: 14967.026\n",
      "Epoch 41, global step 1260: 'val_loss' reached 14967.02589 (best 14967.02589), saving model to 'logs/ae/version_5/checkpoints/ae_best.ckpt' as top 1\n"
     ]
    },
    {
     "name": "stdout",
     "output_type": "stream",
     "text": [
      "Epoch 42: 100%|██████████| 30/30 [00:01<00:00, 24.71it/s, v_num=5]"
     ]
    },
    {
     "name": "stderr",
     "output_type": "stream",
     "text": [
      "Metric val_loss improved by 3.178 >= min_delta = 0.001. New best score: 14963.848\n",
      "Epoch 42, global step 1290: 'val_loss' reached 14963.84806 (best 14963.84806), saving model to 'logs/ae/version_5/checkpoints/ae_best.ckpt' as top 1\n"
     ]
    },
    {
     "name": "stdout",
     "output_type": "stream",
     "text": [
      "Epoch 43: 100%|██████████| 30/30 [00:01<00:00, 22.82it/s, v_num=5]"
     ]
    },
    {
     "name": "stderr",
     "output_type": "stream",
     "text": [
      "Metric val_loss improved by 39.801 >= min_delta = 0.001. New best score: 14924.047\n",
      "Epoch 43, global step 1320: 'val_loss' reached 14924.04685 (best 14924.04685), saving model to 'logs/ae/version_5/checkpoints/ae_best.ckpt' as top 1\n"
     ]
    },
    {
     "name": "stdout",
     "output_type": "stream",
     "text": [
      "Epoch 44: 100%|██████████| 30/30 [00:01<00:00, 23.53it/s, v_num=5]"
     ]
    },
    {
     "name": "stderr",
     "output_type": "stream",
     "text": [
      "Metric val_loss improved by 1.393 >= min_delta = 0.001. New best score: 14922.654\n",
      "Epoch 44, global step 1350: 'val_loss' reached 14922.65371 (best 14922.65371), saving model to 'logs/ae/version_5/checkpoints/ae_best.ckpt' as top 1\n"
     ]
    },
    {
     "name": "stdout",
     "output_type": "stream",
     "text": [
      "Epoch 45: 100%|██████████| 30/30 [00:01<00:00, 24.59it/s, v_num=5]"
     ]
    },
    {
     "name": "stderr",
     "output_type": "stream",
     "text": [
      "Metric val_loss improved by 14.778 >= min_delta = 0.001. New best score: 14907.875\n",
      "Epoch 45, global step 1380: 'val_loss' reached 14907.87529 (best 14907.87529), saving model to 'logs/ae/version_5/checkpoints/ae_best.ckpt' as top 1\n"
     ]
    },
    {
     "name": "stdout",
     "output_type": "stream",
     "text": [
      "Epoch 46: 100%|██████████| 30/30 [00:01<00:00, 24.38it/s, v_num=5]"
     ]
    },
    {
     "name": "stderr",
     "output_type": "stream",
     "text": [
      "Epoch 46, global step 1410: 'val_loss' was not in top 1\n"
     ]
    },
    {
     "name": "stdout",
     "output_type": "stream",
     "text": [
      "Epoch 47: 100%|██████████| 30/30 [00:01<00:00, 23.30it/s, v_num=5]"
     ]
    },
    {
     "name": "stderr",
     "output_type": "stream",
     "text": [
      "Metric val_loss improved by 21.587 >= min_delta = 0.001. New best score: 14886.289\n",
      "Epoch 47, global step 1440: 'val_loss' reached 14886.28867 (best 14886.28867), saving model to 'logs/ae/version_5/checkpoints/ae_best.ckpt' as top 1\n"
     ]
    },
    {
     "name": "stdout",
     "output_type": "stream",
     "text": [
      "Epoch 48: 100%|██████████| 30/30 [00:01<00:00, 24.65it/s, v_num=5]"
     ]
    },
    {
     "name": "stderr",
     "output_type": "stream",
     "text": [
      "Epoch 48, global step 1470: 'val_loss' was not in top 1\n"
     ]
    },
    {
     "name": "stdout",
     "output_type": "stream",
     "text": [
      "Epoch 49: 100%|██████████| 30/30 [00:01<00:00, 24.69it/s, v_num=5]"
     ]
    },
    {
     "name": "stderr",
     "output_type": "stream",
     "text": [
      "Metric val_loss improved by 10.316 >= min_delta = 0.001. New best score: 14875.973\n",
      "Epoch 49, global step 1500: 'val_loss' reached 14875.97295 (best 14875.97295), saving model to 'logs/ae/version_5/checkpoints/ae_best.ckpt' as top 1\n"
     ]
    },
    {
     "name": "stdout",
     "output_type": "stream",
     "text": [
      "Epoch 50: 100%|██████████| 30/30 [00:01<00:00, 23.39it/s, v_num=5]"
     ]
    },
    {
     "name": "stderr",
     "output_type": "stream",
     "text": [
      "Epoch 50, global step 1530: 'val_loss' was not in top 1\n"
     ]
    },
    {
     "name": "stdout",
     "output_type": "stream",
     "text": [
      "Epoch 51: 100%|██████████| 30/30 [00:01<00:00, 24.05it/s, v_num=5]"
     ]
    },
    {
     "name": "stderr",
     "output_type": "stream",
     "text": [
      "Metric val_loss improved by 4.395 >= min_delta = 0.001. New best score: 14871.578\n",
      "Epoch 51, global step 1560: 'val_loss' reached 14871.57833 (best 14871.57833), saving model to 'logs/ae/version_5/checkpoints/ae_best.ckpt' as top 1\n"
     ]
    },
    {
     "name": "stdout",
     "output_type": "stream",
     "text": [
      "Epoch 52: 100%|██████████| 30/30 [00:01<00:00, 24.55it/s, v_num=5]"
     ]
    },
    {
     "name": "stderr",
     "output_type": "stream",
     "text": [
      "Epoch 52, global step 1590: 'val_loss' was not in top 1\n"
     ]
    },
    {
     "name": "stdout",
     "output_type": "stream",
     "text": [
      "Epoch 53: 100%|██████████| 30/30 [00:01<00:00, 22.74it/s, v_num=5]"
     ]
    },
    {
     "name": "stderr",
     "output_type": "stream",
     "text": [
      "Metric val_loss improved by 3.638 >= min_delta = 0.001. New best score: 14867.940\n",
      "Epoch 53, global step 1620: 'val_loss' reached 14867.94025 (best 14867.94025), saving model to 'logs/ae/version_5/checkpoints/ae_best.ckpt' as top 1\n"
     ]
    },
    {
     "name": "stdout",
     "output_type": "stream",
     "text": [
      "Epoch 54: 100%|██████████| 30/30 [00:01<00:00, 23.35it/s, v_num=5]"
     ]
    },
    {
     "name": "stderr",
     "output_type": "stream",
     "text": [
      "Metric val_loss improved by 4.136 >= min_delta = 0.001. New best score: 14863.804\n",
      "Epoch 54, global step 1650: 'val_loss' reached 14863.80395 (best 14863.80395), saving model to 'logs/ae/version_5/checkpoints/ae_best.ckpt' as top 1\n"
     ]
    },
    {
     "name": "stdout",
     "output_type": "stream",
     "text": [
      "Epoch 55: 100%|██████████| 30/30 [00:01<00:00, 22.14it/s, v_num=5]"
     ]
    },
    {
     "name": "stderr",
     "output_type": "stream",
     "text": [
      "Epoch 55, global step 1680: 'val_loss' was not in top 1\n"
     ]
    },
    {
     "name": "stdout",
     "output_type": "stream",
     "text": [
      "Epoch 56: 100%|██████████| 30/30 [00:01<00:00, 22.04it/s, v_num=5]"
     ]
    },
    {
     "name": "stderr",
     "output_type": "stream",
     "text": [
      "Epoch 56, global step 1710: 'val_loss' was not in top 1\n"
     ]
    },
    {
     "name": "stdout",
     "output_type": "stream",
     "text": [
      "Epoch 57: 100%|██████████| 30/30 [00:01<00:00, 23.54it/s, v_num=5]"
     ]
    },
    {
     "name": "stderr",
     "output_type": "stream",
     "text": [
      "Metric val_loss improved by 14.169 >= min_delta = 0.001. New best score: 14849.635\n",
      "Epoch 57, global step 1740: 'val_loss' reached 14849.63523 (best 14849.63523), saving model to 'logs/ae/version_5/checkpoints/ae_best.ckpt' as top 1\n"
     ]
    },
    {
     "name": "stdout",
     "output_type": "stream",
     "text": [
      "Epoch 58: 100%|██████████| 30/30 [00:01<00:00, 23.73it/s, v_num=5]"
     ]
    },
    {
     "name": "stderr",
     "output_type": "stream",
     "text": [
      "Epoch 58, global step 1770: 'val_loss' was not in top 1\n"
     ]
    },
    {
     "name": "stdout",
     "output_type": "stream",
     "text": [
      "Epoch 59: 100%|██████████| 30/30 [00:01<00:00, 23.01it/s, v_num=5]"
     ]
    },
    {
     "name": "stderr",
     "output_type": "stream",
     "text": [
      "Epoch 59, global step 1800: 'val_loss' was not in top 1\n"
     ]
    },
    {
     "name": "stdout",
     "output_type": "stream",
     "text": [
      "Epoch 60: 100%|██████████| 30/30 [00:01<00:00, 23.69it/s, v_num=5]"
     ]
    },
    {
     "name": "stderr",
     "output_type": "stream",
     "text": [
      "Metric val_loss improved by 24.792 >= min_delta = 0.001. New best score: 14824.843\n",
      "Epoch 60, global step 1830: 'val_loss' reached 14824.84275 (best 14824.84275), saving model to 'logs/ae/version_5/checkpoints/ae_best.ckpt' as top 1\n"
     ]
    },
    {
     "name": "stdout",
     "output_type": "stream",
     "text": [
      "Epoch 61: 100%|██████████| 30/30 [00:01<00:00, 23.30it/s, v_num=5]"
     ]
    },
    {
     "name": "stderr",
     "output_type": "stream",
     "text": [
      "Epoch 61, global step 1860: 'val_loss' was not in top 1\n"
     ]
    },
    {
     "name": "stdout",
     "output_type": "stream",
     "text": [
      "Epoch 62: 100%|██████████| 30/30 [00:01<00:00, 24.75it/s, v_num=5]"
     ]
    },
    {
     "name": "stderr",
     "output_type": "stream",
     "text": [
      "Epoch 62, global step 1890: 'val_loss' was not in top 1\n"
     ]
    },
    {
     "name": "stdout",
     "output_type": "stream",
     "text": [
      "Epoch 63: 100%|██████████| 30/30 [00:01<00:00, 23.27it/s, v_num=5]"
     ]
    },
    {
     "name": "stderr",
     "output_type": "stream",
     "text": [
      "Epoch 63, global step 1920: 'val_loss' was not in top 1\n"
     ]
    },
    {
     "name": "stdout",
     "output_type": "stream",
     "text": [
      "Epoch 64: 100%|██████████| 30/30 [00:01<00:00, 24.10it/s, v_num=5]"
     ]
    },
    {
     "name": "stderr",
     "output_type": "stream",
     "text": [
      "Epoch 64, global step 1950: 'val_loss' was not in top 1\n"
     ]
    },
    {
     "name": "stdout",
     "output_type": "stream",
     "text": [
      "Epoch 65: 100%|██████████| 30/30 [00:01<00:00, 24.27it/s, v_num=5]"
     ]
    },
    {
     "name": "stderr",
     "output_type": "stream",
     "text": [
      "Metric val_loss improved by 23.041 >= min_delta = 0.001. New best score: 14801.802\n",
      "Epoch 65, global step 1980: 'val_loss' reached 14801.80183 (best 14801.80183), saving model to 'logs/ae/version_5/checkpoints/ae_best.ckpt' as top 1\n"
     ]
    },
    {
     "name": "stdout",
     "output_type": "stream",
     "text": [
      "Epoch 66: 100%|██████████| 30/30 [00:01<00:00, 24.21it/s, v_num=5]"
     ]
    },
    {
     "name": "stderr",
     "output_type": "stream",
     "text": [
      "Epoch 66, global step 2010: 'val_loss' was not in top 1\n"
     ]
    },
    {
     "name": "stdout",
     "output_type": "stream",
     "text": [
      "Epoch 67: 100%|██████████| 30/30 [00:01<00:00, 22.83it/s, v_num=5]"
     ]
    },
    {
     "name": "stderr",
     "output_type": "stream",
     "text": [
      "Epoch 67, global step 2040: 'val_loss' was not in top 1\n"
     ]
    },
    {
     "name": "stdout",
     "output_type": "stream",
     "text": [
      "Epoch 68: 100%|██████████| 30/30 [00:01<00:00, 22.59it/s, v_num=5]"
     ]
    },
    {
     "name": "stderr",
     "output_type": "stream",
     "text": [
      "Epoch 68, global step 2070: 'val_loss' was not in top 1\n"
     ]
    },
    {
     "name": "stdout",
     "output_type": "stream",
     "text": [
      "Epoch 69: 100%|██████████| 30/30 [00:01<00:00, 24.18it/s, v_num=5]"
     ]
    },
    {
     "name": "stderr",
     "output_type": "stream",
     "text": [
      "Metric val_loss improved by 33.808 >= min_delta = 0.001. New best score: 14767.994\n",
      "Epoch 69, global step 2100: 'val_loss' reached 14767.99404 (best 14767.99404), saving model to 'logs/ae/version_5/checkpoints/ae_best.ckpt' as top 1\n"
     ]
    },
    {
     "name": "stdout",
     "output_type": "stream",
     "text": [
      "Epoch 70: 100%|██████████| 30/30 [00:01<00:00, 24.17it/s, v_num=5]"
     ]
    },
    {
     "name": "stderr",
     "output_type": "stream",
     "text": [
      "Epoch 70, global step 2130: 'val_loss' was not in top 1\n"
     ]
    },
    {
     "name": "stdout",
     "output_type": "stream",
     "text": [
      "Epoch 71: 100%|██████████| 30/30 [00:01<00:00, 22.93it/s, v_num=5]"
     ]
    },
    {
     "name": "stderr",
     "output_type": "stream",
     "text": [
      "Epoch 71, global step 2160: 'val_loss' was not in top 1\n"
     ]
    },
    {
     "name": "stdout",
     "output_type": "stream",
     "text": [
      "Epoch 72: 100%|██████████| 30/30 [00:01<00:00, 24.29it/s, v_num=5]"
     ]
    },
    {
     "name": "stderr",
     "output_type": "stream",
     "text": [
      "Epoch 72, global step 2190: 'val_loss' was not in top 1\n"
     ]
    },
    {
     "name": "stdout",
     "output_type": "stream",
     "text": [
      "Epoch 73: 100%|██████████| 30/30 [00:01<00:00, 23.58it/s, v_num=5]"
     ]
    },
    {
     "name": "stderr",
     "output_type": "stream",
     "text": [
      "Epoch 73, global step 2220: 'val_loss' was not in top 1\n"
     ]
    },
    {
     "name": "stdout",
     "output_type": "stream",
     "text": [
      "Epoch 74: 100%|██████████| 30/30 [00:01<00:00, 23.52it/s, v_num=5]"
     ]
    },
    {
     "name": "stderr",
     "output_type": "stream",
     "text": [
      "Metric val_loss improved by 3.689 >= min_delta = 0.001. New best score: 14764.305\n",
      "Epoch 74, global step 2250: 'val_loss' reached 14764.30549 (best 14764.30549), saving model to 'logs/ae/version_5/checkpoints/ae_best.ckpt' as top 1\n"
     ]
    },
    {
     "name": "stdout",
     "output_type": "stream",
     "text": [
      "Epoch 75: 100%|██████████| 30/30 [00:01<00:00, 23.62it/s, v_num=5]"
     ]
    },
    {
     "name": "stderr",
     "output_type": "stream",
     "text": [
      "Epoch 75, global step 2280: 'val_loss' was not in top 1\n"
     ]
    },
    {
     "name": "stdout",
     "output_type": "stream",
     "text": [
      "Epoch 76: 100%|██████████| 30/30 [00:01<00:00, 24.06it/s, v_num=5]"
     ]
    },
    {
     "name": "stderr",
     "output_type": "stream",
     "text": [
      "Metric val_loss improved by 12.827 >= min_delta = 0.001. New best score: 14751.478\n",
      "Epoch 76, global step 2310: 'val_loss' reached 14751.47805 (best 14751.47805), saving model to 'logs/ae/version_5/checkpoints/ae_best.ckpt' as top 1\n"
     ]
    },
    {
     "name": "stdout",
     "output_type": "stream",
     "text": [
      "Epoch 77: 100%|██████████| 30/30 [00:01<00:00, 23.74it/s, v_num=5]"
     ]
    },
    {
     "name": "stderr",
     "output_type": "stream",
     "text": [
      "Metric val_loss improved by 3.239 >= min_delta = 0.001. New best score: 14748.239\n",
      "Epoch 77, global step 2340: 'val_loss' reached 14748.23950 (best 14748.23950), saving model to 'logs/ae/version_5/checkpoints/ae_best.ckpt' as top 1\n"
     ]
    },
    {
     "name": "stdout",
     "output_type": "stream",
     "text": [
      "Epoch 78: 100%|██████████| 30/30 [00:01<00:00, 24.32it/s, v_num=5]"
     ]
    },
    {
     "name": "stderr",
     "output_type": "stream",
     "text": [
      "Epoch 78, global step 2370: 'val_loss' was not in top 1\n"
     ]
    },
    {
     "name": "stdout",
     "output_type": "stream",
     "text": [
      "Epoch 79: 100%|██████████| 30/30 [00:01<00:00, 24.67it/s, v_num=5]"
     ]
    },
    {
     "name": "stderr",
     "output_type": "stream",
     "text": [
      "Epoch 79, global step 2400: 'val_loss' was not in top 1\n"
     ]
    },
    {
     "name": "stdout",
     "output_type": "stream",
     "text": [
      "Epoch 80: 100%|██████████| 30/30 [00:01<00:00, 24.74it/s, v_num=5]"
     ]
    },
    {
     "name": "stderr",
     "output_type": "stream",
     "text": [
      "Metric val_loss improved by 4.488 >= min_delta = 0.001. New best score: 14743.752\n",
      "Epoch 80, global step 2430: 'val_loss' reached 14743.75186 (best 14743.75186), saving model to 'logs/ae/version_5/checkpoints/ae_best.ckpt' as top 1\n"
     ]
    },
    {
     "name": "stdout",
     "output_type": "stream",
     "text": [
      "Epoch 81: 100%|██████████| 30/30 [00:01<00:00, 24.14it/s, v_num=5]"
     ]
    },
    {
     "name": "stderr",
     "output_type": "stream",
     "text": [
      "Epoch 81, global step 2460: 'val_loss' was not in top 1\n"
     ]
    },
    {
     "name": "stdout",
     "output_type": "stream",
     "text": [
      "Epoch 82: 100%|██████████| 30/30 [00:01<00:00, 23.19it/s, v_num=5]"
     ]
    },
    {
     "name": "stderr",
     "output_type": "stream",
     "text": [
      "Metric val_loss improved by 19.067 >= min_delta = 0.001. New best score: 14724.685\n",
      "Epoch 82, global step 2490: 'val_loss' reached 14724.68453 (best 14724.68453), saving model to 'logs/ae/version_5/checkpoints/ae_best.ckpt' as top 1\n"
     ]
    },
    {
     "name": "stdout",
     "output_type": "stream",
     "text": [
      "Epoch 83: 100%|██████████| 30/30 [00:01<00:00, 23.94it/s, v_num=5]"
     ]
    },
    {
     "name": "stderr",
     "output_type": "stream",
     "text": [
      "Epoch 83, global step 2520: 'val_loss' was not in top 1\n"
     ]
    },
    {
     "name": "stdout",
     "output_type": "stream",
     "text": [
      "Epoch 84: 100%|██████████| 30/30 [00:01<00:00, 22.86it/s, v_num=5]"
     ]
    },
    {
     "name": "stderr",
     "output_type": "stream",
     "text": [
      "Epoch 84, global step 2550: 'val_loss' was not in top 1\n"
     ]
    },
    {
     "name": "stdout",
     "output_type": "stream",
     "text": [
      "Epoch 85: 100%|██████████| 30/30 [00:01<00:00, 25.31it/s, v_num=5]"
     ]
    },
    {
     "name": "stderr",
     "output_type": "stream",
     "text": [
      "Metric val_loss improved by 22.091 >= min_delta = 0.001. New best score: 14702.594\n",
      "Epoch 85, global step 2580: 'val_loss' reached 14702.59368 (best 14702.59368), saving model to 'logs/ae/version_5/checkpoints/ae_best.ckpt' as top 1\n"
     ]
    },
    {
     "name": "stdout",
     "output_type": "stream",
     "text": [
      "Epoch 86: 100%|██████████| 30/30 [00:01<00:00, 23.26it/s, v_num=5]"
     ]
    },
    {
     "name": "stderr",
     "output_type": "stream",
     "text": [
      "Epoch 86, global step 2610: 'val_loss' was not in top 1\n"
     ]
    },
    {
     "name": "stdout",
     "output_type": "stream",
     "text": [
      "Epoch 87: 100%|██████████| 30/30 [00:01<00:00, 24.22it/s, v_num=5]"
     ]
    },
    {
     "name": "stderr",
     "output_type": "stream",
     "text": [
      "Epoch 87, global step 2640: 'val_loss' was not in top 1\n"
     ]
    },
    {
     "name": "stdout",
     "output_type": "stream",
     "text": [
      "Epoch 88: 100%|██████████| 30/30 [00:01<00:00, 23.68it/s, v_num=5]"
     ]
    },
    {
     "name": "stderr",
     "output_type": "stream",
     "text": [
      "Epoch 88, global step 2670: 'val_loss' was not in top 1\n"
     ]
    },
    {
     "name": "stdout",
     "output_type": "stream",
     "text": [
      "Epoch 89: 100%|██████████| 30/30 [00:01<00:00, 23.82it/s, v_num=5]"
     ]
    },
    {
     "name": "stderr",
     "output_type": "stream",
     "text": [
      "Epoch 89, global step 2700: 'val_loss' was not in top 1\n"
     ]
    },
    {
     "name": "stdout",
     "output_type": "stream",
     "text": [
      "Epoch 90: 100%|██████████| 30/30 [00:01<00:00, 24.23it/s, v_num=5]"
     ]
    },
    {
     "name": "stderr",
     "output_type": "stream",
     "text": [
      "Epoch 90, global step 2730: 'val_loss' was not in top 1\n"
     ]
    },
    {
     "name": "stdout",
     "output_type": "stream",
     "text": [
      "Epoch 91: 100%|██████████| 30/30 [00:01<00:00, 24.18it/s, v_num=5]"
     ]
    },
    {
     "name": "stderr",
     "output_type": "stream",
     "text": [
      "Epoch 91, global step 2760: 'val_loss' was not in top 1\n"
     ]
    },
    {
     "name": "stdout",
     "output_type": "stream",
     "text": [
      "Epoch 00092: reducing learning rate of group 0 to 1.0000e-04.\n",
      "Epoch 92: 100%|██████████| 30/30 [00:01<00:00, 24.34it/s, v_num=5]"
     ]
    },
    {
     "name": "stderr",
     "output_type": "stream",
     "text": [
      "Metric val_loss improved by 43.314 >= min_delta = 0.001. New best score: 14659.279\n",
      "Epoch 92, global step 2790: 'val_loss' reached 14659.27922 (best 14659.27922), saving model to 'logs/ae/version_5/checkpoints/ae_best.ckpt' as top 1\n"
     ]
    },
    {
     "name": "stdout",
     "output_type": "stream",
     "text": [
      "Epoch 93: 100%|██████████| 30/30 [00:01<00:00, 23.85it/s, v_num=5]"
     ]
    },
    {
     "name": "stderr",
     "output_type": "stream",
     "text": [
      "Metric val_loss improved by 8.574 >= min_delta = 0.001. New best score: 14650.705\n",
      "Epoch 93, global step 2820: 'val_loss' reached 14650.70532 (best 14650.70532), saving model to 'logs/ae/version_5/checkpoints/ae_best.ckpt' as top 1\n"
     ]
    },
    {
     "name": "stdout",
     "output_type": "stream",
     "text": [
      "Epoch 94: 100%|██████████| 30/30 [00:01<00:00, 24.12it/s, v_num=5]"
     ]
    },
    {
     "name": "stderr",
     "output_type": "stream",
     "text": [
      "Metric val_loss improved by 2.282 >= min_delta = 0.001. New best score: 14648.423\n",
      "Epoch 94, global step 2850: 'val_loss' reached 14648.42312 (best 14648.42312), saving model to 'logs/ae/version_5/checkpoints/ae_best.ckpt' as top 1\n"
     ]
    },
    {
     "name": "stdout",
     "output_type": "stream",
     "text": [
      "Epoch 95: 100%|██████████| 30/30 [00:01<00:00, 23.84it/s, v_num=5]"
     ]
    },
    {
     "name": "stderr",
     "output_type": "stream",
     "text": [
      "Metric val_loss improved by 1.406 >= min_delta = 0.001. New best score: 14647.018\n",
      "Epoch 95, global step 2880: 'val_loss' reached 14647.01756 (best 14647.01756), saving model to 'logs/ae/version_5/checkpoints/ae_best.ckpt' as top 1\n"
     ]
    },
    {
     "name": "stdout",
     "output_type": "stream",
     "text": [
      "Epoch 96: 100%|██████████| 30/30 [00:01<00:00, 23.81it/s, v_num=5]"
     ]
    },
    {
     "name": "stderr",
     "output_type": "stream",
     "text": [
      "Epoch 96, global step 2910: 'val_loss' was not in top 1\n"
     ]
    },
    {
     "name": "stdout",
     "output_type": "stream",
     "text": [
      "Epoch 97: 100%|██████████| 30/30 [00:01<00:00, 23.56it/s, v_num=5]"
     ]
    },
    {
     "name": "stderr",
     "output_type": "stream",
     "text": [
      "Metric val_loss improved by 4.384 >= min_delta = 0.001. New best score: 14642.633\n",
      "Epoch 97, global step 2940: 'val_loss' reached 14642.63317 (best 14642.63317), saving model to 'logs/ae/version_5/checkpoints/ae_best.ckpt' as top 1\n"
     ]
    },
    {
     "name": "stdout",
     "output_type": "stream",
     "text": [
      "Epoch 98: 100%|██████████| 30/30 [00:01<00:00, 23.73it/s, v_num=5]"
     ]
    },
    {
     "name": "stderr",
     "output_type": "stream",
     "text": [
      "Epoch 98, global step 2970: 'val_loss' was not in top 1\n"
     ]
    },
    {
     "name": "stdout",
     "output_type": "stream",
     "text": [
      "Epoch 99: 100%|██████████| 30/30 [00:01<00:00, 24.31it/s, v_num=5]"
     ]
    },
    {
     "name": "stderr",
     "output_type": "stream",
     "text": [
      "Epoch 99, global step 3000: 'val_loss' was not in top 1\n"
     ]
    },
    {
     "name": "stdout",
     "output_type": "stream",
     "text": [
      "Epoch 100: 100%|██████████| 30/30 [00:01<00:00, 23.85it/s, v_num=5]"
     ]
    },
    {
     "name": "stderr",
     "output_type": "stream",
     "text": [
      "Metric val_loss improved by 1.085 >= min_delta = 0.001. New best score: 14641.549\n",
      "Epoch 100, global step 3030: 'val_loss' reached 14641.54860 (best 14641.54860), saving model to 'logs/ae/version_5/checkpoints/ae_best.ckpt' as top 1\n"
     ]
    },
    {
     "name": "stdout",
     "output_type": "stream",
     "text": [
      "Epoch 101: 100%|██████████| 30/30 [00:01<00:00, 24.30it/s, v_num=5]"
     ]
    },
    {
     "name": "stderr",
     "output_type": "stream",
     "text": [
      "Epoch 101, global step 3060: 'val_loss' was not in top 1\n"
     ]
    },
    {
     "name": "stdout",
     "output_type": "stream",
     "text": [
      "Epoch 102: 100%|██████████| 30/30 [00:01<00:00, 24.35it/s, v_num=5]"
     ]
    },
    {
     "name": "stderr",
     "output_type": "stream",
     "text": [
      "Epoch 102, global step 3090: 'val_loss' was not in top 1\n"
     ]
    },
    {
     "name": "stdout",
     "output_type": "stream",
     "text": [
      "Epoch 103: 100%|██████████| 30/30 [00:01<00:00, 25.13it/s, v_num=5]"
     ]
    },
    {
     "name": "stderr",
     "output_type": "stream",
     "text": [
      "Epoch 103, global step 3120: 'val_loss' was not in top 1\n"
     ]
    },
    {
     "name": "stdout",
     "output_type": "stream",
     "text": [
      "Epoch 00104: reducing learning rate of group 0 to 1.0000e-05.\n",
      "Epoch 104: 100%|██████████| 30/30 [00:01<00:00, 23.63it/s, v_num=5]"
     ]
    },
    {
     "name": "stderr",
     "output_type": "stream",
     "text": [
      "Epoch 104, global step 3150: 'val_loss' was not in top 1\n"
     ]
    },
    {
     "name": "stdout",
     "output_type": "stream",
     "text": [
      "Epoch 105: 100%|██████████| 30/30 [00:01<00:00, 23.43it/s, v_num=5]"
     ]
    },
    {
     "name": "stderr",
     "output_type": "stream",
     "text": [
      "Metric val_loss improved by 0.061 >= min_delta = 0.001. New best score: 14641.488\n",
      "Epoch 105, global step 3180: 'val_loss' reached 14641.48779 (best 14641.48779), saving model to 'logs/ae/version_5/checkpoints/ae_best.ckpt' as top 1\n"
     ]
    },
    {
     "name": "stdout",
     "output_type": "stream",
     "text": [
      "Epoch 106: 100%|██████████| 30/30 [00:01<00:00, 22.95it/s, v_num=5]"
     ]
    },
    {
     "name": "stderr",
     "output_type": "stream",
     "text": [
      "Metric val_loss improved by 0.183 >= min_delta = 0.001. New best score: 14641.305\n",
      "Epoch 106, global step 3210: 'val_loss' reached 14641.30493 (best 14641.30493), saving model to 'logs/ae/version_5/checkpoints/ae_best.ckpt' as top 1\n"
     ]
    },
    {
     "name": "stdout",
     "output_type": "stream",
     "text": [
      "Epoch 107: 100%|██████████| 30/30 [00:01<00:00, 24.86it/s, v_num=5]"
     ]
    },
    {
     "name": "stderr",
     "output_type": "stream",
     "text": [
      "Metric val_loss improved by 0.544 >= min_delta = 0.001. New best score: 14640.761\n",
      "Epoch 107, global step 3240: 'val_loss' reached 14640.76070 (best 14640.76070), saving model to 'logs/ae/version_5/checkpoints/ae_best.ckpt' as top 1\n"
     ]
    },
    {
     "name": "stdout",
     "output_type": "stream",
     "text": [
      "Epoch 108: 100%|██████████| 30/30 [00:01<00:00, 23.48it/s, v_num=5]"
     ]
    },
    {
     "name": "stderr",
     "output_type": "stream",
     "text": [
      "Metric val_loss improved by 0.154 >= min_delta = 0.001. New best score: 14640.607\n",
      "Epoch 108, global step 3270: 'val_loss' reached 14640.60650 (best 14640.60650), saving model to 'logs/ae/version_5/checkpoints/ae_best.ckpt' as top 1\n"
     ]
    },
    {
     "name": "stdout",
     "output_type": "stream",
     "text": [
      "Epoch 109: 100%|██████████| 30/30 [00:01<00:00, 23.75it/s, v_num=5]"
     ]
    },
    {
     "name": "stderr",
     "output_type": "stream",
     "text": [
      "Epoch 109, global step 3300: 'val_loss' was not in top 1\n"
     ]
    },
    {
     "name": "stdout",
     "output_type": "stream",
     "text": [
      "Epoch 110: 100%|██████████| 30/30 [00:01<00:00, 22.91it/s, v_num=5]"
     ]
    },
    {
     "name": "stderr",
     "output_type": "stream",
     "text": [
      "Metric val_loss improved by 0.422 >= min_delta = 0.001. New best score: 14640.184\n",
      "Epoch 110, global step 3330: 'val_loss' reached 14640.18427 (best 14640.18427), saving model to 'logs/ae/version_5/checkpoints/ae_best.ckpt' as top 1\n"
     ]
    },
    {
     "name": "stdout",
     "output_type": "stream",
     "text": [
      "Epoch 111: 100%|██████████| 30/30 [00:01<00:00, 24.31it/s, v_num=5]"
     ]
    },
    {
     "name": "stderr",
     "output_type": "stream",
     "text": [
      "Epoch 111, global step 3360: 'val_loss' was not in top 1\n"
     ]
    },
    {
     "name": "stdout",
     "output_type": "stream",
     "text": [
      "Epoch 112: 100%|██████████| 30/30 [00:01<00:00, 23.84it/s, v_num=5]"
     ]
    },
    {
     "name": "stderr",
     "output_type": "stream",
     "text": [
      "Metric val_loss improved by 0.193 >= min_delta = 0.001. New best score: 14639.991\n",
      "Epoch 112, global step 3390: 'val_loss' reached 14639.99140 (best 14639.99140), saving model to 'logs/ae/version_5/checkpoints/ae_best.ckpt' as top 1\n"
     ]
    },
    {
     "name": "stdout",
     "output_type": "stream",
     "text": [
      "Epoch 113: 100%|██████████| 30/30 [00:01<00:00, 24.80it/s, v_num=5]"
     ]
    },
    {
     "name": "stderr",
     "output_type": "stream",
     "text": [
      "Epoch 113, global step 3420: 'val_loss' was not in top 1\n"
     ]
    },
    {
     "name": "stdout",
     "output_type": "stream",
     "text": [
      "Epoch 00114: reducing learning rate of group 0 to 1.0000e-06.\n",
      "Epoch 114: 100%|██████████| 30/30 [00:01<00:00, 24.39it/s, v_num=5]"
     ]
    },
    {
     "name": "stderr",
     "output_type": "stream",
     "text": [
      "Metric val_loss improved by 0.027 >= min_delta = 0.001. New best score: 14639.964\n",
      "Epoch 114, global step 3450: 'val_loss' reached 14639.96403 (best 14639.96403), saving model to 'logs/ae/version_5/checkpoints/ae_best.ckpt' as top 1\n"
     ]
    },
    {
     "name": "stdout",
     "output_type": "stream",
     "text": [
      "Epoch 115: 100%|██████████| 30/30 [00:01<00:00, 22.45it/s, v_num=5]"
     ]
    },
    {
     "name": "stderr",
     "output_type": "stream",
     "text": [
      "Metric val_loss improved by 0.047 >= min_delta = 0.001. New best score: 14639.917\n",
      "Epoch 115, global step 3480: 'val_loss' reached 14639.91746 (best 14639.91746), saving model to 'logs/ae/version_5/checkpoints/ae_best.ckpt' as top 1\n"
     ]
    },
    {
     "name": "stdout",
     "output_type": "stream",
     "text": [
      "Epoch 116: 100%|██████████| 30/30 [00:01<00:00, 24.43it/s, v_num=5]"
     ]
    },
    {
     "name": "stderr",
     "output_type": "stream",
     "text": [
      "Metric val_loss improved by 0.038 >= min_delta = 0.001. New best score: 14639.880\n",
      "Epoch 116, global step 3510: 'val_loss' reached 14639.87987 (best 14639.87987), saving model to 'logs/ae/version_5/checkpoints/ae_best.ckpt' as top 1\n"
     ]
    },
    {
     "name": "stdout",
     "output_type": "stream",
     "text": [
      "Epoch 117: 100%|██████████| 30/30 [00:01<00:00, 23.00it/s, v_num=5]"
     ]
    },
    {
     "name": "stderr",
     "output_type": "stream",
     "text": [
      "Metric val_loss improved by 0.045 >= min_delta = 0.001. New best score: 14639.835\n",
      "Epoch 117, global step 3540: 'val_loss' reached 14639.83456 (best 14639.83456), saving model to 'logs/ae/version_5/checkpoints/ae_best.ckpt' as top 1\n"
     ]
    },
    {
     "name": "stdout",
     "output_type": "stream",
     "text": [
      "Epoch 118: 100%|██████████| 30/30 [00:01<00:00, 24.00it/s, v_num=5]"
     ]
    },
    {
     "name": "stderr",
     "output_type": "stream",
     "text": [
      "Epoch 118, global step 3570: 'val_loss' was not in top 1\n"
     ]
    },
    {
     "name": "stdout",
     "output_type": "stream",
     "text": [
      "Epoch 119: 100%|██████████| 30/30 [00:01<00:00, 23.76it/s, v_num=5]"
     ]
    },
    {
     "name": "stderr",
     "output_type": "stream",
     "text": [
      "Epoch 119, global step 3600: 'val_loss' was not in top 1\n"
     ]
    },
    {
     "name": "stdout",
     "output_type": "stream",
     "text": [
      "Epoch 00120: reducing learning rate of group 0 to 1.0000e-07.\n",
      "Epoch 120: 100%|██████████| 30/30 [00:01<00:00, 24.10it/s, v_num=5]"
     ]
    },
    {
     "name": "stderr",
     "output_type": "stream",
     "text": [
      "Epoch 120, global step 3630: 'val_loss' was not in top 1\n"
     ]
    },
    {
     "name": "stdout",
     "output_type": "stream",
     "text": [
      "Epoch 121: 100%|██████████| 30/30 [00:01<00:00, 24.42it/s, v_num=5]"
     ]
    },
    {
     "name": "stderr",
     "output_type": "stream",
     "text": [
      "Epoch 121, global step 3660: 'val_loss' was not in top 1\n"
     ]
    },
    {
     "name": "stdout",
     "output_type": "stream",
     "text": [
      "Epoch 122: 100%|██████████| 30/30 [00:01<00:00, 25.46it/s, v_num=5]"
     ]
    },
    {
     "name": "stderr",
     "output_type": "stream",
     "text": [
      "Epoch 122, global step 3690: 'val_loss' was not in top 1\n"
     ]
    },
    {
     "name": "stdout",
     "output_type": "stream",
     "text": [
      "Epoch 123: 100%|██████████| 30/30 [00:01<00:00, 24.13it/s, v_num=5]"
     ]
    },
    {
     "name": "stderr",
     "output_type": "stream",
     "text": [
      "Epoch 123, global step 3720: 'val_loss' was not in top 1\n"
     ]
    },
    {
     "name": "stdout",
     "output_type": "stream",
     "text": [
      "Epoch 124: 100%|██████████| 30/30 [00:01<00:00, 24.08it/s, v_num=5]"
     ]
    },
    {
     "name": "stderr",
     "output_type": "stream",
     "text": [
      "Epoch 124, global step 3750: 'val_loss' was not in top 1\n"
     ]
    },
    {
     "name": "stdout",
     "output_type": "stream",
     "text": [
      "Epoch 125: 100%|██████████| 30/30 [00:01<00:00, 24.35it/s, v_num=5]"
     ]
    },
    {
     "name": "stderr",
     "output_type": "stream",
     "text": [
      "Epoch 125, global step 3780: 'val_loss' was not in top 1\n"
     ]
    },
    {
     "name": "stdout",
     "output_type": "stream",
     "text": [
      "Epoch 00126: reducing learning rate of group 0 to 1.0000e-08.\n",
      "Epoch 126: 100%|██████████| 30/30 [00:01<00:00, 24.69it/s, v_num=5]"
     ]
    },
    {
     "name": "stderr",
     "output_type": "stream",
     "text": [
      "Epoch 126, global step 3810: 'val_loss' was not in top 1\n"
     ]
    },
    {
     "name": "stdout",
     "output_type": "stream",
     "text": [
      "Epoch 127: 100%|██████████| 30/30 [00:01<00:00, 23.44it/s, v_num=5]"
     ]
    },
    {
     "name": "stderr",
     "output_type": "stream",
     "text": [
      "Epoch 127, global step 3840: 'val_loss' was not in top 1\n"
     ]
    },
    {
     "name": "stdout",
     "output_type": "stream",
     "text": [
      "Epoch 128: 100%|██████████| 30/30 [00:01<00:00, 24.25it/s, v_num=5]"
     ]
    },
    {
     "name": "stderr",
     "output_type": "stream",
     "text": [
      "Epoch 128, global step 3870: 'val_loss' was not in top 1\n"
     ]
    },
    {
     "name": "stdout",
     "output_type": "stream",
     "text": [
      "Epoch 129: 100%|██████████| 30/30 [00:01<00:00, 24.15it/s, v_num=5]"
     ]
    },
    {
     "name": "stderr",
     "output_type": "stream",
     "text": [
      "Epoch 129, global step 3900: 'val_loss' was not in top 1\n"
     ]
    },
    {
     "name": "stdout",
     "output_type": "stream",
     "text": [
      "Epoch 130: 100%|██████████| 30/30 [00:01<00:00, 24.18it/s, v_num=5]"
     ]
    },
    {
     "name": "stderr",
     "output_type": "stream",
     "text": [
      "Epoch 130, global step 3930: 'val_loss' was not in top 1\n"
     ]
    },
    {
     "name": "stdout",
     "output_type": "stream",
     "text": [
      "Epoch 131: 100%|██████████| 30/30 [00:01<00:00, 24.24it/s, v_num=5]"
     ]
    },
    {
     "name": "stderr",
     "output_type": "stream",
     "text": [
      "Epoch 131, global step 3960: 'val_loss' was not in top 1\n"
     ]
    },
    {
     "name": "stdout",
     "output_type": "stream",
     "text": [
      "Epoch 132: 100%|██████████| 30/30 [00:01<00:00, 23.68it/s, v_num=5]"
     ]
    },
    {
     "name": "stderr",
     "output_type": "stream",
     "text": [
      "Epoch 132, global step 3990: 'val_loss' was not in top 1\n"
     ]
    },
    {
     "name": "stdout",
     "output_type": "stream",
     "text": [
      "Epoch 133: 100%|██████████| 30/30 [00:01<00:00, 24.76it/s, v_num=5]"
     ]
    },
    {
     "name": "stderr",
     "output_type": "stream",
     "text": [
      "Epoch 133, global step 4020: 'val_loss' was not in top 1\n"
     ]
    },
    {
     "name": "stdout",
     "output_type": "stream",
     "text": [
      "Epoch 134: 100%|██████████| 30/30 [00:01<00:00, 24.04it/s, v_num=5]"
     ]
    },
    {
     "name": "stderr",
     "output_type": "stream",
     "text": [
      "Epoch 134, global step 4050: 'val_loss' was not in top 1\n"
     ]
    },
    {
     "name": "stdout",
     "output_type": "stream",
     "text": [
      "Epoch 135: 100%|██████████| 30/30 [00:01<00:00, 24.04it/s, v_num=5]"
     ]
    },
    {
     "name": "stderr",
     "output_type": "stream",
     "text": [
      "Epoch 135, global step 4080: 'val_loss' was not in top 1\n"
     ]
    },
    {
     "name": "stdout",
     "output_type": "stream",
     "text": [
      "Epoch 136: 100%|██████████| 30/30 [00:01<00:00, 25.18it/s, v_num=5]"
     ]
    },
    {
     "name": "stderr",
     "output_type": "stream",
     "text": [
      "Epoch 136, global step 4110: 'val_loss' was not in top 1\n"
     ]
    },
    {
     "name": "stdout",
     "output_type": "stream",
     "text": [
      "Epoch 137: 100%|██████████| 30/30 [00:01<00:00, 23.59it/s, v_num=5]"
     ]
    },
    {
     "name": "stderr",
     "output_type": "stream",
     "text": [
      "Epoch 137, global step 4140: 'val_loss' was not in top 1\n"
     ]
    },
    {
     "name": "stdout",
     "output_type": "stream",
     "text": [
      "Epoch 138: 100%|██████████| 30/30 [00:01<00:00, 24.50it/s, v_num=5]"
     ]
    },
    {
     "name": "stderr",
     "output_type": "stream",
     "text": [
      "Epoch 138, global step 4170: 'val_loss' was not in top 1\n"
     ]
    },
    {
     "name": "stdout",
     "output_type": "stream",
     "text": [
      "Epoch 139: 100%|██████████| 30/30 [00:01<00:00, 23.67it/s, v_num=5]"
     ]
    },
    {
     "name": "stderr",
     "output_type": "stream",
     "text": [
      "Epoch 139, global step 4200: 'val_loss' was not in top 1\n"
     ]
    },
    {
     "name": "stdout",
     "output_type": "stream",
     "text": [
      "Epoch 140: 100%|██████████| 30/30 [00:01<00:00, 23.80it/s, v_num=5]"
     ]
    },
    {
     "name": "stderr",
     "output_type": "stream",
     "text": [
      "Epoch 140, global step 4230: 'val_loss' was not in top 1\n"
     ]
    },
    {
     "name": "stdout",
     "output_type": "stream",
     "text": [
      "Epoch 141: 100%|██████████| 30/30 [00:01<00:00, 24.25it/s, v_num=5]"
     ]
    },
    {
     "name": "stderr",
     "output_type": "stream",
     "text": [
      "Epoch 141, global step 4260: 'val_loss' was not in top 1\n"
     ]
    },
    {
     "name": "stdout",
     "output_type": "stream",
     "text": [
      "Epoch 142: 100%|██████████| 30/30 [00:01<00:00, 24.01it/s, v_num=5]"
     ]
    },
    {
     "name": "stderr",
     "output_type": "stream",
     "text": [
      "Monitored metric val_loss did not improve in the last 25 records. Best score: 14639.835. Signaling Trainer to stop.\n",
      "Epoch 142, global step 4290: 'val_loss' was not in top 1\n"
     ]
    },
    {
     "name": "stdout",
     "output_type": "stream",
     "text": [
      "Epoch 142: 100%|██████████| 30/30 [00:01<00:00, 23.88it/s, v_num=5]\n"
     ]
    }
   ],
   "source": [
    "ae_model = LitAutoEncoder(X_train.shape[1], 6, [64, 32, 16, 8])\n",
    "ae_trainer.fit(ae_model, ae_train_loader, ae_val_loader)"
   ]
  },
  {
   "cell_type": "code",
   "execution_count": 29,
   "metadata": {},
   "outputs": [
    {
     "name": "stdout",
     "output_type": "stream",
     "text": [
      "(33333, 47) (33333,) (33333,)\n"
     ]
    },
    {
     "data": {
      "text/html": [
       "<div>\n",
       "<style scoped>\n",
       "    .dataframe tbody tr th:only-of-type {\n",
       "        vertical-align: middle;\n",
       "    }\n",
       "\n",
       "    .dataframe tbody tr th {\n",
       "        vertical-align: top;\n",
       "    }\n",
       "\n",
       "    .dataframe thead th {\n",
       "        text-align: right;\n",
       "    }\n",
       "</style>\n",
       "<table border=\"1\" class=\"dataframe\">\n",
       "  <thead>\n",
       "    <tr style=\"text-align: right;\">\n",
       "      <th></th>\n",
       "      <th>Electron_Multi</th>\n",
       "      <th>FatJet1_Eta</th>\n",
       "      <th>FatJet1_Mass</th>\n",
       "      <th>FatJet1_PT</th>\n",
       "      <th>FatJet1_Phi</th>\n",
       "      <th>FatJet1_Tau1</th>\n",
       "      <th>FatJet1_Tau2</th>\n",
       "      <th>FatJet1_Tau3</th>\n",
       "      <th>FatJet1_Tau4</th>\n",
       "      <th>FatJet1_Tau5</th>\n",
       "      <th>...</th>\n",
       "      <th>Lepton1_Eta</th>\n",
       "      <th>Lepton1_PT</th>\n",
       "      <th>Lepton1_Phi</th>\n",
       "      <th>Lepton2_Eta</th>\n",
       "      <th>Lepton2_PT</th>\n",
       "      <th>Lepton2_Phi</th>\n",
       "      <th>MissingET_MET</th>\n",
       "      <th>MissingET_Phi</th>\n",
       "      <th>Muon_Multi</th>\n",
       "      <th>ScalarHT_HT</th>\n",
       "    </tr>\n",
       "  </thead>\n",
       "  <tbody>\n",
       "    <tr>\n",
       "      <th>0</th>\n",
       "      <td>-0.861531</td>\n",
       "      <td>0.707040</td>\n",
       "      <td>1.834103</td>\n",
       "      <td>2.713935</td>\n",
       "      <td>0.549560</td>\n",
       "      <td>0.438156</td>\n",
       "      <td>0.773991</td>\n",
       "      <td>0.133431</td>\n",
       "      <td>0.003153</td>\n",
       "      <td>-0.123851</td>\n",
       "      <td>...</td>\n",
       "      <td>0.723582</td>\n",
       "      <td>3.018843</td>\n",
       "      <td>0.531446</td>\n",
       "      <td>0.493900</td>\n",
       "      <td>0.393066</td>\n",
       "      <td>0.665883</td>\n",
       "      <td>4.229605</td>\n",
       "      <td>-1.099570</td>\n",
       "      <td>1.881434</td>\n",
       "      <td>1.840378</td>\n",
       "    </tr>\n",
       "    <tr>\n",
       "      <th>1</th>\n",
       "      <td>0.201022</td>\n",
       "      <td>-0.509772</td>\n",
       "      <td>0.552497</td>\n",
       "      <td>-0.317689</td>\n",
       "      <td>1.219077</td>\n",
       "      <td>-0.056018</td>\n",
       "      <td>-0.783480</td>\n",
       "      <td>-0.846994</td>\n",
       "      <td>-0.862099</td>\n",
       "      <td>-0.879337</td>\n",
       "      <td>...</td>\n",
       "      <td>-0.555954</td>\n",
       "      <td>0.440644</td>\n",
       "      <td>1.277099</td>\n",
       "      <td>-0.233800</td>\n",
       "      <td>-0.357823</td>\n",
       "      <td>0.891786</td>\n",
       "      <td>-0.874502</td>\n",
       "      <td>-0.880855</td>\n",
       "      <td>0.820695</td>\n",
       "      <td>0.422776</td>\n",
       "    </tr>\n",
       "    <tr>\n",
       "      <th>2</th>\n",
       "      <td>1.263575</td>\n",
       "      <td>1.050506</td>\n",
       "      <td>0.899676</td>\n",
       "      <td>-0.772240</td>\n",
       "      <td>1.485154</td>\n",
       "      <td>0.791478</td>\n",
       "      <td>-0.266721</td>\n",
       "      <td>-0.318604</td>\n",
       "      <td>-0.449653</td>\n",
       "      <td>-0.481598</td>\n",
       "      <td>...</td>\n",
       "      <td>0.976244</td>\n",
       "      <td>-0.224869</td>\n",
       "      <td>1.367246</td>\n",
       "      <td>1.173231</td>\n",
       "      <td>0.051313</td>\n",
       "      <td>-1.693614</td>\n",
       "      <td>-0.449634</td>\n",
       "      <td>0.306186</td>\n",
       "      <td>-1.300784</td>\n",
       "      <td>-1.032057</td>\n",
       "    </tr>\n",
       "    <tr>\n",
       "      <th>3</th>\n",
       "      <td>1.263575</td>\n",
       "      <td>1.483801</td>\n",
       "      <td>0.036739</td>\n",
       "      <td>-0.671481</td>\n",
       "      <td>-1.590941</td>\n",
       "      <td>0.338694</td>\n",
       "      <td>1.605887</td>\n",
       "      <td>2.106680</td>\n",
       "      <td>2.423242</td>\n",
       "      <td>2.581100</td>\n",
       "      <td>...</td>\n",
       "      <td>-0.016436</td>\n",
       "      <td>-1.057522</td>\n",
       "      <td>0.457641</td>\n",
       "      <td>-0.231023</td>\n",
       "      <td>-0.327456</td>\n",
       "      <td>1.177462</td>\n",
       "      <td>-0.441918</td>\n",
       "      <td>-0.510263</td>\n",
       "      <td>-0.240044</td>\n",
       "      <td>-0.624108</td>\n",
       "    </tr>\n",
       "    <tr>\n",
       "      <th>4</th>\n",
       "      <td>1.263575</td>\n",
       "      <td>1.070681</td>\n",
       "      <td>0.712604</td>\n",
       "      <td>2.604909</td>\n",
       "      <td>-0.194666</td>\n",
       "      <td>0.348125</td>\n",
       "      <td>-0.800600</td>\n",
       "      <td>-0.939690</td>\n",
       "      <td>-0.973314</td>\n",
       "      <td>-0.938744</td>\n",
       "      <td>...</td>\n",
       "      <td>1.166216</td>\n",
       "      <td>2.437919</td>\n",
       "      <td>-0.194765</td>\n",
       "      <td>0.877542</td>\n",
       "      <td>1.924162</td>\n",
       "      <td>-0.198418</td>\n",
       "      <td>2.267726</td>\n",
       "      <td>1.423036</td>\n",
       "      <td>-1.300784</td>\n",
       "      <td>1.863904</td>\n",
       "    </tr>\n",
       "  </tbody>\n",
       "</table>\n",
       "<p>5 rows × 47 columns</p>\n",
       "</div>"
      ],
      "text/plain": [
       "   Electron_Multi  FatJet1_Eta  FatJet1_Mass  FatJet1_PT  FatJet1_Phi  \\\n",
       "0       -0.861531     0.707040      1.834103    2.713935     0.549560   \n",
       "1        0.201022    -0.509772      0.552497   -0.317689     1.219077   \n",
       "2        1.263575     1.050506      0.899676   -0.772240     1.485154   \n",
       "3        1.263575     1.483801      0.036739   -0.671481    -1.590941   \n",
       "4        1.263575     1.070681      0.712604    2.604909    -0.194666   \n",
       "\n",
       "   FatJet1_Tau1  FatJet1_Tau2  FatJet1_Tau3  FatJet1_Tau4  FatJet1_Tau5  ...  \\\n",
       "0      0.438156      0.773991      0.133431      0.003153     -0.123851  ...   \n",
       "1     -0.056018     -0.783480     -0.846994     -0.862099     -0.879337  ...   \n",
       "2      0.791478     -0.266721     -0.318604     -0.449653     -0.481598  ...   \n",
       "3      0.338694      1.605887      2.106680      2.423242      2.581100  ...   \n",
       "4      0.348125     -0.800600     -0.939690     -0.973314     -0.938744  ...   \n",
       "\n",
       "   Lepton1_Eta  Lepton1_PT  Lepton1_Phi  Lepton2_Eta  Lepton2_PT  Lepton2_Phi  \\\n",
       "0     0.723582    3.018843     0.531446     0.493900    0.393066     0.665883   \n",
       "1    -0.555954    0.440644     1.277099    -0.233800   -0.357823     0.891786   \n",
       "2     0.976244   -0.224869     1.367246     1.173231    0.051313    -1.693614   \n",
       "3    -0.016436   -1.057522     0.457641    -0.231023   -0.327456     1.177462   \n",
       "4     1.166216    2.437919    -0.194765     0.877542    1.924162    -0.198418   \n",
       "\n",
       "   MissingET_MET  MissingET_Phi  Muon_Multi  ScalarHT_HT  \n",
       "0       4.229605      -1.099570    1.881434     1.840378  \n",
       "1      -0.874502      -0.880855    0.820695     0.422776  \n",
       "2      -0.449634       0.306186   -1.300784    -1.032057  \n",
       "3      -0.441918      -0.510263   -0.240044    -0.624108  \n",
       "4       2.267726       1.423036   -1.300784     1.863904  \n",
       "\n",
       "[5 rows x 47 columns]"
      ]
     },
     "execution_count": 29,
     "metadata": {},
     "output_type": "execute_result"
    }
   ],
   "source": [
    "print(X_val.shape, y_val.shape, W_val.shape)\n",
    "\n",
    "df_val = pd.DataFrame(X_val, columns=features)\n",
    "df_val.head()"
   ]
  },
  {
   "cell_type": "code",
   "execution_count": 46,
   "metadata": {},
   "outputs": [],
   "source": [
    "# load from logs/ae/version_5/checkpoints/ae_best.ckpt\n",
    "ae_model = LitAutoEncoder.load_from_checkpoint('/home/fabiocfabini/Desktop/CS/LIPInternship/logs/ae/version_5/checkpoints/ae_best.ckpt', input_dim=X_train.shape[1], latent_dim=6, arch=[64, 32, 16, 8])\n",
    "\n",
    "ae_model = ae_model.to(DEVICE)\n",
    "\n",
    "ae_model.eval()\n",
    "X_val_rec = []\n",
    "with torch.no_grad():\n",
    "    for batch, (X, _, _) in enumerate(val_loader):\n",
    "        X = X.to(DEVICE)\n",
    "\n",
    "        X_preds = ae_model(X)\n",
    "\n",
    "        X_val_rec.append(X_preds.cpu().numpy())\n",
    "\n",
    "X_val_rec = np.concatenate(X_val_rec)"
   ]
  },
  {
   "cell_type": "code",
   "execution_count": 47,
   "metadata": {},
   "outputs": [
    {
     "data": {
      "text/html": [
       "<div>\n",
       "<style scoped>\n",
       "    .dataframe tbody tr th:only-of-type {\n",
       "        vertical-align: middle;\n",
       "    }\n",
       "\n",
       "    .dataframe tbody tr th {\n",
       "        vertical-align: top;\n",
       "    }\n",
       "\n",
       "    .dataframe thead th {\n",
       "        text-align: right;\n",
       "    }\n",
       "</style>\n",
       "<table border=\"1\" class=\"dataframe\">\n",
       "  <thead>\n",
       "    <tr style=\"text-align: right;\">\n",
       "      <th></th>\n",
       "      <th>Electron_Multi</th>\n",
       "      <th>FatJet1_Eta</th>\n",
       "      <th>FatJet1_Mass</th>\n",
       "      <th>FatJet1_PT</th>\n",
       "      <th>FatJet1_Phi</th>\n",
       "      <th>FatJet1_Tau1</th>\n",
       "      <th>FatJet1_Tau2</th>\n",
       "      <th>FatJet1_Tau3</th>\n",
       "      <th>FatJet1_Tau4</th>\n",
       "      <th>FatJet1_Tau5</th>\n",
       "      <th>...</th>\n",
       "      <th>Lepton1_Eta</th>\n",
       "      <th>Lepton1_PT</th>\n",
       "      <th>Lepton1_Phi</th>\n",
       "      <th>Lepton2_Eta</th>\n",
       "      <th>Lepton2_PT</th>\n",
       "      <th>Lepton2_Phi</th>\n",
       "      <th>MissingET_MET</th>\n",
       "      <th>MissingET_Phi</th>\n",
       "      <th>Muon_Multi</th>\n",
       "      <th>ScalarHT_HT</th>\n",
       "    </tr>\n",
       "  </thead>\n",
       "  <tbody>\n",
       "    <tr>\n",
       "      <th>0</th>\n",
       "      <td>-0.660842</td>\n",
       "      <td>0.069008</td>\n",
       "      <td>-0.477597</td>\n",
       "      <td>-0.698245</td>\n",
       "      <td>-0.175362</td>\n",
       "      <td>-0.603339</td>\n",
       "      <td>-0.041798</td>\n",
       "      <td>0.058478</td>\n",
       "      <td>0.075832</td>\n",
       "      <td>0.045342</td>\n",
       "      <td>...</td>\n",
       "      <td>0.125738</td>\n",
       "      <td>-0.679829</td>\n",
       "      <td>0.066207</td>\n",
       "      <td>0.044589</td>\n",
       "      <td>-0.610088</td>\n",
       "      <td>0.195692</td>\n",
       "      <td>-0.184735</td>\n",
       "      <td>0.225764</td>\n",
       "      <td>0.626307</td>\n",
       "      <td>-0.350189</td>\n",
       "    </tr>\n",
       "    <tr>\n",
       "      <th>1</th>\n",
       "      <td>1.103327</td>\n",
       "      <td>-0.481100</td>\n",
       "      <td>0.615829</td>\n",
       "      <td>-0.423998</td>\n",
       "      <td>0.677896</td>\n",
       "      <td>0.550385</td>\n",
       "      <td>-0.782513</td>\n",
       "      <td>-0.903860</td>\n",
       "      <td>-0.862801</td>\n",
       "      <td>-0.897562</td>\n",
       "      <td>...</td>\n",
       "      <td>-0.449289</td>\n",
       "      <td>0.084628</td>\n",
       "      <td>0.788366</td>\n",
       "      <td>-0.410218</td>\n",
       "      <td>0.143536</td>\n",
       "      <td>0.466016</td>\n",
       "      <td>-0.522941</td>\n",
       "      <td>-0.195855</td>\n",
       "      <td>-1.154945</td>\n",
       "      <td>-0.190813</td>\n",
       "    </tr>\n",
       "    <tr>\n",
       "      <th>2</th>\n",
       "      <td>0.898298</td>\n",
       "      <td>-0.273285</td>\n",
       "      <td>0.300976</td>\n",
       "      <td>-0.654145</td>\n",
       "      <td>0.007409</td>\n",
       "      <td>0.134709</td>\n",
       "      <td>-0.465225</td>\n",
       "      <td>-0.467182</td>\n",
       "      <td>-0.508271</td>\n",
       "      <td>-0.534077</td>\n",
       "      <td>...</td>\n",
       "      <td>-0.302262</td>\n",
       "      <td>-0.176618</td>\n",
       "      <td>0.639154</td>\n",
       "      <td>-0.364016</td>\n",
       "      <td>-0.060602</td>\n",
       "      <td>0.327933</td>\n",
       "      <td>-0.595655</td>\n",
       "      <td>-0.078249</td>\n",
       "      <td>-0.867497</td>\n",
       "      <td>-0.934829</td>\n",
       "    </tr>\n",
       "    <tr>\n",
       "      <th>3</th>\n",
       "      <td>-0.512173</td>\n",
       "      <td>0.081933</td>\n",
       "      <td>0.611374</td>\n",
       "      <td>-0.528944</td>\n",
       "      <td>0.386050</td>\n",
       "      <td>0.755342</td>\n",
       "      <td>1.919146</td>\n",
       "      <td>2.259585</td>\n",
       "      <td>2.346775</td>\n",
       "      <td>2.402849</td>\n",
       "      <td>...</td>\n",
       "      <td>-0.088356</td>\n",
       "      <td>-0.625910</td>\n",
       "      <td>-0.101526</td>\n",
       "      <td>0.198904</td>\n",
       "      <td>-0.487921</td>\n",
       "      <td>-0.118478</td>\n",
       "      <td>-0.250029</td>\n",
       "      <td>-0.303411</td>\n",
       "      <td>0.457804</td>\n",
       "      <td>-0.374256</td>\n",
       "    </tr>\n",
       "    <tr>\n",
       "      <th>4</th>\n",
       "      <td>0.849899</td>\n",
       "      <td>-0.312884</td>\n",
       "      <td>0.359680</td>\n",
       "      <td>-0.550922</td>\n",
       "      <td>0.380927</td>\n",
       "      <td>0.146752</td>\n",
       "      <td>-0.866767</td>\n",
       "      <td>-0.944126</td>\n",
       "      <td>-0.968723</td>\n",
       "      <td>-0.930992</td>\n",
       "      <td>...</td>\n",
       "      <td>-0.305632</td>\n",
       "      <td>0.200185</td>\n",
       "      <td>0.674625</td>\n",
       "      <td>-0.231472</td>\n",
       "      <td>0.089199</td>\n",
       "      <td>0.230767</td>\n",
       "      <td>-0.638004</td>\n",
       "      <td>-0.304866</td>\n",
       "      <td>-0.767578</td>\n",
       "      <td>-0.837457</td>\n",
       "    </tr>\n",
       "  </tbody>\n",
       "</table>\n",
       "<p>5 rows × 47 columns</p>\n",
       "</div>"
      ],
      "text/plain": [
       "   Electron_Multi  FatJet1_Eta  FatJet1_Mass  FatJet1_PT  FatJet1_Phi  \\\n",
       "0       -0.660842     0.069008     -0.477597   -0.698245    -0.175362   \n",
       "1        1.103327    -0.481100      0.615829   -0.423998     0.677896   \n",
       "2        0.898298    -0.273285      0.300976   -0.654145     0.007409   \n",
       "3       -0.512173     0.081933      0.611374   -0.528944     0.386050   \n",
       "4        0.849899    -0.312884      0.359680   -0.550922     0.380927   \n",
       "\n",
       "   FatJet1_Tau1  FatJet1_Tau2  FatJet1_Tau3  FatJet1_Tau4  FatJet1_Tau5  ...  \\\n",
       "0     -0.603339     -0.041798      0.058478      0.075832      0.045342  ...   \n",
       "1      0.550385     -0.782513     -0.903860     -0.862801     -0.897562  ...   \n",
       "2      0.134709     -0.465225     -0.467182     -0.508271     -0.534077  ...   \n",
       "3      0.755342      1.919146      2.259585      2.346775      2.402849  ...   \n",
       "4      0.146752     -0.866767     -0.944126     -0.968723     -0.930992  ...   \n",
       "\n",
       "   Lepton1_Eta  Lepton1_PT  Lepton1_Phi  Lepton2_Eta  Lepton2_PT  Lepton2_Phi  \\\n",
       "0     0.125738   -0.679829     0.066207     0.044589   -0.610088     0.195692   \n",
       "1    -0.449289    0.084628     0.788366    -0.410218    0.143536     0.466016   \n",
       "2    -0.302262   -0.176618     0.639154    -0.364016   -0.060602     0.327933   \n",
       "3    -0.088356   -0.625910    -0.101526     0.198904   -0.487921    -0.118478   \n",
       "4    -0.305632    0.200185     0.674625    -0.231472    0.089199     0.230767   \n",
       "\n",
       "   MissingET_MET  MissingET_Phi  Muon_Multi  ScalarHT_HT  \n",
       "0      -0.184735       0.225764    0.626307    -0.350189  \n",
       "1      -0.522941      -0.195855   -1.154945    -0.190813  \n",
       "2      -0.595655      -0.078249   -0.867497    -0.934829  \n",
       "3      -0.250029      -0.303411    0.457804    -0.374256  \n",
       "4      -0.638004      -0.304866   -0.767578    -0.837457  \n",
       "\n",
       "[5 rows x 47 columns]"
      ]
     },
     "execution_count": 47,
     "metadata": {},
     "output_type": "execute_result"
    }
   ],
   "source": [
    "X_val_rec.shape\n",
    "\n",
    "df_val_rec = pd.DataFrame(X_val_rec, columns=features)\n",
    "df_val_rec.head()"
   ]
  },
  {
   "cell_type": "code",
   "execution_count": 48,
   "metadata": {},
   "outputs": [],
   "source": [
    "loss = []\n",
    "with torch.no_grad():\n",
    "    for (X, _, w) in val_loader:\n",
    "        X = X.to(DEVICE)\n",
    "        w = w.to(DEVICE)\n",
    "\n",
    "        X_preds = ae_model(X)\n",
    "\n",
    "        loss.append(torch.einsum('ij,i->ij', torch.abs(X_preds - X), w).sum(dim=1))\n",
    "\n",
    "loss = torch.cat(loss).cpu().numpy()"
   ]
  },
  {
   "cell_type": "code",
   "execution_count": 49,
   "metadata": {},
   "outputs": [
    {
     "data": {
      "image/png": "[encoded data removed]",
      "text/plain": [
       "<Figure size 640x480 with 1 Axes>"
      ]
     },
     "metadata": {},
     "output_type": "display_data"
    }
   ],
   "source": [
    "plt.hist(loss[y_val == BKG], bins=100, density=True, alpha=0.5, label=\"Background\")\n",
    "plt.hist(loss[y_val == SIGNAL], bins=100, density=True, alpha=0.5, label=\"Signal\")\n",
    "plt.grid(True, linestyle='--', alpha=0.5)\n",
    "plt.yscale(\"log\")\n",
    "plt.legend()\n",
    "plt.show()"
   ]
  },
  {
   "cell_type": "code",
   "execution_count": 50,
   "metadata": {},
   "outputs": [
    {
     "data": {
      "image/png": "[encoded data removed]",
      "text/plain": [
       "<Figure size 640x480 with 1 Axes>"
      ]
     },
     "metadata": {},
     "output_type": "display_data"
    },
    {
     "data": {
      "text/plain": [
       "0.9923351803495757"
      ]
     },
     "execution_count": 50,
     "metadata": {},
     "output_type": "execute_result"
    }
   ],
   "source": [
    "fpr, tpr, _ = roc_curve(y_val, loss)#, sample_weight=W_val)\n",
    "plt.plot(fpr, tpr)\n",
    "plt.plot([0, 1], [0, 1], linestyle='--')\n",
    "plt.grid(True, linestyle='--', alpha=0.5)\n",
    "plt.show()\n",
    "roc_auc_score(y_val, loss)"
   ]
  },
  {
   "cell_type": "markdown",
   "metadata": {},
   "source": [
    "## VAE"
   ]
  },
  {
   "cell_type": "markdown",
   "metadata": {},
   "source": [
    "### Model"
   ]
  },
  {
   "cell_type": "code",
   "execution_count": 26,
   "metadata": {},
   "outputs": [],
   "source": [
    "from typing import Literal, List\n",
    "\n",
    "def mse_loss(input: torch.Tensor, target: torch.Tensor, weights: torch.Tensor) -> torch.Tensor:\n",
    "    return torch.einsum('ij,i->ij', (input - target)**2, weights).mean()\n",
    "\n",
    "def mae_loss(input: torch.Tensor, target: torch.Tensor, weights: torch.Tensor) -> torch.Tensor:\n",
    "    return torch.einsum('ij,i->ij', torch.abs(input - target), weights).mean()\n",
    "\n",
    "class LitVariationaAutoEncoder(pl.LightningModule):\n",
    "    def __init__(self, \n",
    "                input_dim: int,\n",
    "                latent_dim: int, \n",
    "                arch: List[int], \n",
    "                rec_loss: Literal[\"mse\", \"mae\"] = \"mse\", \n",
    "                rec_loss_weight: float = 1.0, \n",
    "                kl_loss_weight: float = 1.0, \n",
    "                lr_patience: int = 5\n",
    "        ):\n",
    "        super().__init__()\n",
    "\n",
    "        self.arch = arch\n",
    "        self.latent_dim = latent_dim\n",
    "        self.input_dim = input_dim\n",
    "\n",
    "        self.encoder = self._encoder()\n",
    "        self.decoder = self._decoder()\n",
    "\n",
    "        if rec_loss == \"mse\":\n",
    "            self.rec_loss = mse_loss\n",
    "        elif rec_loss == \"mae\":\n",
    "            self.rec_loss = mae_loss\n",
    "        else:\n",
    "            raise ValueError(\"rec_loss must be one of ['mse', 'mae']\")\n",
    "        self.rec_loss_weight = rec_loss_weight\n",
    "        self.kl_loss_weight = kl_loss_weight\n",
    "        self.lr_patience = lr_patience\n",
    "\n",
    "        self.train_rec_losses = []\n",
    "        self.train_kl_losses = []\n",
    "        self.val_losses = []\n",
    "\n",
    "    def _encoder(self) -> nn.Sequential:\n",
    "        \"\"\"The encoder recieves [input_dim] features as input \n",
    "        and outputs [latent_dim * 2] features. It must \n",
    "        have the [arch] architecture.\n",
    "\n",
    "        Returns:\n",
    "            nn.Sequential: The encoder\n",
    "        \"\"\"\n",
    "\n",
    "        self.encoder = nn.Sequential(\n",
    "            nn.Linear(self.input_dim, self.arch[0]),\n",
    "            nn.ReLU()\n",
    "        )\n",
    "\n",
    "        for i in range(1, len(self.arch)):\n",
    "            self.encoder.add_module(f\"fc({i})\", nn.Linear(self.arch[i - 1], self.arch[i]))\n",
    "            self.encoder.add_module(f\"A({i})\", nn.ReLU())\n",
    "\n",
    "        self.encoder.add_module(f\"A({i+1})\", nn.ReLU())\n",
    "        self.encoder.add_module(\"mu+sigma\", nn.Linear(self.arch[-1], self.latent_dim * 2))\n",
    "\n",
    "        return self.encoder\n",
    "\n",
    "    def _decoder(self) -> nn.Sequential:\n",
    "        \"\"\"The decoder recieves [latent_dim] features\n",
    "        as input and outputs [input_dim] features. It must have the\n",
    "        [arch] architecture.\n",
    "\n",
    "        Returns:\n",
    "            nn.Sequential: The decoder\n",
    "        \"\"\"\n",
    "\n",
    "        self.decoder = nn.Sequential(\n",
    "            nn.Linear(self.latent_dim, self.arch[-1]),\n",
    "            nn.ReLU()\n",
    "        )\n",
    "\n",
    "        for i in range(len(self.arch) - 1, 0, -1):\n",
    "            self.decoder.add_module(f\"fc({i})\", nn.Linear(self.arch[i], self.arch[i - 1]))\n",
    "            self.decoder.add_module(f\"A({i})\", nn.ReLU())\n",
    "\n",
    "        self.decoder.add_module(\"decoder_output\", nn.Linear(self.arch[0], self.input_dim))\n",
    "\n",
    "        return self.decoder\n",
    "\n",
    "    def _get_mu(self, mu_sigma: torch.Tensor) -> torch.Tensor:\n",
    "        \"\"\"Given the output of the encoder, returns the mu vector.\n",
    "\n",
    "        Args:\n",
    "            mu_sigma (torch.Tensor): The output of the encoder\n",
    "\n",
    "        Returns:\n",
    "            torch.Tensor: The mu vector\n",
    "        \"\"\"\n",
    "\n",
    "        return mu_sigma[:, :self.latent_dim]\n",
    "\n",
    "    def _get_sigma(self, mu_sigma: torch.Tensor) -> torch.Tensor:\n",
    "        \"\"\"Given the output of the encoder, returns the sigma vector.\n",
    "\n",
    "        Args:\n",
    "            mu_sigma (torch.Tensor): The output of the encoder\n",
    "\n",
    "        Returns:\n",
    "            torch.Tensor: The sigma vector\n",
    "        \"\"\"\n",
    "\n",
    "        return mu_sigma[:, self.latent_dim:]\n",
    "\n",
    "    def forward(self, x: torch.Tensor) -> torch.Tensor:\n",
    "        mu_sigma = self.encoder(x)\n",
    "\n",
    "        # Reparametrization trick\n",
    "        epsilon = torch.randn_like(self._get_sigma(mu_sigma))\n",
    "        z_new = self._get_mu(mu_sigma) + self._get_sigma(mu_sigma) * epsilon\n",
    "        z_rec = self.decoder(z_new)\n",
    "\n",
    "        return z_rec, mu_sigma\n",
    "\n",
    "    def configure_optimizers(self):\n",
    "        optimizer = torch.optim.Adam(self.parameters(), lr=1e-3)\n",
    "        scheduler = torch.optim.lr_scheduler.ReduceLROnPlateau(optimizer, patience=self.lr_patience, verbose=True)\n",
    "        return {'optimizer': optimizer, 'lr_scheduler': scheduler, 'monitor': 'val_loss'}\n",
    "\n",
    "    def training_step(self, batch, batch_idx):\n",
    "        X, _, w = batch\n",
    "\n",
    "        X_rec, mu_sigma = self(X)\n",
    "        mu, sigma = self._get_mu(mu_sigma), self._get_sigma(mu_sigma)\n",
    "\n",
    "        rec_loss = self.rec_loss(X_rec, X, w) * self.rec_loss_weight\n",
    "        kl_loss = -0.5 * torch.sum(1 + torch.log(sigma**2) - mu**2 - sigma**2) * self.kl_loss_weight\n",
    "\n",
    "        self.train_rec_losses.append(rec_loss)\n",
    "        self.train_kl_losses.append(kl_loss)\n",
    "        return rec_loss + kl_loss\n",
    "\n",
    "    def on_train_epoch_end(self) -> None:\n",
    "        rec_loss = torch.stack(self.train_rec_losses)\n",
    "        kl_loss = torch.stack(self.train_kl_losses)\n",
    "        self.log('train_rec_loss', rec_loss.mean())\n",
    "        self.log('train_kl_loss', kl_loss.mean())\n",
    "        self.train_rec_losses.clear()\n",
    "        self.train_kl_losses.clear()\n",
    "\n",
    "    def validation_step(self, batch, batch_idx):\n",
    "        X, _, w = batch\n",
    "\n",
    "        X_rec, mu_sigma = self(X)\n",
    "        mu, sigma = self._get_mu(mu_sigma), self._get_sigma(mu_sigma)\n",
    "\n",
    "        rec_loss = self.rec_loss(X_rec, X, w) * self.rec_loss_weight\n",
    "        kl_loss = -0.5 * torch.sum(1 + torch.log(sigma**2) - mu**2 - sigma**2) * self.kl_loss_weight\n",
    "        loss = rec_loss + kl_loss\n",
    "\n",
    "        self.val_losses.append(loss)\n",
    "        return loss\n",
    "\n",
    "    def on_validation_epoch_end(self) -> None:\n",
    "        loss = torch.stack(self.val_losses)\n",
    "        self.log('val_loss', loss.mean())\n",
    "\n",
    "        self.val_losses.clear()"
   ]
  },
  {
   "cell_type": "code",
   "execution_count": 27,
   "metadata": {},
   "outputs": [
    {
     "name": "stderr",
     "output_type": "stream",
     "text": [
      "GPU available: True (cuda), used: True\n",
      "TPU available: False, using: 0 TPU cores\n",
      "IPU available: False, using: 0 IPUs\n",
      "HPU available: False, using: 0 HPUs\n"
     ]
    }
   ],
   "source": [
    "callbacks = [\n",
    "    pl.callbacks.EarlyStopping(monitor='val_loss', patience=25, mode='min', min_delta=0.001, verbose=True),\n",
    "    pl.callbacks.ModelCheckpoint(monitor='val_loss', mode='min', save_top_k=1, verbose=True, filename='vae_best'),\n",
    "    pl.callbacks.LearningRateMonitor(logging_interval='epoch'),\n",
    "]\n",
    "\n",
    "vae_trainer = pl.Trainer(\n",
    "    accelerator='gpu',\n",
    "    max_epochs=1000,\n",
    "    callbacks=callbacks,\n",
    "    default_root_dir='logs',\n",
    "    logger=pl.loggers.TensorBoardLogger('logs/', name='vae'),\n",
    "    log_every_n_steps=30\n",
    ")"
   ]
  },
  {
   "cell_type": "code",
   "execution_count": 28,
   "metadata": {},
   "outputs": [],
   "source": [
    "vae_model = LitVariationaAutoEncoder(X_train.shape[1], 4, [64, 32, 16, 12], rec_loss=\"mse\", lr_patience=10)\n",
    "# vae_trainer.fit(vae_model, train_loader, val_loader)"
   ]
  },
  {
   "cell_type": "code",
   "execution_count": 29,
   "metadata": {},
   "outputs": [
    {
     "name": "stdout",
     "output_type": "stream",
     "text": [
      "(33333, 47) (33333,) (33333,)\n"
     ]
    },
    {
     "data": {
      "text/html": [
       "<div>\n",
       "<style scoped>\n",
       "    .dataframe tbody tr th:only-of-type {\n",
       "        vertical-align: middle;\n",
       "    }\n",
       "\n",
       "    .dataframe tbody tr th {\n",
       "        vertical-align: top;\n",
       "    }\n",
       "\n",
       "    .dataframe thead th {\n",
       "        text-align: right;\n",
       "    }\n",
       "</style>\n",
       "<table border=\"1\" class=\"dataframe\">\n",
       "  <thead>\n",
       "    <tr style=\"text-align: right;\">\n",
       "      <th></th>\n",
       "      <th>Electron_Multi</th>\n",
       "      <th>FatJet1_Eta</th>\n",
       "      <th>FatJet1_Mass</th>\n",
       "      <th>FatJet1_PT</th>\n",
       "      <th>FatJet1_Phi</th>\n",
       "      <th>FatJet1_Tau1</th>\n",
       "      <th>FatJet1_Tau2</th>\n",
       "      <th>FatJet1_Tau3</th>\n",
       "      <th>FatJet1_Tau4</th>\n",
       "      <th>FatJet1_Tau5</th>\n",
       "      <th>...</th>\n",
       "      <th>Lepton1_Eta</th>\n",
       "      <th>Lepton1_PT</th>\n",
       "      <th>Lepton1_Phi</th>\n",
       "      <th>Lepton2_Eta</th>\n",
       "      <th>Lepton2_PT</th>\n",
       "      <th>Lepton2_Phi</th>\n",
       "      <th>MissingET_MET</th>\n",
       "      <th>MissingET_Phi</th>\n",
       "      <th>Muon_Multi</th>\n",
       "      <th>ScalarHT_HT</th>\n",
       "    </tr>\n",
       "  </thead>\n",
       "  <tbody>\n",
       "    <tr>\n",
       "      <th>0</th>\n",
       "      <td>-0.861531</td>\n",
       "      <td>0.707040</td>\n",
       "      <td>1.834103</td>\n",
       "      <td>2.713935</td>\n",
       "      <td>0.549560</td>\n",
       "      <td>0.438156</td>\n",
       "      <td>0.773991</td>\n",
       "      <td>0.133431</td>\n",
       "      <td>0.003153</td>\n",
       "      <td>-0.123851</td>\n",
       "      <td>...</td>\n",
       "      <td>0.723582</td>\n",
       "      <td>3.018843</td>\n",
       "      <td>0.531446</td>\n",
       "      <td>0.493900</td>\n",
       "      <td>0.393066</td>\n",
       "      <td>0.665883</td>\n",
       "      <td>4.229605</td>\n",
       "      <td>-1.099570</td>\n",
       "      <td>1.881434</td>\n",
       "      <td>1.840378</td>\n",
       "    </tr>\n",
       "    <tr>\n",
       "      <th>1</th>\n",
       "      <td>0.201022</td>\n",
       "      <td>-0.509772</td>\n",
       "      <td>0.552497</td>\n",
       "      <td>-0.317689</td>\n",
       "      <td>1.219077</td>\n",
       "      <td>-0.056018</td>\n",
       "      <td>-0.783480</td>\n",
       "      <td>-0.846994</td>\n",
       "      <td>-0.862099</td>\n",
       "      <td>-0.879337</td>\n",
       "      <td>...</td>\n",
       "      <td>-0.555954</td>\n",
       "      <td>0.440644</td>\n",
       "      <td>1.277099</td>\n",
       "      <td>-0.233800</td>\n",
       "      <td>-0.357823</td>\n",
       "      <td>0.891786</td>\n",
       "      <td>-0.874502</td>\n",
       "      <td>-0.880855</td>\n",
       "      <td>0.820695</td>\n",
       "      <td>0.422776</td>\n",
       "    </tr>\n",
       "    <tr>\n",
       "      <th>2</th>\n",
       "      <td>1.263575</td>\n",
       "      <td>1.050506</td>\n",
       "      <td>0.899676</td>\n",
       "      <td>-0.772240</td>\n",
       "      <td>1.485154</td>\n",
       "      <td>0.791478</td>\n",
       "      <td>-0.266721</td>\n",
       "      <td>-0.318604</td>\n",
       "      <td>-0.449653</td>\n",
       "      <td>-0.481598</td>\n",
       "      <td>...</td>\n",
       "      <td>0.976244</td>\n",
       "      <td>-0.224869</td>\n",
       "      <td>1.367246</td>\n",
       "      <td>1.173231</td>\n",
       "      <td>0.051313</td>\n",
       "      <td>-1.693614</td>\n",
       "      <td>-0.449634</td>\n",
       "      <td>0.306186</td>\n",
       "      <td>-1.300784</td>\n",
       "      <td>-1.032057</td>\n",
       "    </tr>\n",
       "    <tr>\n",
       "      <th>3</th>\n",
       "      <td>1.263575</td>\n",
       "      <td>1.483801</td>\n",
       "      <td>0.036739</td>\n",
       "      <td>-0.671481</td>\n",
       "      <td>-1.590941</td>\n",
       "      <td>0.338694</td>\n",
       "      <td>1.605887</td>\n",
       "      <td>2.106680</td>\n",
       "      <td>2.423242</td>\n",
       "      <td>2.581100</td>\n",
       "      <td>...</td>\n",
       "      <td>-0.016436</td>\n",
       "      <td>-1.057522</td>\n",
       "      <td>0.457641</td>\n",
       "      <td>-0.231023</td>\n",
       "      <td>-0.327456</td>\n",
       "      <td>1.177462</td>\n",
       "      <td>-0.441918</td>\n",
       "      <td>-0.510263</td>\n",
       "      <td>-0.240044</td>\n",
       "      <td>-0.624108</td>\n",
       "    </tr>\n",
       "    <tr>\n",
       "      <th>4</th>\n",
       "      <td>1.263575</td>\n",
       "      <td>1.070681</td>\n",
       "      <td>0.712604</td>\n",
       "      <td>2.604909</td>\n",
       "      <td>-0.194666</td>\n",
       "      <td>0.348125</td>\n",
       "      <td>-0.800600</td>\n",
       "      <td>-0.939690</td>\n",
       "      <td>-0.973314</td>\n",
       "      <td>-0.938744</td>\n",
       "      <td>...</td>\n",
       "      <td>1.166216</td>\n",
       "      <td>2.437919</td>\n",
       "      <td>-0.194765</td>\n",
       "      <td>0.877542</td>\n",
       "      <td>1.924162</td>\n",
       "      <td>-0.198418</td>\n",
       "      <td>2.267726</td>\n",
       "      <td>1.423036</td>\n",
       "      <td>-1.300784</td>\n",
       "      <td>1.863904</td>\n",
       "    </tr>\n",
       "  </tbody>\n",
       "</table>\n",
       "<p>5 rows × 47 columns</p>\n",
       "</div>"
      ],
      "text/plain": [
       "   Electron_Multi  FatJet1_Eta  FatJet1_Mass  FatJet1_PT  FatJet1_Phi  \\\n",
       "0       -0.861531     0.707040      1.834103    2.713935     0.549560   \n",
       "1        0.201022    -0.509772      0.552497   -0.317689     1.219077   \n",
       "2        1.263575     1.050506      0.899676   -0.772240     1.485154   \n",
       "3        1.263575     1.483801      0.036739   -0.671481    -1.590941   \n",
       "4        1.263575     1.070681      0.712604    2.604909    -0.194666   \n",
       "\n",
       "   FatJet1_Tau1  FatJet1_Tau2  FatJet1_Tau3  FatJet1_Tau4  FatJet1_Tau5  ...  \\\n",
       "0      0.438156      0.773991      0.133431      0.003153     -0.123851  ...   \n",
       "1     -0.056018     -0.783480     -0.846994     -0.862099     -0.879337  ...   \n",
       "2      0.791478     -0.266721     -0.318604     -0.449653     -0.481598  ...   \n",
       "3      0.338694      1.605887      2.106680      2.423242      2.581100  ...   \n",
       "4      0.348125     -0.800600     -0.939690     -0.973314     -0.938744  ...   \n",
       "\n",
       "   Lepton1_Eta  Lepton1_PT  Lepton1_Phi  Lepton2_Eta  Lepton2_PT  Lepton2_Phi  \\\n",
       "0     0.723582    3.018843     0.531446     0.493900    0.393066     0.665883   \n",
       "1    -0.555954    0.440644     1.277099    -0.233800   -0.357823     0.891786   \n",
       "2     0.976244   -0.224869     1.367246     1.173231    0.051313    -1.693614   \n",
       "3    -0.016436   -1.057522     0.457641    -0.231023   -0.327456     1.177462   \n",
       "4     1.166216    2.437919    -0.194765     0.877542    1.924162    -0.198418   \n",
       "\n",
       "   MissingET_MET  MissingET_Phi  Muon_Multi  ScalarHT_HT  \n",
       "0       4.229605      -1.099570    1.881434     1.840378  \n",
       "1      -0.874502      -0.880855    0.820695     0.422776  \n",
       "2      -0.449634       0.306186   -1.300784    -1.032057  \n",
       "3      -0.441918      -0.510263   -0.240044    -0.624108  \n",
       "4       2.267726       1.423036   -1.300784     1.863904  \n",
       "\n",
       "[5 rows x 47 columns]"
      ]
     },
     "execution_count": 29,
     "metadata": {},
     "output_type": "execute_result"
    }
   ],
   "source": [
    "print(X_val.shape, y_val.shape, W_val.shape)\n",
    "\n",
    "df_val = pd.DataFrame(X_val, columns=features)\n",
    "df_val.head()"
   ]
  },
  {
   "cell_type": "code",
   "execution_count": 30,
   "metadata": {},
   "outputs": [],
   "source": [
    "# load from logs/vae/version_1/checkpoints/vae_best.ckpt\n",
    "# vae_model = LitVariationaAutoEncoder.load_from_checkpoint('logs/vae/version_8/checkpoints/vae_best.ckpt', input_dim=X_train.shape[1], latent_dim=4, arch=[64, 32, 16, 12])\n",
    "\n",
    "vae_model = vae_model.to(DEVICE)\n",
    "\n",
    "vae_model.eval()\n",
    "X_val_rec = []\n",
    "with torch.no_grad():\n",
    "    for batch, (X, _, _) in enumerate(val_loader):\n",
    "        X = X.to(DEVICE)\n",
    "\n",
    "        X_preds, _ = vae_model(X)\n",
    "\n",
    "        X_val_rec.append(X_preds.cpu().numpy())\n",
    "\n",
    "X_val_rec = np.concatenate(X_val_rec)"
   ]
  },
  {
   "cell_type": "code",
   "execution_count": 31,
   "metadata": {},
   "outputs": [
    {
     "data": {
      "text/html": [
       "<div>\n",
       "<style scoped>\n",
       "    .dataframe tbody tr th:only-of-type {\n",
       "        vertical-align: middle;\n",
       "    }\n",
       "\n",
       "    .dataframe tbody tr th {\n",
       "        vertical-align: top;\n",
       "    }\n",
       "\n",
       "    .dataframe thead th {\n",
       "        text-align: right;\n",
       "    }\n",
       "</style>\n",
       "<table border=\"1\" class=\"dataframe\">\n",
       "  <thead>\n",
       "    <tr style=\"text-align: right;\">\n",
       "      <th></th>\n",
       "      <th>Electron_Multi</th>\n",
       "      <th>FatJet1_Eta</th>\n",
       "      <th>FatJet1_Mass</th>\n",
       "      <th>FatJet1_PT</th>\n",
       "      <th>FatJet1_Phi</th>\n",
       "      <th>FatJet1_Tau1</th>\n",
       "      <th>FatJet1_Tau2</th>\n",
       "      <th>FatJet1_Tau3</th>\n",
       "      <th>FatJet1_Tau4</th>\n",
       "      <th>FatJet1_Tau5</th>\n",
       "      <th>...</th>\n",
       "      <th>Lepton1_Eta</th>\n",
       "      <th>Lepton1_PT</th>\n",
       "      <th>Lepton1_Phi</th>\n",
       "      <th>Lepton2_Eta</th>\n",
       "      <th>Lepton2_PT</th>\n",
       "      <th>Lepton2_Phi</th>\n",
       "      <th>MissingET_MET</th>\n",
       "      <th>MissingET_Phi</th>\n",
       "      <th>Muon_Multi</th>\n",
       "      <th>ScalarHT_HT</th>\n",
       "    </tr>\n",
       "  </thead>\n",
       "  <tbody>\n",
       "    <tr>\n",
       "      <th>0</th>\n",
       "      <td>-0.118570</td>\n",
       "      <td>-0.035110</td>\n",
       "      <td>0.101828</td>\n",
       "      <td>-0.018001</td>\n",
       "      <td>-0.073444</td>\n",
       "      <td>0.221539</td>\n",
       "      <td>-0.067031</td>\n",
       "      <td>-0.154781</td>\n",
       "      <td>0.060210</td>\n",
       "      <td>0.014408</td>\n",
       "      <td>...</td>\n",
       "      <td>0.038564</td>\n",
       "      <td>0.101107</td>\n",
       "      <td>-0.067135</td>\n",
       "      <td>0.105300</td>\n",
       "      <td>0.028153</td>\n",
       "      <td>-0.098890</td>\n",
       "      <td>-0.020703</td>\n",
       "      <td>0.020050</td>\n",
       "      <td>-0.033930</td>\n",
       "      <td>-0.066492</td>\n",
       "    </tr>\n",
       "    <tr>\n",
       "      <th>1</th>\n",
       "      <td>-0.116565</td>\n",
       "      <td>-0.029758</td>\n",
       "      <td>0.101521</td>\n",
       "      <td>-0.018343</td>\n",
       "      <td>-0.078973</td>\n",
       "      <td>0.224523</td>\n",
       "      <td>-0.065211</td>\n",
       "      <td>-0.158276</td>\n",
       "      <td>0.057495</td>\n",
       "      <td>0.011253</td>\n",
       "      <td>...</td>\n",
       "      <td>0.034984</td>\n",
       "      <td>0.105676</td>\n",
       "      <td>-0.063810</td>\n",
       "      <td>0.105832</td>\n",
       "      <td>0.029401</td>\n",
       "      <td>-0.096842</td>\n",
       "      <td>-0.023893</td>\n",
       "      <td>0.020827</td>\n",
       "      <td>-0.032718</td>\n",
       "      <td>-0.064126</td>\n",
       "    </tr>\n",
       "    <tr>\n",
       "      <th>2</th>\n",
       "      <td>-0.124129</td>\n",
       "      <td>-0.036589</td>\n",
       "      <td>0.100435</td>\n",
       "      <td>-0.017878</td>\n",
       "      <td>-0.065276</td>\n",
       "      <td>0.212273</td>\n",
       "      <td>-0.070588</td>\n",
       "      <td>-0.157059</td>\n",
       "      <td>0.070434</td>\n",
       "      <td>0.018468</td>\n",
       "      <td>...</td>\n",
       "      <td>0.044178</td>\n",
       "      <td>0.099769</td>\n",
       "      <td>-0.069190</td>\n",
       "      <td>0.103468</td>\n",
       "      <td>0.033380</td>\n",
       "      <td>-0.098766</td>\n",
       "      <td>-0.021135</td>\n",
       "      <td>0.025282</td>\n",
       "      <td>-0.027558</td>\n",
       "      <td>-0.066564</td>\n",
       "    </tr>\n",
       "    <tr>\n",
       "      <th>3</th>\n",
       "      <td>-0.122084</td>\n",
       "      <td>-0.035348</td>\n",
       "      <td>0.102522</td>\n",
       "      <td>-0.021456</td>\n",
       "      <td>-0.068887</td>\n",
       "      <td>0.217361</td>\n",
       "      <td>-0.069137</td>\n",
       "      <td>-0.153930</td>\n",
       "      <td>0.068081</td>\n",
       "      <td>0.018348</td>\n",
       "      <td>...</td>\n",
       "      <td>0.041095</td>\n",
       "      <td>0.099717</td>\n",
       "      <td>-0.070509</td>\n",
       "      <td>0.108045</td>\n",
       "      <td>0.028820</td>\n",
       "      <td>-0.100830</td>\n",
       "      <td>-0.020389</td>\n",
       "      <td>0.022032</td>\n",
       "      <td>-0.033880</td>\n",
       "      <td>-0.069514</td>\n",
       "    </tr>\n",
       "    <tr>\n",
       "      <th>4</th>\n",
       "      <td>-0.119179</td>\n",
       "      <td>-0.032069</td>\n",
       "      <td>0.100390</td>\n",
       "      <td>-0.017357</td>\n",
       "      <td>-0.070995</td>\n",
       "      <td>0.219832</td>\n",
       "      <td>-0.064639</td>\n",
       "      <td>-0.158530</td>\n",
       "      <td>0.061195</td>\n",
       "      <td>0.014559</td>\n",
       "      <td>...</td>\n",
       "      <td>0.040719</td>\n",
       "      <td>0.104308</td>\n",
       "      <td>-0.065836</td>\n",
       "      <td>0.104190</td>\n",
       "      <td>0.032243</td>\n",
       "      <td>-0.097491</td>\n",
       "      <td>-0.021846</td>\n",
       "      <td>0.021934</td>\n",
       "      <td>-0.027294</td>\n",
       "      <td>-0.063422</td>\n",
       "    </tr>\n",
       "  </tbody>\n",
       "</table>\n",
       "<p>5 rows × 47 columns</p>\n",
       "</div>"
      ],
      "text/plain": [
       "   Electron_Multi  FatJet1_Eta  FatJet1_Mass  FatJet1_PT  FatJet1_Phi  \\\n",
       "0       -0.118570    -0.035110      0.101828   -0.018001    -0.073444   \n",
       "1       -0.116565    -0.029758      0.101521   -0.018343    -0.078973   \n",
       "2       -0.124129    -0.036589      0.100435   -0.017878    -0.065276   \n",
       "3       -0.122084    -0.035348      0.102522   -0.021456    -0.068887   \n",
       "4       -0.119179    -0.032069      0.100390   -0.017357    -0.070995   \n",
       "\n",
       "   FatJet1_Tau1  FatJet1_Tau2  FatJet1_Tau3  FatJet1_Tau4  FatJet1_Tau5  ...  \\\n",
       "0      0.221539     -0.067031     -0.154781      0.060210      0.014408  ...   \n",
       "1      0.224523     -0.065211     -0.158276      0.057495      0.011253  ...   \n",
       "2      0.212273     -0.070588     -0.157059      0.070434      0.018468  ...   \n",
       "3      0.217361     -0.069137     -0.153930      0.068081      0.018348  ...   \n",
       "4      0.219832     -0.064639     -0.158530      0.061195      0.014559  ...   \n",
       "\n",
       "   Lepton1_Eta  Lepton1_PT  Lepton1_Phi  Lepton2_Eta  Lepton2_PT  Lepton2_Phi  \\\n",
       "0     0.038564    0.101107    -0.067135     0.105300    0.028153    -0.098890   \n",
       "1     0.034984    0.105676    -0.063810     0.105832    0.029401    -0.096842   \n",
       "2     0.044178    0.099769    -0.069190     0.103468    0.033380    -0.098766   \n",
       "3     0.041095    0.099717    -0.070509     0.108045    0.028820    -0.100830   \n",
       "4     0.040719    0.104308    -0.065836     0.104190    0.032243    -0.097491   \n",
       "\n",
       "   MissingET_MET  MissingET_Phi  Muon_Multi  ScalarHT_HT  \n",
       "0      -0.020703       0.020050   -0.033930    -0.066492  \n",
       "1      -0.023893       0.020827   -0.032718    -0.064126  \n",
       "2      -0.021135       0.025282   -0.027558    -0.066564  \n",
       "3      -0.020389       0.022032   -0.033880    -0.069514  \n",
       "4      -0.021846       0.021934   -0.027294    -0.063422  \n",
       "\n",
       "[5 rows x 47 columns]"
      ]
     },
     "execution_count": 31,
     "metadata": {},
     "output_type": "execute_result"
    }
   ],
   "source": [
    "X_val_rec.shape\n",
    "\n",
    "df_val_rec = pd.DataFrame(X_val_rec, columns=features)\n",
    "df_val_rec.head()"
   ]
  },
  {
   "cell_type": "code",
   "execution_count": 32,
   "metadata": {},
   "outputs": [],
   "source": [
    "loss = []\n",
    "with torch.no_grad():\n",
    "    for (X, _, w) in val_loader:\n",
    "        X = X.to(DEVICE)\n",
    "        w = w.to(DEVICE)\n",
    "\n",
    "        X_preds, _ = vae_model(X)\n",
    "\n",
    "        loss.append(torch.einsum('ij,i->ij', torch.abs(X_preds - X), w).sum(dim=1))\n",
    "\n",
    "loss = torch.cat(loss).cpu().numpy()"
   ]
  },
  {
   "cell_type": "code",
   "execution_count": 33,
   "metadata": {},
   "outputs": [
    {
     "data": {
      "image/png": "[encoded data removed]",
      "text/plain": [
       "<Figure size 640x480 with 1 Axes>"
      ]
     },
     "metadata": {},
     "output_type": "display_data"
    }
   ],
   "source": [
    "plt.hist(loss[y_val == BKG], bins=100, density=True, alpha=0.5, label=\"Background\")\n",
    "plt.hist(loss[y_val == SIGNAL], bins=100, density=True, alpha=0.5, label=\"Signal\")\n",
    "plt.grid(True, linestyle='--', alpha=0.5)\n",
    "plt.yscale(\"log\")\n",
    "plt.legend()\n",
    "plt.show()"
   ]
  },
  {
   "cell_type": "code",
   "execution_count": 34,
   "metadata": {},
   "outputs": [
    {
     "data": {
      "image/png": "[encoded data removed]",
      "text/plain": [
       "<Figure size 640x480 with 1 Axes>"
      ]
     },
     "metadata": {},
     "output_type": "display_data"
    },
    {
     "data": {
      "text/plain": [
       "0.9946919469482103"
      ]
     },
     "execution_count": 34,
     "metadata": {},
     "output_type": "execute_result"
    }
   ],
   "source": [
    "fpr, tpr, _ = roc_curve(y_val, loss)#, sample_weight=W_val)\n",
    "plt.plot(fpr, tpr)\n",
    "plt.plot([0, 1], [0, 1], linestyle='--')\n",
    "plt.grid(True, linestyle='--', alpha=0.5)\n",
    "plt.show()\n",
    "roc_auc_score(y_val, loss)"
   ]
  }
 ],
 "metadata": {
  "kernelspec": {
   "display_name": "cLip",
   "language": "python",
   "name": "python3"
  },
  "language_info": {
   "codemirror_mode": {
    "name": "ipython",
    "version": 3
   },
   "file_extension": ".py",
   "mimetype": "text/x-python",
   "name": "python",
   "nbconvert_exporter": "python",
   "pygments_lexer": "ipython3",
   "version": "3.9.16"
  },
  "orig_nbformat": 4
 },
 "nbformat": 4,
 "nbformat_minor": 2
}
